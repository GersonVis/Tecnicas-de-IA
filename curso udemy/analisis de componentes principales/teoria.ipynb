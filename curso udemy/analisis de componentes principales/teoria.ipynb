{
 "cells": [
  {
   "cell_type": "markdown",
   "metadata": {},
   "source": [
    "## Teoría\n",
    "Rebajar la complejidad del los algoritmos es una tareá para evitar que los calculos sean extensos, pero si reducimos dimensiones al problema se perderá capacidad de analísis, pero se agilizará el trabajo"
   ]
  },
  {
   "cell_type": "markdown",
   "metadata": {},
   "source": [
    "## Análisis de componentes principales\n",
    "Se reduce la dimensionalidad del conjunto de datos, pero se pierde un poco la varianza, se busca la proyección por medio de la cual los datos queden mejor representados, en base a los mínimos cuadrados, convierte variables que presentan correlación lineal en un conjunto de variables sin correlación, que son las componentes principales "
   ]
  },
  {
   "cell_type": "markdown",
   "metadata": {},
   "source": [
    "Las variables aportan información al dataset, algunas veces las variables pueden ser repetitivas o quitar una variable no afecta demasiado a la información que proporciona el dataset."
   ]
  },
  {
   "cell_type": "markdown",
   "metadata": {},
   "source": [
    "### La solución de pearson\n",
    "Para estudiar las relaciones que se presentan entre p variables correlacionadas(con información común) se puede transformar el conjunto original de variables en otro conjunto de nuevas variables incorreladas entre si(que no tengan redundancia en la información) llamado conjunto de **componentes principales**.\n",
    "\n",
    "Las nuevas variables son combinaciones lineales de las anteriores y se van construyendo según el orden de importancia en cuanto a la variabilidad total que recogen de la muestra."
   ]
  },
  {
   "cell_type": "markdown",
   "metadata": {},
   "source": [
    "## Análisis de componentes principales Paso a Paso\n",
    "* Estandarizar los datos, para cada una de las N observaciones.\n",
    "* Obtener los vectores y valores propios a partir de la matriz de covarianzas o de correlaciones o incluso ejecutar la técnica singular vector decomposition.\n",
    "* Ordenar los valores propios en ordes descendente y quedarnos con los *p* que se correspondan con los p mayores y así disminuir el número de variables del dataset (P<M )\n",
    "* Construir la matriz de proyección W a partir de los vectores propios \n",
    "* Transformar el dataset original X através de w para así obtener datos en el sub espacio dimensional de dimensión p que será Y "
   ]
  },
  {
   "cell_type": "markdown",
   "metadata": {},
   "source": []
  }
 ],
 "metadata": {
  "kernelspec": {
   "display_name": "Python 3.7.5 64-bit",
   "language": "python",
   "name": "python3"
  },
  "language_info": {
   "name": "python",
   "version": "3.7.5"
  },
  "orig_nbformat": 4,
  "vscode": {
   "interpreter": {
    "hash": "e310ee305116be7a1f6c3fc36efd30b44e9b58a3d111aad7f613c214e7b9dffb"
   }
  }
 },
 "nbformat": 4,
 "nbformat_minor": 2
}
