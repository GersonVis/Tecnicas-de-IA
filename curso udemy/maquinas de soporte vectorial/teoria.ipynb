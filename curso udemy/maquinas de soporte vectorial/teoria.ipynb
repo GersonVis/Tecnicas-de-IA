{
 "cells": [
  {
   "cell_type": "markdown",
   "metadata": {},
   "source": [
    "## Maquinas de soporte vectorial\n",
    "Los algóritmos vistos tienen problemas con los cluster que tienden a ser convexos o circulares, es muy útil cuando los datos están mezclados.\n",
    "Son algóritmos supervisados, y es necesario un conjunto de datos cada uno etiquetado por uno o varias clases y se entrena la máquina para predecir la muestra que se suministre a dicho módelo, es un módelo que representa a los puntos en el espacio vectorial que toque, en tantas dimensiones como columnas tengamos "
   ]
  },
  {
   "cell_type": "markdown",
   "metadata": {},
   "source": [
    "El hiperplano maximizador del márgen o perceptron de estabilidad óptima"
   ]
  },
  {
   "cell_type": "markdown",
   "metadata": {},
   "source": [
    "Cualquier punto de X que este en el hiperplano separador"
   ]
  },
  {
   "cell_type": "markdown",
   "metadata": {},
   "source": [
    "Se debe maximizar el margen"
   ]
  }
 ],
 "metadata": {
  "kernelspec": {
   "display_name": "Python 3.7.5 64-bit",
   "language": "python",
   "name": "python3"
  },
  "language_info": {
   "name": "python",
   "version": "3.7.5"
  },
  "orig_nbformat": 4,
  "vscode": {
   "interpreter": {
    "hash": "e310ee305116be7a1f6c3fc36efd30b44e9b58a3d111aad7f613c214e7b9dffb"
   }
  }
 },
 "nbformat": 4,
 "nbformat_minor": 2
}
