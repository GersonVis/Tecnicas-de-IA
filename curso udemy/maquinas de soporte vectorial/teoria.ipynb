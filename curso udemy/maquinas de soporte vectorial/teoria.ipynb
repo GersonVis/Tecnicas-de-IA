{
 "cells": [
  {
   "cell_type": "markdown",
   "metadata": {},
   "source": [
    "## Maquinas de soporte vectorial\n",
    "Los algóritmos vistos tienen problemas con los cluster que tienden a ser convexos o circulares, es muy útil cuando los datos están mezclados.\n",
    "Son algóritmos supervisados, y es necesario un conjunto de datos cada uno etiquetado por uno o varias clases y se entrena la máquina para predecir la muestra que se suministre a dicho módelo, es un módelo que representa a los puntos en el espacio vectorial que toque, en tantas dimensiones como columnas tengamos "
   ]
  },
  {
   "cell_type": "markdown",
   "metadata": {},
   "source": [
    "El hiperplano maximizador del márgen o perceptron de estabilidad óptima"
   ]
  },
  {
   "cell_type": "markdown",
   "metadata": {},
   "source": [
    "Cualquier punto de X que este en el hiperplano separador"
   ]
  },
  {
   "cell_type": "markdown",
   "metadata": {},
   "source": [
    "Se debe maximizar el margen"
   ]
  },
  {
   "cell_type": "markdown",
   "metadata": {},
   "source": [
    "## Separación de margen\n",
    "Es imposible conseguir una separación de margen completo, por eso se debe conseguir una separación de margen débil\n",
    "> Support Vector Classifier, clasificador de soporte vectorial: Problema de no tener información separable "
   ]
  },
  {
   "cell_type": "markdown",
   "metadata": {},
   "source": [
    "Algunos puntos caerán en el lado equivocado del margen"
   ]
  },
  {
   "cell_type": "markdown",
   "metadata": {},
   "source": [
    "El problema de Lagrange\n",
    "Karusb-kubn-tucker"
   ]
  },
  {
   "cell_type": "markdown",
   "metadata": {},
   "source": [
    "## Los núcleos no lineales y el problema de la dimensión\n",
    "## El truco del kernel\n",
    "Método para el análisis de patrones, deben su nombre al uso de funciones de núcleo, que les permiten operar en un espacio de características implícito y de alta dimensión sin tener que calcular nunca las coordenadas de los datos en ese espacio, si no simplemente calculando los productos internos entre imágenes de todos los pares de datos en el espacio de características\n",
    "> Transforma los datos en dimensiones superiores, ofrece una forma más eficiente y menos costosa de transformar los datos en dimensiones superiores"
   ]
  },
  {
   "cell_type": "markdown",
   "metadata": {},
   "source": [
    "Solo es para pequeñas cantidades de datos"
   ]
  },
  {
   "cell_type": "markdown",
   "metadata": {},
   "source": [
    "## Los kernel más usados\n",
    "* polinominial\n",
    "* radial\n",
    "* red neuronal"
   ]
  },
  {
   "cell_type": "markdown",
   "metadata": {},
   "source": []
  }
 ],
 "metadata": {
  "kernelspec": {
   "display_name": "Python 3.7.5 64-bit",
   "language": "python",
   "name": "python3"
  },
  "language_info": {
   "name": "python",
   "version": "3.7.5"
  },
  "orig_nbformat": 4,
  "vscode": {
   "interpreter": {
    "hash": "e310ee305116be7a1f6c3fc36efd30b44e9b58a3d111aad7f613c214e7b9dffb"
   }
  }
 },
 "nbformat": 4,
 "nbformat_minor": 2
}
