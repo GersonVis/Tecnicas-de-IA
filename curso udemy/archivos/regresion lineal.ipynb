{
 "cells": [
  {
   "cell_type": "markdown",
   "metadata": {},
   "source": [
    "# Modelos supervisados\n",
    "requieren de datos historicos"
   ]
  },
  {
   "cell_type": "markdown",
   "metadata": {},
   "source": [
    "## Regresión lineal los minimos cuadrados\n",
    "**minimizar la diferencia, encontrar el valor con menor diferencia**"
   ]
  },
  {
   "cell_type": "markdown",
   "metadata": {},
   "source": [
    "Formúla de la diferencia entre el valor estimado y el valor real\n",
    ">**e=(y-Y(x))**\n",
    "> \n",
    "El objetivo es minimizar la suma de los errores al cuadrado\n",
    ">\n",
    "sobre todos los puntos del data set: \n",
    ">\n",
    "\n",
    "<img src=https://anestesiar.org/WP/uploads/2020/04/regresi%C3%B3n-lineal_formula-5.jpg>"
   ]
  },
  {
   "cell_type": "markdown",
   "metadata": {},
   "source": [
    "### Tipos de variables\n",
    "* variable predictora, es la que tenemos\n",
    "* variable de salida, la que queremos saber"
   ]
  },
  {
   "cell_type": "markdown",
   "metadata": {},
   "source": [
    "### Problema\n",
    "Modelar el precio de los pisos según su superficie en metros cuadrados"
   ]
  },
  {
   "cell_type": "markdown",
   "metadata": {},
   "source": [
    "Variables\n",
    "* superficie, variable predictora\n",
    "* costo, variable de salida"
   ]
  },
  {
   "cell_type": "markdown",
   "metadata": {},
   "source": [
    "#### Ecuación\n",
    "costo=n+b+supericie"
   ]
  },
  {
   "cell_type": "markdown",
   "metadata": {},
   "source": [
    "## Proceso\n",
    "con lo datos historicos podríamos crear un modelo lineal y obtener los posibles valores de alfa y beta.\n",
    "\n"
   ]
  },
  {
   "cell_type": "markdown",
   "metadata": {},
   "source": [
    "* alfa: 86.96\n",
    "* beta: 2.37"
   ]
  },
  {
   "cell_type": "markdown",
   "metadata": {},
   "source": [
    "#### Modelo lineal\n",
    "\n",
    " Formúla: \n",
    " >**Y=86.96+2.37*x**\n",
    " > \n",
    " el precio de la renta es igual a sumar alfa más beta por el número de metros cuadrados\n",
    "\n"
   ]
  },
  {
   "cell_type": "markdown",
   "metadata": {},
   "source": [
    "##### Aplicación\n",
    "Para un departamento de 110m^2 el costo sería de 347.66 pesos \n",
    "> **Y=86.96+2.37*110=347.66**"
   ]
  },
  {
   "cell_type": "markdown",
   "metadata": {},
   "source": [
    "## Demostración de la obtencion de los valores de un modelo lineal"
   ]
  },
  {
   "cell_type": "markdown",
   "metadata": {},
   "source": [
    "## la componente de error"
   ]
  },
  {
   "cell_type": "markdown",
   "metadata": {},
   "source": [
    "No siempre será lineal el modelo necesitamos comprobar que es lineal teniendo los errores, verificando el gradod de error que se tiene"
   ]
  },
  {
   "cell_type": "markdown",
   "metadata": {},
   "source": [
    "# Regresion lineal modelo con datos simulados"
   ]
  },
  {
   "cell_type": "markdown",
   "metadata": {},
   "source": [
    "Modelo con datos simulados\n",
    "* y = a + b *x\n",
    "* x: 100 valores distribuidos segun una media de 1.5 y una desviación de 2.5 N(1.5, 2.5) \n",
    "* Ye (y estimada): una intersección al origen en 5 con una pendiente de 1.9 y una pendiente de error = 5+1.9*x+e\n",
    "* e: estará distribuida según una normal de media 0 y una desviacion de 0.8 N(0,.8)"
   ]
  },
  {
   "cell_type": "code",
   "execution_count": 2,
   "metadata": {},
   "outputs": [],
   "source": [
    "import numpy as np\n",
    "import pandas as pd\n",
    "import matplotlib.pyplot as plt"
   ]
  },
  {
   "cell_type": "code",
   "execution_count": 3,
   "metadata": {},
   "outputs": [
    {
     "data": {
      "text/plain": [
       "(array([ 3.,  3.,  8.,  9., 14., 20., 26., 12.,  0.,  5.]),\n",
       " array([-5.27111741, -3.98609424, -2.70107106, -1.41604789, -0.13102472,\n",
       "         1.15399845,  2.43902162,  3.72404479,  5.00906796,  6.29409113,\n",
       "         7.57911431]),\n",
       " <BarContainer object of 10 artists>)"
      ]
     },
     "execution_count": 3,
     "metadata": {},
     "output_type": "execute_result"
    },
    {
     "data": {
      "image/png": "[encoded data removed]",
      "text/plain": [
       "<Figure size 432x288 with 1 Axes>"
      ]
     },
     "metadata": {
      "needs_background": "light"
     },
     "output_type": "display_data"
    }
   ],
   "source": [
    "x=1.5+2.5*np.random.randn(100)\n",
    "#np.random.normal(1.5, 2.5, 100)\n",
    "plt.hist(x)"
   ]
  },
  {
   "cell_type": "code",
   "execution_count": 4,
   "metadata": {},
   "outputs": [
    {
     "data": {
      "text/plain": [
       "(array([ 1.,  1.,  1., 11., 10., 18., 17., 19., 18.,  4.]),\n",
       " array([-2.65033322, -2.21709533, -1.78385744, -1.35061955, -0.91738166,\n",
       "        -0.48414378, -0.05090589,  0.382332  ,  0.81556989,  1.24880778,\n",
       "         1.68204567]),\n",
       " <BarContainer object of 10 artists>)"
      ]
     },
     "execution_count": 4,
     "metadata": {},
     "output_type": "execute_result"
    },
    {
     "data": {
      "image/png": "[encoded data removed]",
      "text/plain": [
       "<Figure size 432x288 with 1 Axes>"
      ]
     },
     "metadata": {
      "needs_background": "light"
     },
     "output_type": "display_data"
    }
   ],
   "source": [
    "res=0+0.8*np.random.randn(100)\n",
    "plt.hist(res)"
   ]
  },
  {
   "cell_type": "code",
   "execution_count": 5,
   "metadata": {},
   "outputs": [
    {
     "data": {
      "text/plain": [
       "(array([ 3.,  3.,  8.,  9., 14., 20., 26., 12.,  0.,  5.]),\n",
       " array([-5.01512307, -2.57357905, -0.13203502,  2.309509  ,  4.75105303,\n",
       "         7.19259705,  9.63414108, 12.0756851 , 14.51722913, 16.95877316,\n",
       "        19.40031718]),\n",
       " <BarContainer object of 10 artists>)"
      ]
     },
     "execution_count": 5,
     "metadata": {},
     "output_type": "execute_result"
    },
    {
     "data": {
      "image/png": "[encoded data removed]",
      "text/plain": [
       "<Figure size 432x288 with 1 Axes>"
      ]
     },
     "metadata": {
      "needs_background": "light"
     },
     "output_type": "display_data"
    }
   ],
   "source": [
    "y_prediccion=5+1.9*x\n",
    "plt.hist(y_prediccion)"
   ]
  },
  {
   "cell_type": "code",
   "execution_count": 6,
   "metadata": {},
   "outputs": [
    {
     "data": {
      "text/plain": [
       "(array([ 3.,  6.,  6., 12., 14., 25., 20.,  8.,  2.,  4.]),\n",
       " array([-4.16058124, -1.72226113,  0.71605897,  3.15437908,  5.59269919,\n",
       "         8.03101929, 10.4693394 , 12.90765951, 15.34597961, 17.78429972,\n",
       "        20.22261983]),\n",
       " <BarContainer object of 10 artists>)"
      ]
     },
     "execution_count": 6,
     "metadata": {},
     "output_type": "execute_result"
    },
    {
     "data": {
      "image/png": "[encoded data removed]",
      "text/plain": [
       "<Figure size 432x288 with 1 Axes>"
      ]
     },
     "metadata": {
      "needs_background": "light"
     },
     "output_type": "display_data"
    }
   ],
   "source": [
    "y_act=5+1.9*x+res\n",
    "plt.hist(y_act)"
   ]
  },
  {
   "cell_type": "code",
   "execution_count": 7,
   "metadata": {},
   "outputs": [],
   "source": [
    "## convertir a listas los datos\n",
    "x_list=x.tolist()\n",
    "y_pred_list=y_prediccion.tolist()\n",
    "y_act_list=y_act.tolist()"
   ]
  },
  {
   "cell_type": "code",
   "execution_count": 8,
   "metadata": {},
   "outputs": [
    {
     "data": {
      "text/html": [
       "<div>\n",
       "<style scoped>\n",
       "    .dataframe tbody tr th:only-of-type {\n",
       "        vertical-align: middle;\n",
       "    }\n",
       "\n",
       "    .dataframe tbody tr th {\n",
       "        vertical-align: top;\n",
       "    }\n",
       "\n",
       "    .dataframe thead th {\n",
       "        text-align: right;\n",
       "    }\n",
       "</style>\n",
       "<table border=\"1\" class=\"dataframe\">\n",
       "  <thead>\n",
       "    <tr style=\"text-align: right;\">\n",
       "      <th></th>\n",
       "      <th>x</th>\n",
       "      <th>y_actual</th>\n",
       "      <th>y_predicion</th>\n",
       "    </tr>\n",
       "  </thead>\n",
       "  <tbody>\n",
       "    <tr>\n",
       "      <th>0</th>\n",
       "      <td>-0.278892</td>\n",
       "      <td>4.187723</td>\n",
       "      <td>4.470105</td>\n",
       "    </tr>\n",
       "    <tr>\n",
       "      <th>1</th>\n",
       "      <td>3.461681</td>\n",
       "      <td>12.566614</td>\n",
       "      <td>11.577194</td>\n",
       "    </tr>\n",
       "    <tr>\n",
       "      <th>2</th>\n",
       "      <td>3.350744</td>\n",
       "      <td>12.105422</td>\n",
       "      <td>11.366413</td>\n",
       "    </tr>\n",
       "    <tr>\n",
       "      <th>3</th>\n",
       "      <td>2.031030</td>\n",
       "      <td>8.920678</td>\n",
       "      <td>8.858956</td>\n",
       "    </tr>\n",
       "    <tr>\n",
       "      <th>4</th>\n",
       "      <td>3.361658</td>\n",
       "      <td>11.314794</td>\n",
       "      <td>11.387150</td>\n",
       "    </tr>\n",
       "    <tr>\n",
       "      <th>...</th>\n",
       "      <td>...</td>\n",
       "      <td>...</td>\n",
       "      <td>...</td>\n",
       "    </tr>\n",
       "    <tr>\n",
       "      <th>95</th>\n",
       "      <td>-2.048441</td>\n",
       "      <td>0.507801</td>\n",
       "      <td>1.107962</td>\n",
       "    </tr>\n",
       "    <tr>\n",
       "      <th>96</th>\n",
       "      <td>4.625199</td>\n",
       "      <td>14.174695</td>\n",
       "      <td>13.787877</td>\n",
       "    </tr>\n",
       "    <tr>\n",
       "      <th>97</th>\n",
       "      <td>-0.362353</td>\n",
       "      <td>4.549921</td>\n",
       "      <td>4.311529</td>\n",
       "    </tr>\n",
       "    <tr>\n",
       "      <th>98</th>\n",
       "      <td>4.924716</td>\n",
       "      <td>13.848985</td>\n",
       "      <td>14.356960</td>\n",
       "    </tr>\n",
       "    <tr>\n",
       "      <th>99</th>\n",
       "      <td>2.814366</td>\n",
       "      <td>9.402501</td>\n",
       "      <td>10.347295</td>\n",
       "    </tr>\n",
       "  </tbody>\n",
       "</table>\n",
       "<p>100 rows × 3 columns</p>\n",
       "</div>"
      ],
      "text/plain": [
       "           x   y_actual  y_predicion\n",
       "0  -0.278892   4.187723     4.470105\n",
       "1   3.461681  12.566614    11.577194\n",
       "2   3.350744  12.105422    11.366413\n",
       "3   2.031030   8.920678     8.858956\n",
       "4   3.361658  11.314794    11.387150\n",
       "..       ...        ...          ...\n",
       "95 -2.048441   0.507801     1.107962\n",
       "96  4.625199  14.174695    13.787877\n",
       "97 -0.362353   4.549921     4.311529\n",
       "98  4.924716  13.848985    14.356960\n",
       "99  2.814366   9.402501    10.347295\n",
       "\n",
       "[100 rows x 3 columns]"
      ]
     },
     "execution_count": 8,
     "metadata": {},
     "output_type": "execute_result"
    }
   ],
   "source": [
    "## crear dataframe\n",
    "dataframe=pd.DataFrame({\n",
    "    \"x\": x_list,\n",
    "    \"y_actual\": y_act_list,\n",
    "    \"y_predicion\": y_pred_list\n",
    "})\n",
    "dataframe"
   ]
  },
  {
   "cell_type": "code",
   "execution_count": 9,
   "metadata": {},
   "outputs": [],
   "source": [
    "## obtener el promedio de las y\n",
    "y_mean=y_act.tolist()"
   ]
  },
  {
   "cell_type": "code",
   "execution_count": 10,
   "metadata": {},
   "outputs": [],
   "source": [
    "#asignar el promedio de y_actual por cada posicion de x\n",
    "y_mean=y_act.mean()*np.ones(len(x))\n",
    "y_mean=y_mean.tolist()"
   ]
  },
  {
   "cell_type": "code",
   "execution_count": 11,
   "metadata": {},
   "outputs": [
    {
     "data": {
      "text/plain": [
       "Text(0.5, 1.0, 'Valor actual vs predicción')"
      ]
     },
     "execution_count": 11,
     "metadata": {},
     "output_type": "execute_result"
    },
    {
     "data": {
      "image/png": "[encoded data removed]",
      "text/plain": [
       "<Figure size 432x288 with 1 Axes>"
      ]
     },
     "metadata": {
      "needs_background": "light"
     },
     "output_type": "display_data"
    }
   ],
   "source": [
    "%matplotlib inline\n",
    "plt.plot(x, y_pred_list, \"bo\")\n",
    "plt.plot(x, y_act, \"ro\")\n",
    "plt.plot(x, y_mean)\n",
    "plt.title(\"Valor actual vs predicción\")"
   ]
  },
  {
   "cell_type": "markdown",
   "metadata": {},
   "source": [
    "El modelo no puede explicar por que un dato se separa mucho o poco de la predición a esa separacion se le llama SSD\n",
    "* **SSE**: suma de los cuadrados de las diferencias, la diferencia entre el esperado y el dato\n",
    "* **SST**: la suma de los cuadrados totales, la diferencia entre el dato y el promedio\n",
    "* **SSR**: suma de los cuadrados de la regresión, la diferencia entre la prediccion(la recta) y el promedio\n",
    "> ***Nota***: Esto se hace con cada uno de los datos\n",
    "> \n",
    ">**SST**: SSR+SSE es la suma de los otros dos\n",
    ">\n",
    "> SSR viene explicada por el modelo por una desviación estandar\n",
    ">\n",
    "> SSE no viene explicada por el modelo y se debe distribuir de manera aleatoria"
   ]
  },
  {
   "cell_type": "markdown",
   "metadata": {},
   "source": [
    "Es necesario que el error SSE, el error no explicado sea minimo para que su valor no afecté demasiado al modelo"
   ]
  },
  {
   "cell_type": "markdown",
   "metadata": {},
   "source": [
    "R2=SSR/SST, siempre será menor a uno, entre más cerca este de uno mejor será el modelo\n",
    "> R2(cuadrado), no sicnifica que este bien el modelo, solo es uno de tantos factores para decir que es bueno el modelo"
   ]
  },
  {
   "cell_type": "markdown",
   "metadata": {},
   "source": [
    "<img src=\"https://www.researchgate.net/profile/Christian-Gold/publication/322398615/figure/fig17/AS:581620512903169@1515680544091/Visualization-of-SSE-SSR-SST.png\">"
   ]
  },
  {
   "cell_type": "code",
   "execution_count": 12,
   "metadata": {},
   "outputs": [],
   "source": [
    "## agregar los datos datos de las diferencias al dataset\n",
    "dataframe[\"SST\"]=(dataframe[\"y_predicion\"]-np.mean(y_act))**2\n",
    "dataframe[\"SSR\"]=(dataframe[\"y_predicion\"]-dataframe[\"y_actual\"])**2\n",
    "dataframe[\"SSD\"]=(dataframe[\"y_actual\"]-np.mean(y_act))**2"
   ]
  },
  {
   "cell_type": "code",
   "execution_count": 13,
   "metadata": {},
   "outputs": [
    {
     "data": {
      "text/html": [
       "<div>\n",
       "<style scoped>\n",
       "    .dataframe tbody tr th:only-of-type {\n",
       "        vertical-align: middle;\n",
       "    }\n",
       "\n",
       "    .dataframe tbody tr th {\n",
       "        vertical-align: top;\n",
       "    }\n",
       "\n",
       "    .dataframe thead th {\n",
       "        text-align: right;\n",
       "    }\n",
       "</style>\n",
       "<table border=\"1\" class=\"dataframe\">\n",
       "  <thead>\n",
       "    <tr style=\"text-align: right;\">\n",
       "      <th></th>\n",
       "      <th>x</th>\n",
       "      <th>y_actual</th>\n",
       "      <th>y_predicion</th>\n",
       "      <th>SST</th>\n",
       "      <th>SSR</th>\n",
       "      <th>SSD</th>\n",
       "    </tr>\n",
       "  </thead>\n",
       "  <tbody>\n",
       "    <tr>\n",
       "      <th>0</th>\n",
       "      <td>-0.278892</td>\n",
       "      <td>4.187723</td>\n",
       "      <td>4.470105</td>\n",
       "      <td>15.025244</td>\n",
       "      <td>0.079740</td>\n",
       "      <td>17.294144</td>\n",
       "    </tr>\n",
       "    <tr>\n",
       "      <th>1</th>\n",
       "      <td>3.461681</td>\n",
       "      <td>12.566614</td>\n",
       "      <td>11.577194</td>\n",
       "      <td>10.438376</td>\n",
       "      <td>0.978953</td>\n",
       "      <td>17.810663</td>\n",
       "    </tr>\n",
       "    <tr>\n",
       "      <th>2</th>\n",
       "      <td>3.350744</td>\n",
       "      <td>12.105422</td>\n",
       "      <td>11.366413</td>\n",
       "      <td>9.120805</td>\n",
       "      <td>0.546134</td>\n",
       "      <td>14.130650</td>\n",
       "    </tr>\n",
       "    <tr>\n",
       "      <th>3</th>\n",
       "      <td>2.031030</td>\n",
       "      <td>8.920678</td>\n",
       "      <td>8.858956</td>\n",
       "      <td>0.262769</td>\n",
       "      <td>0.003810</td>\n",
       "      <td>0.329857</td>\n",
       "    </tr>\n",
       "    <tr>\n",
       "      <th>4</th>\n",
       "      <td>3.361658</td>\n",
       "      <td>11.314794</td>\n",
       "      <td>11.387150</td>\n",
       "      <td>9.246490</td>\n",
       "      <td>0.005235</td>\n",
       "      <td>8.811680</td>\n",
       "    </tr>\n",
       "    <tr>\n",
       "      <th>...</th>\n",
       "      <td>...</td>\n",
       "      <td>...</td>\n",
       "      <td>...</td>\n",
       "      <td>...</td>\n",
       "      <td>...</td>\n",
       "      <td>...</td>\n",
       "    </tr>\n",
       "    <tr>\n",
       "      <th>95</th>\n",
       "      <td>-2.048441</td>\n",
       "      <td>0.507801</td>\n",
       "      <td>1.107962</td>\n",
       "      <td>52.394213</td>\n",
       "      <td>0.360193</td>\n",
       "      <td>61.442793</td>\n",
       "    </tr>\n",
       "    <tr>\n",
       "      <th>96</th>\n",
       "      <td>4.625199</td>\n",
       "      <td>14.174695</td>\n",
       "      <td>13.787877</td>\n",
       "      <td>29.610260</td>\n",
       "      <td>0.149628</td>\n",
       "      <td>33.969650</td>\n",
       "    </tr>\n",
       "    <tr>\n",
       "      <th>97</th>\n",
       "      <td>-0.362353</td>\n",
       "      <td>4.549921</td>\n",
       "      <td>4.311529</td>\n",
       "      <td>16.279753</td>\n",
       "      <td>0.056831</td>\n",
       "      <td>14.412842</td>\n",
       "    </tr>\n",
       "    <tr>\n",
       "      <th>98</th>\n",
       "      <td>4.924716</td>\n",
       "      <td>13.848985</td>\n",
       "      <td>14.356960</td>\n",
       "      <td>36.127481</td>\n",
       "      <td>0.258039</td>\n",
       "      <td>30.279031</td>\n",
       "    </tr>\n",
       "    <tr>\n",
       "      <th>99</th>\n",
       "      <td>2.814366</td>\n",
       "      <td>9.402501</td>\n",
       "      <td>10.347295</td>\n",
       "      <td>4.003797</td>\n",
       "      <td>0.892636</td>\n",
       "      <td>1.115463</td>\n",
       "    </tr>\n",
       "  </tbody>\n",
       "</table>\n",
       "<p>100 rows × 6 columns</p>\n",
       "</div>"
      ],
      "text/plain": [
       "           x   y_actual  y_predicion        SST       SSR        SSD\n",
       "0  -0.278892   4.187723     4.470105  15.025244  0.079740  17.294144\n",
       "1   3.461681  12.566614    11.577194  10.438376  0.978953  17.810663\n",
       "2   3.350744  12.105422    11.366413   9.120805  0.546134  14.130650\n",
       "3   2.031030   8.920678     8.858956   0.262769  0.003810   0.329857\n",
       "4   3.361658  11.314794    11.387150   9.246490  0.005235   8.811680\n",
       "..       ...        ...          ...        ...       ...        ...\n",
       "95 -2.048441   0.507801     1.107962  52.394213  0.360193  61.442793\n",
       "96  4.625199  14.174695    13.787877  29.610260  0.149628  33.969650\n",
       "97 -0.362353   4.549921     4.311529  16.279753  0.056831  14.412842\n",
       "98  4.924716  13.848985    14.356960  36.127481  0.258039  30.279031\n",
       "99  2.814366   9.402501    10.347295   4.003797  0.892636   1.115463\n",
       "\n",
       "[100 rows x 6 columns]"
      ]
     },
     "execution_count": 13,
     "metadata": {},
     "output_type": "execute_result"
    }
   ],
   "source": [
    "dataframe"
   ]
  },
  {
   "cell_type": "code",
   "execution_count": 14,
   "metadata": {},
   "outputs": [
    {
     "name": "stdout",
     "output_type": "stream",
     "text": [
      "68.6288242914536 2389.7636004318842 2484.3648583659606 2552.993682657414\n"
     ]
    }
   ],
   "source": [
    "SSR=dataframe[\"SSR\"].sum()\n",
    "SSD=dataframe[\"SSD\"].sum()\n",
    "SST=dataframe[\"SST\"].sum()\n",
    "print(SSR,SST,SSD,SSR+SSD)"
   ]
  },
  {
   "cell_type": "code",
   "execution_count": 15,
   "metadata": {},
   "outputs": [
    {
     "data": {
      "text/plain": [
       "0.9619213507969605"
      ]
     },
     "execution_count": 15,
     "metadata": {},
     "output_type": "execute_result"
    }
   ],
   "source": [
    "## encontramos r2 \n",
    "R2=SST/SSD\n",
    "## recordemos entre más se acerqué a 1 es mejor\n",
    "R2"
   ]
  },
  {
   "cell_type": "code",
   "execution_count": 20,
   "metadata": {},
   "outputs": [],
   "source": [
    "## obtenemos el promedio de x y de y\n",
    "x_mean=dataframe[\"x\"].mean()\n",
    "y_mean=dataframe[\"y_actual\"].mean()"
   ]
  },
  {
   "cell_type": "code",
   "execution_count": 56,
   "metadata": {},
   "outputs": [],
   "source": [
    "##obtener numerador de la beta\n",
    "## restar la x menos el promedio de las x por la y actual (datos) menos el promedio\n",
    "dataframe[\"beta_n\"]=(dataframe[\"x\"]-x_mean)*(dataframe[\"y_actual\"]-y_mean)\n",
    "## obtenemos la varianza\n",
    "dataframe[\"beta_d\"]=(dataframe[\"x\"]-x_mean)**2"
   ]
  },
  {
   "cell_type": "code",
   "execution_count": 59,
   "metadata": {},
   "outputs": [
    {
     "data": {
      "text/plain": [
       "1.9108125936691738"
      ]
     },
     "execution_count": 59,
     "metadata": {},
     "output_type": "execute_result"
    }
   ],
   "source": [
    "beta=dataframe[\"beta_n\"].sum()/dataframe[\"beta_d\"].sum()\n",
    "beta"
   ]
  },
  {
   "cell_type": "code",
   "execution_count": 62,
   "metadata": {},
   "outputs": [],
   "source": [
    "alpha=y_mean-beta*x_mean"
   ]
  },
  {
   "cell_type": "code",
   "execution_count": 64,
   "metadata": {},
   "outputs": [
    {
     "data": {
      "text/plain": [
       "(5.059508001899861, 1.9108125936691738)"
      ]
     },
     "execution_count": 64,
     "metadata": {},
     "output_type": "execute_result"
    }
   ],
   "source": [
    "#modelo lineal obtenido por regresion\n",
    "alpha, beta"
   ]
  },
  {
   "cell_type": "code",
   "execution_count": 65,
   "metadata": {},
   "outputs": [],
   "source": [
    "## crear una variable de prediccion en base al modelo\n",
    "dataframe[\"y_modelo\"]=alpha+beta*dataframe[\"x\"]"
   ]
  },
  {
   "cell_type": "code",
   "execution_count": 66,
   "metadata": {},
   "outputs": [
    {
     "data": {
      "text/html": [
       "<div>\n",
       "<style scoped>\n",
       "    .dataframe tbody tr th:only-of-type {\n",
       "        vertical-align: middle;\n",
       "    }\n",
       "\n",
       "    .dataframe tbody tr th {\n",
       "        vertical-align: top;\n",
       "    }\n",
       "\n",
       "    .dataframe thead th {\n",
       "        text-align: right;\n",
       "    }\n",
       "</style>\n",
       "<table border=\"1\" class=\"dataframe\">\n",
       "  <thead>\n",
       "    <tr style=\"text-align: right;\">\n",
       "      <th></th>\n",
       "      <th>x</th>\n",
       "      <th>y_actual</th>\n",
       "      <th>y_predicion</th>\n",
       "      <th>SST</th>\n",
       "      <th>SSR</th>\n",
       "      <th>SSD</th>\n",
       "      <th>beta_n</th>\n",
       "      <th>beta_d</th>\n",
       "      <th>y_modelo</th>\n",
       "    </tr>\n",
       "  </thead>\n",
       "  <tbody>\n",
       "    <tr>\n",
       "      <th>0</th>\n",
       "      <td>-0.278892</td>\n",
       "      <td>4.187723</td>\n",
       "      <td>4.470105</td>\n",
       "      <td>15.025244</td>\n",
       "      <td>0.079740</td>\n",
       "      <td>17.294144</td>\n",
       "      <td>8.313161</td>\n",
       "      <td>3.996072</td>\n",
       "      <td>4.526598</td>\n",
       "    </tr>\n",
       "    <tr>\n",
       "      <th>1</th>\n",
       "      <td>3.461681</td>\n",
       "      <td>12.566614</td>\n",
       "      <td>11.577194</td>\n",
       "      <td>10.438376</td>\n",
       "      <td>0.978953</td>\n",
       "      <td>17.810663</td>\n",
       "      <td>7.349829</td>\n",
       "      <td>3.033014</td>\n",
       "      <td>11.674131</td>\n",
       "    </tr>\n",
       "    <tr>\n",
       "      <th>2</th>\n",
       "      <td>3.350744</td>\n",
       "      <td>12.105422</td>\n",
       "      <td>11.366413</td>\n",
       "      <td>9.120805</td>\n",
       "      <td>0.546134</td>\n",
       "      <td>14.130650</td>\n",
       "      <td>6.129616</td>\n",
       "      <td>2.658915</td>\n",
       "      <td>11.462152</td>\n",
       "    </tr>\n",
       "    <tr>\n",
       "      <th>3</th>\n",
       "      <td>2.031030</td>\n",
       "      <td>8.920678</td>\n",
       "      <td>8.858956</td>\n",
       "      <td>0.262769</td>\n",
       "      <td>0.003810</td>\n",
       "      <td>0.329857</td>\n",
       "      <td>0.178562</td>\n",
       "      <td>0.096661</td>\n",
       "      <td>8.940425</td>\n",
       "    </tr>\n",
       "    <tr>\n",
       "      <th>4</th>\n",
       "      <td>3.361658</td>\n",
       "      <td>11.314794</td>\n",
       "      <td>11.387150</td>\n",
       "      <td>9.246490</td>\n",
       "      <td>0.005235</td>\n",
       "      <td>8.811680</td>\n",
       "      <td>4.872802</td>\n",
       "      <td>2.694628</td>\n",
       "      <td>11.483007</td>\n",
       "    </tr>\n",
       "  </tbody>\n",
       "</table>\n",
       "</div>"
      ],
      "text/plain": [
       "          x   y_actual  y_predicion        SST       SSR        SSD    beta_n  \\\n",
       "0 -0.278892   4.187723     4.470105  15.025244  0.079740  17.294144  8.313161   \n",
       "1  3.461681  12.566614    11.577194  10.438376  0.978953  17.810663  7.349829   \n",
       "2  3.350744  12.105422    11.366413   9.120805  0.546134  14.130650  6.129616   \n",
       "3  2.031030   8.920678     8.858956   0.262769  0.003810   0.329857  0.178562   \n",
       "4  3.361658  11.314794    11.387150   9.246490  0.005235   8.811680  4.872802   \n",
       "\n",
       "     beta_d   y_modelo  \n",
       "0  3.996072   4.526598  \n",
       "1  3.033014  11.674131  \n",
       "2  2.658915  11.462152  \n",
       "3  0.096661   8.940425  \n",
       "4  2.694628  11.483007  "
      ]
     },
     "execution_count": 66,
     "metadata": {},
     "output_type": "execute_result"
    }
   ],
   "source": [
    "dataframe.head()"
   ]
  },
  {
   "cell_type": "code",
   "execution_count": 68,
   "metadata": {},
   "outputs": [],
   "source": [
    "## saber la eficacia del modelo con R2(r cuadrada)\n",
    "## suma de los cuadrados de la regresión\n",
    "SSR=sum((dataframe[\"y_modelo\"]-y_mean)**2)\n",
    "SSD=sum((dataframe[\"y_modelo\"]-dataframe[\"y_actual\"])**2)\n",
    "##suma de los cuadrados totales\n",
    "SST=sum((dataframe[\"y_actual\"]-y_mean)**2)"
   ]
  },
  {
   "cell_type": "code",
   "execution_count": 70,
   "metadata": {},
   "outputs": [
    {
     "data": {
      "text/plain": [
       "(2416.4234790756386, 67.94137929032325, 2484.3648583659606, 2484.364858365962)"
      ]
     },
     "execution_count": 70,
     "metadata": {},
     "output_type": "execute_result"
    }
   ],
   "source": [
    "SSR, SSD, SST, SSR+SSD"
   ]
  },
  {
   "cell_type": "code",
   "execution_count": 72,
   "metadata": {},
   "outputs": [
    {
     "data": {
      "text/plain": [
       "0.9726524149375511"
      ]
     },
     "execution_count": 72,
     "metadata": {},
     "output_type": "execute_result"
    }
   ],
   "source": [
    "## saber r cuadrado\n",
    "R2=SSR/SST\n",
    "R2"
   ]
  },
  {
   "cell_type": "code",
   "execution_count": 89,
   "metadata": {},
   "outputs": [
    {
     "data": {
      "text/plain": [
       "[<matplotlib.lines.Line2D at 0x1fb4b11a490>]"
      ]
     },
     "execution_count": 89,
     "metadata": {},
     "output_type": "execute_result"
    },
    {
     "data": {
      "image/png": "[encoded data removed]",
      "text/plain": [
       "<Figure size 432x288 with 1 Axes>"
      ]
     },
     "metadata": {
      "needs_background": "light"
     },
     "output_type": "display_data"
    }
   ],
   "source": [
    "%matplotlib inline\n",
    "plt.plot(dataframe[\"x\"], dataframe[\"y_actual\"], \"go\")\n",
    "plt.plot(dataframe[\"x\"], dataframe[\"y_modelo\"], \"r\")\n",
    "plt.plot(dataframe[\"x\"], dataframe[\"y_predicion\"], \"b\")\n",
    "plt.plot(dataframe[\"x\"], np.full(dataframe.shape[0], y_mean))\n"
   ]
  },
  {
   "cell_type": "code",
   "execution_count": 81,
   "metadata": {},
   "outputs": [
    {
     "data": {
      "text/plain": [
       "Index(['x', 'y_actual', 'y_predicion', 'SST', 'SSR', 'SSD', 'beta_n', 'beta_d',\n",
       "       'y_modelo'],\n",
       "      dtype='object')"
      ]
     },
     "execution_count": 81,
     "metadata": {},
     "output_type": "execute_result"
    }
   ],
   "source": [
    "dataframe.columns"
   ]
  },
  {
   "cell_type": "code",
   "execution_count": 83,
   "metadata": {},
   "outputs": [
    {
     "data": {
      "text/plain": [
       "array([8.34634619, 8.34634619, 8.34634619, 8.34634619, 8.34634619,\n",
       "       8.34634619, 8.34634619, 8.34634619, 8.34634619, 8.34634619,\n",
       "       8.34634619, 8.34634619, 8.34634619, 8.34634619, 8.34634619,\n",
       "       8.34634619, 8.34634619, 8.34634619, 8.34634619, 8.34634619,\n",
       "       8.34634619, 8.34634619, 8.34634619, 8.34634619, 8.34634619,\n",
       "       8.34634619, 8.34634619, 8.34634619, 8.34634619, 8.34634619,\n",
       "       8.34634619, 8.34634619, 8.34634619, 8.34634619, 8.34634619,\n",
       "       8.34634619, 8.34634619, 8.34634619, 8.34634619, 8.34634619,\n",
       "       8.34634619, 8.34634619, 8.34634619, 8.34634619, 8.34634619,\n",
       "       8.34634619, 8.34634619, 8.34634619, 8.34634619, 8.34634619,\n",
       "       8.34634619, 8.34634619, 8.34634619, 8.34634619, 8.34634619,\n",
       "       8.34634619, 8.34634619, 8.34634619, 8.34634619, 8.34634619,\n",
       "       8.34634619, 8.34634619, 8.34634619, 8.34634619, 8.34634619,\n",
       "       8.34634619, 8.34634619, 8.34634619, 8.34634619, 8.34634619,\n",
       "       8.34634619, 8.34634619, 8.34634619, 8.34634619, 8.34634619,\n",
       "       8.34634619, 8.34634619, 8.34634619, 8.34634619, 8.34634619,\n",
       "       8.34634619, 8.34634619, 8.34634619, 8.34634619, 8.34634619,\n",
       "       8.34634619, 8.34634619, 8.34634619, 8.34634619, 8.34634619,\n",
       "       8.34634619, 8.34634619, 8.34634619, 8.34634619, 8.34634619,\n",
       "       8.34634619, 8.34634619, 8.34634619, 8.34634619, 8.34634619])"
      ]
     },
     "execution_count": 83,
     "metadata": {},
     "output_type": "execute_result"
    }
   ],
   "source": [
    "data"
   ]
  },
  {
   "cell_type": "code",
   "execution_count": 95,
   "metadata": {},
   "outputs": [
    {
     "data": {
      "text/plain": [
       "0.8326340015357904"
      ]
     },
     "execution_count": 95,
     "metadata": {},
     "output_type": "execute_result"
    }
   ],
   "source": [
    "## Error estandar de los residuos RSE\n",
    "RSE=np.sqrt(SSD/(len(dataframe)-2))\n",
    "RSE"
   ]
  },
  {
   "cell_type": "code",
   "execution_count": 91,
   "metadata": {},
   "outputs": [
    {
     "data": {
      "text/plain": [
       "67.94137929032325"
      ]
     },
     "execution_count": 91,
     "metadata": {},
     "output_type": "execute_result"
    }
   ],
   "source": [
    "SSD"
   ]
  },
  {
   "cell_type": "code",
   "execution_count": 99,
   "metadata": {},
   "outputs": [
    {
     "data": {
      "text/plain": [
       "8.346346189713897"
      ]
     },
     "execution_count": 99,
     "metadata": {},
     "output_type": "execute_result"
    }
   ],
   "source": [
    "## obtenemos el promedio\n",
    "promedio=dataframe[\"y_actual\"].mean()\n",
    "promedio"
   ]
  },
  {
   "cell_type": "code",
   "execution_count": 104,
   "metadata": {},
   "outputs": [
    {
     "data": {
      "text/plain": [
       "0.09976030020920233"
      ]
     },
     "execution_count": 104,
     "metadata": {},
     "output_type": "execute_result"
    }
   ],
   "source": [
    "## obtener el porcentaje de error, el modelo tiene ese porcentaje de erro al predecir los datos\n",
    "porcentaje_error=RSE/promedio\n",
    "porcentaje_error"
   ]
  },
  {
   "cell_type": "code",
   "execution_count": null,
   "metadata": {},
   "outputs": [],
   "source": []
  }
 ],
 "metadata": {
  "interpreter": {
   "hash": "f8f936827f1edea7efad5da8792d36848d8bfd624d975ca3dc1fc90e577ba496"
  },
  "kernelspec": {
   "display_name": "Python 3.9.7 ('base')",
   "language": "python",
   "name": "python3"
  },
  "language_info": {
   "codemirror_mode": {
    "name": "ipython",
    "version": 3
   },
   "file_extension": ".py",
   "mimetype": "text/x-python",
   "name": "python",
   "nbconvert_exporter": "python",
   "pygments_lexer": "ipython3",
   "version": "3.9.7"
  },
  "orig_nbformat": 4
 },
 "nbformat": 4,
 "nbformat_minor": 2
}
