{
 "cells": [
  {
   "cell_type": "markdown",
   "metadata": {},
   "source": [
    "# Árboles y bosques aleatorios"
   ]
  },
  {
   "cell_type": "markdown",
   "metadata": {},
   "source": [
    "Es la capacidad de elegir en que cajita va cada elemento, el árbol de desición es un algoritmo supervisado, cuando la variable objetivo a ser clasificada es discreta o categórica ya sea de un solo tipo o de varios tipos a escoger, las predictoras se pueden volver númericas o categóricas, puede ser complicado establecer un conjunto de reglas para ir recorriendo el árbol, desde la raiz hasta los nodos hojas para una variable objetivo para una variable discreta o categórica, esto terminá siendo un conjunto de regas if else que se representan como divisiones, el árbol de decisión se puede ocupar cuando la decisión final esta basada en una serie de pasos escalonados o en pautas que cada vez las variables pueden tomar un valor o otro "
   ]
  },
  {
   "cell_type": "markdown",
   "metadata": {},
   "source": [
    "Se pierde mucha información en variables númericas por que no queda catalogado por ninguna regla de desición, si se usan categorías tienden a ser más seguros los grupos de desición"
   ]
  },
  {
   "cell_type": "markdown",
   "metadata": {},
   "source": [
    "se pueden crear categorías apartir de los números"
   ]
  },
  {
   "cell_type": "markdown",
   "metadata": {},
   "source": [
    "No importa demasiado que la limpieza de datos por que al final se terminan clasificando nuestros datos"
   ]
  },
  {
   "cell_type": "markdown",
   "metadata": {},
   "source": [
    "## las matemáticas de un árbol de decisión"
   ]
  },
  {
   "cell_type": "markdown",
   "metadata": {},
   "source": [
    "Toma una variable e intenta clasificar dependiendo de una serie de valores "
   ]
  },
  {
   "cell_type": "markdown",
   "metadata": {},
   "source": [
    "### Homogeneidad en los datos\n",
    "Se refiere a que el nodo que separa los datos de otros datos estos datos nuevos agrupados seán lo mayor homegeneos posibles o que no se distinga diferencia entre ellos"
   ]
  },
  {
   "cell_type": "markdown",
   "metadata": {},
   "source": [
    "* Identificar variables que sean lo mas homogeneas posibles en base a algoritmos\n",
    ">** La entropia\n",
    ">\n",
    ">** La ganancia o la perdida de información\n",
    ">\n",
    ">** id3\n",
    ">\n",
    ">** la varianza\n",
    ">\n",
    ">** la moda del arból"
   ]
  },
  {
   "cell_type": "markdown",
   "metadata": {},
   "source": [
    "#### La entropía\n",
    "Utiliza la teoría de información entre más puros son los nodos de un árbol, se requiere menos información para representarlos\n",
    "**Por ejemplo:** Para encriptar una señal, si los elementos que constituyen el mensaje son muy homogeneos en general se consumiran menos bits para llevar acabo la transmisión, la configuración que requiere menos información es la preferida.\n",
    "Imaginemos que tenemos un mensaje que solo tiene la letra \"a\" y tenemos que codificar un mensaje con 10 as"
   ]
  },
  {
   "cell_type": "markdown",
   "metadata": {},
   "source": []
  }
 ],
 "metadata": {
  "kernelspec": {
   "display_name": "Python 3.7.5 64-bit",
   "language": "python",
   "name": "python3"
  },
  "language_info": {
   "name": "python",
   "version": "3.7.5"
  },
  "orig_nbformat": 4,
  "vscode": {
   "interpreter": {
    "hash": "e310ee305116be7a1f6c3fc36efd30b44e9b58a3d111aad7f613c214e7b9dffb"
   }
  }
 },
 "nbformat": 4,
 "nbformat_minor": 2
}
