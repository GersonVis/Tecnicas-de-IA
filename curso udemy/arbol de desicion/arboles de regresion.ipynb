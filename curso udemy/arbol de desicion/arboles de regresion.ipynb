{
 "cells": [
  {
   "cell_type": "markdown",
   "metadata": {},
   "source": [
    "## Árboles de regresión "
   ]
  },
  {
   "cell_type": "code",
   "execution_count": 1,
   "metadata": {},
   "outputs": [],
   "source": [
    "import numpy as np\n",
    "import pandas as pd"
   ]
  },
  {
   "cell_type": "code",
   "execution_count": 2,
   "metadata": {},
   "outputs": [
    {
     "data": {
      "text/html": [
       "<div>\n",
       "<style scoped>\n",
       "    .dataframe tbody tr th:only-of-type {\n",
       "        vertical-align: middle;\n",
       "    }\n",
       "\n",
       "    .dataframe tbody tr th {\n",
       "        vertical-align: top;\n",
       "    }\n",
       "\n",
       "    .dataframe thead th {\n",
       "        text-align: right;\n",
       "    }\n",
       "</style>\n",
       "<table border=\"1\" class=\"dataframe\">\n",
       "  <thead>\n",
       "    <tr style=\"text-align: right;\">\n",
       "      <th></th>\n",
       "      <th>crim</th>\n",
       "      <th>zn</th>\n",
       "      <th>indus</th>\n",
       "      <th>chas</th>\n",
       "      <th>nox</th>\n",
       "      <th>rm</th>\n",
       "      <th>age</th>\n",
       "      <th>dis</th>\n",
       "      <th>rad</th>\n",
       "      <th>tax</th>\n",
       "      <th>ptratio</th>\n",
       "      <th>black</th>\n",
       "      <th>lstat</th>\n",
       "      <th>medv</th>\n",
       "    </tr>\n",
       "  </thead>\n",
       "  <tbody>\n",
       "    <tr>\n",
       "      <th>0</th>\n",
       "      <td>0.00632</td>\n",
       "      <td>18.0</td>\n",
       "      <td>2.31</td>\n",
       "      <td>0</td>\n",
       "      <td>0.538</td>\n",
       "      <td>6.575</td>\n",
       "      <td>65.2</td>\n",
       "      <td>4.0900</td>\n",
       "      <td>1</td>\n",
       "      <td>296</td>\n",
       "      <td>15.3</td>\n",
       "      <td>396.90</td>\n",
       "      <td>4.98</td>\n",
       "      <td>24.0</td>\n",
       "    </tr>\n",
       "    <tr>\n",
       "      <th>1</th>\n",
       "      <td>0.02731</td>\n",
       "      <td>0.0</td>\n",
       "      <td>7.07</td>\n",
       "      <td>0</td>\n",
       "      <td>0.469</td>\n",
       "      <td>6.421</td>\n",
       "      <td>78.9</td>\n",
       "      <td>4.9671</td>\n",
       "      <td>2</td>\n",
       "      <td>242</td>\n",
       "      <td>17.8</td>\n",
       "      <td>396.90</td>\n",
       "      <td>9.14</td>\n",
       "      <td>21.6</td>\n",
       "    </tr>\n",
       "    <tr>\n",
       "      <th>2</th>\n",
       "      <td>0.02729</td>\n",
       "      <td>0.0</td>\n",
       "      <td>7.07</td>\n",
       "      <td>0</td>\n",
       "      <td>0.469</td>\n",
       "      <td>7.185</td>\n",
       "      <td>61.1</td>\n",
       "      <td>4.9671</td>\n",
       "      <td>2</td>\n",
       "      <td>242</td>\n",
       "      <td>17.8</td>\n",
       "      <td>392.83</td>\n",
       "      <td>4.03</td>\n",
       "      <td>34.7</td>\n",
       "    </tr>\n",
       "    <tr>\n",
       "      <th>3</th>\n",
       "      <td>0.03237</td>\n",
       "      <td>0.0</td>\n",
       "      <td>2.18</td>\n",
       "      <td>0</td>\n",
       "      <td>0.458</td>\n",
       "      <td>6.998</td>\n",
       "      <td>45.8</td>\n",
       "      <td>6.0622</td>\n",
       "      <td>3</td>\n",
       "      <td>222</td>\n",
       "      <td>18.7</td>\n",
       "      <td>394.63</td>\n",
       "      <td>2.94</td>\n",
       "      <td>33.4</td>\n",
       "    </tr>\n",
       "    <tr>\n",
       "      <th>4</th>\n",
       "      <td>0.06905</td>\n",
       "      <td>0.0</td>\n",
       "      <td>2.18</td>\n",
       "      <td>0</td>\n",
       "      <td>0.458</td>\n",
       "      <td>7.147</td>\n",
       "      <td>54.2</td>\n",
       "      <td>6.0622</td>\n",
       "      <td>3</td>\n",
       "      <td>222</td>\n",
       "      <td>18.7</td>\n",
       "      <td>396.90</td>\n",
       "      <td>5.33</td>\n",
       "      <td>36.2</td>\n",
       "    </tr>\n",
       "  </tbody>\n",
       "</table>\n",
       "</div>"
      ],
      "text/plain": [
       "      crim    zn  indus  chas    nox     rm   age     dis  rad  tax  ptratio  \\\n",
       "0  0.00632  18.0   2.31     0  0.538  6.575  65.2  4.0900    1  296     15.3   \n",
       "1  0.02731   0.0   7.07     0  0.469  6.421  78.9  4.9671    2  242     17.8   \n",
       "2  0.02729   0.0   7.07     0  0.469  7.185  61.1  4.9671    2  242     17.8   \n",
       "3  0.03237   0.0   2.18     0  0.458  6.998  45.8  6.0622    3  222     18.7   \n",
       "4  0.06905   0.0   2.18     0  0.458  7.147  54.2  6.0622    3  222     18.7   \n",
       "\n",
       "    black  lstat  medv  \n",
       "0  396.90   4.98  24.0  \n",
       "1  396.90   9.14  21.6  \n",
       "2  392.83   4.03  34.7  \n",
       "3  394.63   2.94  33.4  \n",
       "4  396.90   5.33  36.2  "
      ]
     },
     "execution_count": 2,
     "metadata": {},
     "output_type": "execute_result"
    }
   ],
   "source": [
    "data=pd.read_csv(\"archivos/boston.csv\")\n",
    "data.head(5)"
   ]
  },
  {
   "cell_type": "code",
   "execution_count": 3,
   "metadata": {},
   "outputs": [
    {
     "data": {
      "text/plain": [
       "(['crim',\n",
       "  'zn',\n",
       "  'indus',\n",
       "  'chas',\n",
       "  'nox',\n",
       "  'rm',\n",
       "  'age',\n",
       "  'dis',\n",
       "  'rad',\n",
       "  'tax',\n",
       "  'ptratio',\n",
       "  'black',\n",
       "  'lstat'],\n",
       " 'medv')"
      ]
     },
     "execution_count": 3,
     "metadata": {},
     "output_type": "execute_result"
    }
   ],
   "source": [
    "## dividimos el dataset en columna predictoras y la que será predicha\n",
    "colnames=data.columns.tolist()\n",
    "predictors=colnames[:-1]\n",
    "target=colnames[-1:][0]\n",
    "predictors, target"
   ]
  },
  {
   "cell_type": "code",
   "execution_count": 4,
   "metadata": {},
   "outputs": [],
   "source": [
    "X=data[predictors]\n",
    "Y=data[target]"
   ]
  },
  {
   "cell_type": "code",
   "execution_count": 5,
   "metadata": {},
   "outputs": [],
   "source": [
    "from sklearn.tree import DecisionTreeRegressor"
   ]
  },
  {
   "cell_type": "code",
   "execution_count": 6,
   "metadata": {},
   "outputs": [
    {
     "data": {
      "text/plain": [
       "DecisionTreeRegressor(min_samples_leaf=10, min_samples_split=30, random_state=0)"
      ]
     },
     "execution_count": 6,
     "metadata": {},
     "output_type": "execute_result"
    }
   ],
   "source": [
    "## min samples split es para el número mínimo como para dividir un nodo y el leaf, el número mínimo\n",
    "## para que un nodo sea clasificado como nodo hoja\n",
    "regtree=DecisionTreeRegressor(min_samples_split=30, min_samples_leaf=10, random_state=0)\n",
    "## agregamos las variables para que tome las variables como predictora y como predicción\n",
    "regtree.fit(X, Y)"
   ]
  },
  {
   "cell_type": "code",
   "execution_count": 7,
   "metadata": {},
   "outputs": [],
   "source": [
    "## crear predicciones\n",
    "preds=regtree.predict(data[predictors])"
   ]
  },
  {
   "cell_type": "code",
   "execution_count": 8,
   "metadata": {},
   "outputs": [],
   "source": [
    "## agregamos una columna de predicciones al dataset\n",
    "data[\"preds\"]=preds"
   ]
  },
  {
   "cell_type": "markdown",
   "metadata": {},
   "source": [
    "Las predicciones se repiten por que caen dentro de la misma rama del árbol"
   ]
  },
  {
   "cell_type": "code",
   "execution_count": 9,
   "metadata": {},
   "outputs": [
    {
     "data": {
      "text/html": [
       "<div>\n",
       "<style scoped>\n",
       "    .dataframe tbody tr th:only-of-type {\n",
       "        vertical-align: middle;\n",
       "    }\n",
       "\n",
       "    .dataframe tbody tr th {\n",
       "        vertical-align: top;\n",
       "    }\n",
       "\n",
       "    .dataframe thead th {\n",
       "        text-align: right;\n",
       "    }\n",
       "</style>\n",
       "<table border=\"1\" class=\"dataframe\">\n",
       "  <thead>\n",
       "    <tr style=\"text-align: right;\">\n",
       "      <th></th>\n",
       "      <th>preds</th>\n",
       "      <th>medv</th>\n",
       "    </tr>\n",
       "  </thead>\n",
       "  <tbody>\n",
       "    <tr>\n",
       "      <th>0</th>\n",
       "      <td>22.840000</td>\n",
       "      <td>24.0</td>\n",
       "    </tr>\n",
       "    <tr>\n",
       "      <th>1</th>\n",
       "      <td>22.840000</td>\n",
       "      <td>21.6</td>\n",
       "    </tr>\n",
       "    <tr>\n",
       "      <th>2</th>\n",
       "      <td>35.247826</td>\n",
       "      <td>34.7</td>\n",
       "    </tr>\n",
       "    <tr>\n",
       "      <th>3</th>\n",
       "      <td>35.247826</td>\n",
       "      <td>33.4</td>\n",
       "    </tr>\n",
       "    <tr>\n",
       "      <th>4</th>\n",
       "      <td>35.247826</td>\n",
       "      <td>36.2</td>\n",
       "    </tr>\n",
       "    <tr>\n",
       "      <th>...</th>\n",
       "      <td>...</td>\n",
       "      <td>...</td>\n",
       "    </tr>\n",
       "    <tr>\n",
       "      <th>501</th>\n",
       "      <td>22.840000</td>\n",
       "      <td>22.4</td>\n",
       "    </tr>\n",
       "    <tr>\n",
       "      <th>502</th>\n",
       "      <td>20.624138</td>\n",
       "      <td>20.6</td>\n",
       "    </tr>\n",
       "    <tr>\n",
       "      <th>503</th>\n",
       "      <td>28.978261</td>\n",
       "      <td>23.9</td>\n",
       "    </tr>\n",
       "    <tr>\n",
       "      <th>504</th>\n",
       "      <td>31.170000</td>\n",
       "      <td>22.0</td>\n",
       "    </tr>\n",
       "    <tr>\n",
       "      <th>505</th>\n",
       "      <td>20.624138</td>\n",
       "      <td>11.9</td>\n",
       "    </tr>\n",
       "  </tbody>\n",
       "</table>\n",
       "<p>506 rows × 2 columns</p>\n",
       "</div>"
      ],
      "text/plain": [
       "         preds  medv\n",
       "0    22.840000  24.0\n",
       "1    22.840000  21.6\n",
       "2    35.247826  34.7\n",
       "3    35.247826  33.4\n",
       "4    35.247826  36.2\n",
       "..         ...   ...\n",
       "501  22.840000  22.4\n",
       "502  20.624138  20.6\n",
       "503  28.978261  23.9\n",
       "504  31.170000  22.0\n",
       "505  20.624138  11.9\n",
       "\n",
       "[506 rows x 2 columns]"
      ]
     },
     "execution_count": 9,
     "metadata": {},
     "output_type": "execute_result"
    }
   ],
   "source": [
    "## comparar la información predicha con la guardada \n",
    "data[[\"preds\", \"medv\"]]"
   ]
  },
  {
   "cell_type": "code",
   "execution_count": 10,
   "metadata": {},
   "outputs": [
    {
     "data": {
      "image/svg+xml": "<?xml version=\"1.0\" encoding=\"UTF-8\" standalone=\"no\"?>\n<!DOCTYPE svg PUBLIC \"-//W3C//DTD SVG 1.1//EN\"\n \"http://www.w3.org/Graphics/SVG/1.1/DTD/svg11.dtd\">\n<!-- Generated by graphviz version 5.0.0 (20220707.1540)\n -->\n<!-- Title: Tree Pages: 1 -->\n<svg width=\"1494pt\" height=\"1101pt\"\n viewBox=\"0.00 0.00 1494.00 1101.00\" xmlns=\"http://www.w3.org/2000/svg\" xmlns:xlink=\"http://www.w3.org/1999/xlink\">\n<g id=\"graph0\" class=\"graph\" transform=\"scale(1 1) rotate(0) translate(4 1097)\">\n<title>Tree</title>\n<polygon fill=\"white\" stroke=\"transparent\" points=\"-4,4 -4,-1097 1490,-1097 1490,4 -4,4\"/>\n<!-- 0 -->\n<g id=\"node1\" class=\"node\">\n<title>0</title>\n<polygon fill=\"none\" stroke=\"black\" points=\"1079,-1093 981,-1093 981,-1025 1079,-1025 1079,-1093\"/>\n<text text-anchor=\"middle\" x=\"1030\" y=\"-1077.8\" font-family=\"Times New Roman,serif\" font-size=\"14.00\">rm &lt;= 6.941</text>\n<text text-anchor=\"middle\" x=\"1030\" y=\"-1062.8\" font-family=\"Times New Roman,serif\" font-size=\"14.00\">mse = 84.42</text>\n<text text-anchor=\"middle\" x=\"1030\" y=\"-1047.8\" font-family=\"Times New Roman,serif\" font-size=\"14.00\">samples = 506</text>\n<text text-anchor=\"middle\" x=\"1030\" y=\"-1032.8\" font-family=\"Times New Roman,serif\" font-size=\"14.00\">value = 22.533</text>\n</g>\n<!-- 1 -->\n<g id=\"node2\" class=\"node\">\n<title>1</title>\n<polygon fill=\"none\" stroke=\"black\" points=\"963,-989 865,-989 865,-921 963,-921 963,-989\"/>\n<text text-anchor=\"middle\" x=\"914\" y=\"-973.8\" font-family=\"Times New Roman,serif\" font-size=\"14.00\">lstat &lt;= 14.4</text>\n<text text-anchor=\"middle\" x=\"914\" y=\"-958.8\" font-family=\"Times New Roman,serif\" font-size=\"14.00\">mse = 40.273</text>\n<text text-anchor=\"middle\" x=\"914\" y=\"-943.8\" font-family=\"Times New Roman,serif\" font-size=\"14.00\">samples = 430</text>\n<text text-anchor=\"middle\" x=\"914\" y=\"-928.8\" font-family=\"Times New Roman,serif\" font-size=\"14.00\">value = 19.934</text>\n</g>\n<!-- 0&#45;&gt;1 -->\n<g id=\"edge1\" class=\"edge\">\n<title>0&#45;&gt;1</title>\n<path fill=\"none\" stroke=\"black\" d=\"M992.34,-1024.88C981.9,-1015.71 970.46,-1005.65 959.63,-996.12\"/>\n<polygon fill=\"black\" stroke=\"black\" points=\"961.69,-993.27 951.87,-989.3 957.07,-998.53 961.69,-993.27\"/>\n<text text-anchor=\"middle\" x=\"953.47\" y=\"-1010.55\" font-family=\"Times New Roman,serif\" font-size=\"14.00\">True</text>\n</g>\n<!-- 48 -->\n<g id=\"node49\" class=\"node\">\n<title>48</title>\n<polygon fill=\"none\" stroke=\"black\" points=\"1195,-989 1097,-989 1097,-921 1195,-921 1195,-989\"/>\n<text text-anchor=\"middle\" x=\"1146\" y=\"-973.8\" font-family=\"Times New Roman,serif\" font-size=\"14.00\">rm &lt;= 7.437</text>\n<text text-anchor=\"middle\" x=\"1146\" y=\"-958.8\" font-family=\"Times New Roman,serif\" font-size=\"14.00\">mse = 79.729</text>\n<text text-anchor=\"middle\" x=\"1146\" y=\"-943.8\" font-family=\"Times New Roman,serif\" font-size=\"14.00\">samples = 76</text>\n<text text-anchor=\"middle\" x=\"1146\" y=\"-928.8\" font-family=\"Times New Roman,serif\" font-size=\"14.00\">value = 37.238</text>\n</g>\n<!-- 0&#45;&gt;48 -->\n<g id=\"edge48\" class=\"edge\">\n<title>0&#45;&gt;48</title>\n<path fill=\"none\" stroke=\"black\" d=\"M1067.66,-1024.88C1078.1,-1015.71 1089.54,-1005.65 1100.37,-996.12\"/>\n<polygon fill=\"black\" stroke=\"black\" points=\"1102.93,-998.53 1108.13,-989.3 1098.31,-993.27 1102.93,-998.53\"/>\n<text text-anchor=\"middle\" x=\"1106.53\" y=\"-1010.55\" font-family=\"Times New Roman,serif\" font-size=\"14.00\">False</text>\n</g>\n<!-- 2 -->\n<g id=\"node3\" class=\"node\">\n<title>2</title>\n<polygon fill=\"none\" stroke=\"black\" points=\"613,-885 515,-885 515,-817 613,-817 613,-885\"/>\n<text text-anchor=\"middle\" x=\"564\" y=\"-869.8\" font-family=\"Times New Roman,serif\" font-size=\"14.00\">lstat &lt;= 4.91</text>\n<text text-anchor=\"middle\" x=\"564\" y=\"-854.8\" font-family=\"Times New Roman,serif\" font-size=\"14.00\">mse = 26.009</text>\n<text text-anchor=\"middle\" x=\"564\" y=\"-839.8\" font-family=\"Times New Roman,serif\" font-size=\"14.00\">samples = 255</text>\n<text text-anchor=\"middle\" x=\"564\" y=\"-824.8\" font-family=\"Times New Roman,serif\" font-size=\"14.00\">value = 23.35</text>\n</g>\n<!-- 1&#45;&gt;2 -->\n<g id=\"edge2\" class=\"edge\">\n<title>1&#45;&gt;2</title>\n<path fill=\"none\" stroke=\"black\" d=\"M864.97,-939.71C801.49,-921.21 690.97,-889 622.98,-869.19\"/>\n<polygon fill=\"black\" stroke=\"black\" points=\"623.85,-865.8 613.27,-866.36 621.89,-872.52 623.85,-865.8\"/>\n</g>\n<!-- 29 -->\n<g id=\"node30\" class=\"node\">\n<title>29</title>\n<polygon fill=\"none\" stroke=\"black\" points=\"963,-885 865,-885 865,-817 963,-817 963,-885\"/>\n<text text-anchor=\"middle\" x=\"914\" y=\"-869.8\" font-family=\"Times New Roman,serif\" font-size=\"14.00\">crim &lt;= 6.992</text>\n<text text-anchor=\"middle\" x=\"914\" y=\"-854.8\" font-family=\"Times New Roman,serif\" font-size=\"14.00\">mse = 19.276</text>\n<text text-anchor=\"middle\" x=\"914\" y=\"-839.8\" font-family=\"Times New Roman,serif\" font-size=\"14.00\">samples = 175</text>\n<text text-anchor=\"middle\" x=\"914\" y=\"-824.8\" font-family=\"Times New Roman,serif\" font-size=\"14.00\">value = 14.956</text>\n</g>\n<!-- 1&#45;&gt;29 -->\n<g id=\"edge29\" class=\"edge\">\n<title>1&#45;&gt;29</title>\n<path fill=\"none\" stroke=\"black\" d=\"M914,-920.88C914,-912.78 914,-903.98 914,-895.47\"/>\n<polygon fill=\"black\" stroke=\"black\" points=\"917.5,-895.3 914,-885.3 910.5,-895.3 917.5,-895.3\"/>\n</g>\n<!-- 3 -->\n<g id=\"node4\" class=\"node\">\n<title>3</title>\n<polygon fill=\"none\" stroke=\"black\" points=\"497,-773.5 399,-773.5 399,-720.5 497,-720.5 497,-773.5\"/>\n<text text-anchor=\"middle\" x=\"448\" y=\"-758.3\" font-family=\"Times New Roman,serif\" font-size=\"14.00\">mse = 47.187</text>\n<text text-anchor=\"middle\" x=\"448\" y=\"-743.3\" font-family=\"Times New Roman,serif\" font-size=\"14.00\">samples = 20</text>\n<text text-anchor=\"middle\" x=\"448\" y=\"-728.3\" font-family=\"Times New Roman,serif\" font-size=\"14.00\">value = 31.565</text>\n</g>\n<!-- 2&#45;&gt;3 -->\n<g id=\"edge3\" class=\"edge\">\n<title>2&#45;&gt;3</title>\n<path fill=\"none\" stroke=\"black\" d=\"M526.34,-816.88C512.96,-805.12 497.92,-791.89 484.62,-780.2\"/>\n<polygon fill=\"black\" stroke=\"black\" points=\"486.84,-777.49 477.02,-773.52 482.22,-782.75 486.84,-777.49\"/>\n</g>\n<!-- 4 -->\n<g id=\"node5\" class=\"node\">\n<title>4</title>\n<polygon fill=\"none\" stroke=\"black\" points=\"613,-781 515,-781 515,-713 613,-713 613,-781\"/>\n<text text-anchor=\"middle\" x=\"564\" y=\"-765.8\" font-family=\"Times New Roman,serif\" font-size=\"14.00\">lstat &lt;= 9.715</text>\n<text text-anchor=\"middle\" x=\"564\" y=\"-750.8\" font-family=\"Times New Roman,serif\" font-size=\"14.00\">mse = 17.974</text>\n<text text-anchor=\"middle\" x=\"564\" y=\"-735.8\" font-family=\"Times New Roman,serif\" font-size=\"14.00\">samples = 235</text>\n<text text-anchor=\"middle\" x=\"564\" y=\"-720.8\" font-family=\"Times New Roman,serif\" font-size=\"14.00\">value = 22.651</text>\n</g>\n<!-- 2&#45;&gt;4 -->\n<g id=\"edge4\" class=\"edge\">\n<title>2&#45;&gt;4</title>\n<path fill=\"none\" stroke=\"black\" d=\"M564,-816.88C564,-808.78 564,-799.98 564,-791.47\"/>\n<polygon fill=\"black\" stroke=\"black\" points=\"567.5,-791.3 564,-781.3 560.5,-791.3 567.5,-791.3\"/>\n</g>\n<!-- 5 -->\n<g id=\"node6\" class=\"node\">\n<title>5</title>\n<polygon fill=\"none\" stroke=\"black\" points=\"438,-677 340,-677 340,-609 438,-609 438,-677\"/>\n<text text-anchor=\"middle\" x=\"389\" y=\"-661.8\" font-family=\"Times New Roman,serif\" font-size=\"14.00\">age &lt;= 87.6</text>\n<text text-anchor=\"middle\" x=\"389\" y=\"-646.8\" font-family=\"Times New Roman,serif\" font-size=\"14.00\">mse = 22.287</text>\n<text text-anchor=\"middle\" x=\"389\" y=\"-631.8\" font-family=\"Times New Roman,serif\" font-size=\"14.00\">samples = 122</text>\n<text text-anchor=\"middle\" x=\"389\" y=\"-616.8\" font-family=\"Times New Roman,serif\" font-size=\"14.00\">value = 24.393</text>\n</g>\n<!-- 4&#45;&gt;5 -->\n<g id=\"edge5\" class=\"edge\">\n<title>4&#45;&gt;5</title>\n<path fill=\"none\" stroke=\"black\" d=\"M514.79,-717.32C493.73,-705.04 468.99,-690.62 447.04,-677.83\"/>\n<polygon fill=\"black\" stroke=\"black\" points=\"448.55,-674.66 438.15,-672.65 445.02,-680.7 448.55,-674.66\"/>\n</g>\n<!-- 18 -->\n<g id=\"node19\" class=\"node\">\n<title>18</title>\n<polygon fill=\"none\" stroke=\"black\" points=\"617.5,-677 510.5,-677 510.5,-609 617.5,-609 617.5,-677\"/>\n<text text-anchor=\"middle\" x=\"564\" y=\"-661.8\" font-family=\"Times New Roman,serif\" font-size=\"14.00\">ptratio &lt;= 17.85</text>\n<text text-anchor=\"middle\" x=\"564\" y=\"-646.8\" font-family=\"Times New Roman,serif\" font-size=\"14.00\">mse = 6.503</text>\n<text text-anchor=\"middle\" x=\"564\" y=\"-631.8\" font-family=\"Times New Roman,serif\" font-size=\"14.00\">samples = 113</text>\n<text text-anchor=\"middle\" x=\"564\" y=\"-616.8\" font-family=\"Times New Roman,serif\" font-size=\"14.00\">value = 20.77</text>\n</g>\n<!-- 4&#45;&gt;18 -->\n<g id=\"edge18\" class=\"edge\">\n<title>4&#45;&gt;18</title>\n<path fill=\"none\" stroke=\"black\" d=\"M564,-712.88C564,-704.78 564,-695.98 564,-687.47\"/>\n<polygon fill=\"black\" stroke=\"black\" points=\"567.5,-687.3 564,-677.3 560.5,-687.3 567.5,-687.3\"/>\n</g>\n<!-- 6 -->\n<g id=\"node7\" class=\"node\">\n<title>6</title>\n<polygon fill=\"none\" stroke=\"black\" points=\"325,-573 227,-573 227,-505 325,-505 325,-573\"/>\n<text text-anchor=\"middle\" x=\"276\" y=\"-557.8\" font-family=\"Times New Roman,serif\" font-size=\"14.00\">rm &lt;= 6.125</text>\n<text text-anchor=\"middle\" x=\"276\" y=\"-542.8\" font-family=\"Times New Roman,serif\" font-size=\"14.00\">mse = 11.111</text>\n<text text-anchor=\"middle\" x=\"276\" y=\"-527.8\" font-family=\"Times New Roman,serif\" font-size=\"14.00\">samples = 112</text>\n<text text-anchor=\"middle\" x=\"276\" y=\"-512.8\" font-family=\"Times New Roman,serif\" font-size=\"14.00\">value = 23.787</text>\n</g>\n<!-- 5&#45;&gt;6 -->\n<g id=\"edge6\" class=\"edge\">\n<title>5&#45;&gt;6</title>\n<path fill=\"none\" stroke=\"black\" d=\"M352.31,-608.88C342.15,-599.71 331,-589.65 320.45,-580.12\"/>\n<polygon fill=\"black\" stroke=\"black\" points=\"322.66,-577.4 312.89,-573.3 317.97,-582.6 322.66,-577.4\"/>\n</g>\n<!-- 17 -->\n<g id=\"node18\" class=\"node\">\n<title>17</title>\n<polygon fill=\"none\" stroke=\"black\" points=\"435,-565.5 343,-565.5 343,-512.5 435,-512.5 435,-565.5\"/>\n<text text-anchor=\"middle\" x=\"389\" y=\"-550.3\" font-family=\"Times New Roman,serif\" font-size=\"14.00\">mse = 97.42</text>\n<text text-anchor=\"middle\" x=\"389\" y=\"-535.3\" font-family=\"Times New Roman,serif\" font-size=\"14.00\">samples = 10</text>\n<text text-anchor=\"middle\" x=\"389\" y=\"-520.3\" font-family=\"Times New Roman,serif\" font-size=\"14.00\">value = 31.17</text>\n</g>\n<!-- 5&#45;&gt;17 -->\n<g id=\"edge17\" class=\"edge\">\n<title>5&#45;&gt;17</title>\n<path fill=\"none\" stroke=\"black\" d=\"M389,-608.88C389,-598.33 389,-586.6 389,-575.85\"/>\n<polygon fill=\"black\" stroke=\"black\" points=\"392.5,-575.52 389,-565.52 385.5,-575.52 392.5,-575.52\"/>\n</g>\n<!-- 7 -->\n<g id=\"node8\" class=\"node\">\n<title>7</title>\n<polygon fill=\"none\" stroke=\"black\" points=\"209,-461.5 111,-461.5 111,-408.5 209,-408.5 209,-461.5\"/>\n<text text-anchor=\"middle\" x=\"160\" y=\"-446.3\" font-family=\"Times New Roman,serif\" font-size=\"14.00\">mse = 4.865</text>\n<text text-anchor=\"middle\" x=\"160\" y=\"-431.3\" font-family=\"Times New Roman,serif\" font-size=\"14.00\">samples = 29</text>\n<text text-anchor=\"middle\" x=\"160\" y=\"-416.3\" font-family=\"Times New Roman,serif\" font-size=\"14.00\">value = 20.624</text>\n</g>\n<!-- 6&#45;&gt;7 -->\n<g id=\"edge7\" class=\"edge\">\n<title>6&#45;&gt;7</title>\n<path fill=\"none\" stroke=\"black\" d=\"M238.34,-504.88C224.96,-493.12 209.92,-479.89 196.62,-468.2\"/>\n<polygon fill=\"black\" stroke=\"black\" points=\"198.84,-465.49 189.02,-461.52 194.22,-470.75 198.84,-465.49\"/>\n</g>\n<!-- 8 -->\n<g id=\"node9\" class=\"node\">\n<title>8</title>\n<polygon fill=\"none\" stroke=\"black\" points=\"325,-469 227,-469 227,-401 325,-401 325,-469\"/>\n<text text-anchor=\"middle\" x=\"276\" y=\"-453.8\" font-family=\"Times New Roman,serif\" font-size=\"14.00\">rm &lt;= 6.611</text>\n<text text-anchor=\"middle\" x=\"276\" y=\"-438.8\" font-family=\"Times New Roman,serif\" font-size=\"14.00\">mse = 8.576</text>\n<text text-anchor=\"middle\" x=\"276\" y=\"-423.8\" font-family=\"Times New Roman,serif\" font-size=\"14.00\">samples = 83</text>\n<text text-anchor=\"middle\" x=\"276\" y=\"-408.8\" font-family=\"Times New Roman,serif\" font-size=\"14.00\">value = 24.893</text>\n</g>\n<!-- 6&#45;&gt;8 -->\n<g id=\"edge8\" class=\"edge\">\n<title>6&#45;&gt;8</title>\n<path fill=\"none\" stroke=\"black\" d=\"M276,-504.88C276,-496.78 276,-487.98 276,-479.47\"/>\n<polygon fill=\"black\" stroke=\"black\" points=\"279.5,-479.3 276,-469.3 272.5,-479.3 279.5,-479.3\"/>\n</g>\n<!-- 9 -->\n<g id=\"node10\" class=\"node\">\n<title>9</title>\n<polygon fill=\"none\" stroke=\"black\" points=\"265,-365 173,-365 173,-297 265,-297 265,-365\"/>\n<text text-anchor=\"middle\" x=\"219\" y=\"-349.8\" font-family=\"Times New Roman,serif\" font-size=\"14.00\">tax &lt;= 332.5</text>\n<text text-anchor=\"middle\" x=\"219\" y=\"-334.8\" font-family=\"Times New Roman,serif\" font-size=\"14.00\">mse = 6.848</text>\n<text text-anchor=\"middle\" x=\"219\" y=\"-319.8\" font-family=\"Times New Roman,serif\" font-size=\"14.00\">samples = 60</text>\n<text text-anchor=\"middle\" x=\"219\" y=\"-304.8\" font-family=\"Times New Roman,serif\" font-size=\"14.00\">value = 23.99</text>\n</g>\n<!-- 8&#45;&gt;9 -->\n<g id=\"edge9\" class=\"edge\">\n<title>8&#45;&gt;9</title>\n<path fill=\"none\" stroke=\"black\" d=\"M257.49,-400.88C252.72,-392.33 247.51,-383.01 242.51,-374.07\"/>\n<polygon fill=\"black\" stroke=\"black\" points=\"245.54,-372.32 237.61,-365.3 239.43,-375.74 245.54,-372.32\"/>\n</g>\n<!-- 16 -->\n<g id=\"node17\" class=\"node\">\n<title>16</title>\n<polygon fill=\"none\" stroke=\"black\" points=\"381,-357.5 283,-357.5 283,-304.5 381,-304.5 381,-357.5\"/>\n<text text-anchor=\"middle\" x=\"332\" y=\"-342.3\" font-family=\"Times New Roman,serif\" font-size=\"14.00\">mse = 5.413</text>\n<text text-anchor=\"middle\" x=\"332\" y=\"-327.3\" font-family=\"Times New Roman,serif\" font-size=\"14.00\">samples = 23</text>\n<text text-anchor=\"middle\" x=\"332\" y=\"-312.3\" font-family=\"Times New Roman,serif\" font-size=\"14.00\">value = 27.248</text>\n</g>\n<!-- 8&#45;&gt;16 -->\n<g id=\"edge16\" class=\"edge\">\n<title>8&#45;&gt;16</title>\n<path fill=\"none\" stroke=\"black\" d=\"M294.18,-400.88C300.22,-389.89 306.96,-377.62 313.05,-366.52\"/>\n<polygon fill=\"black\" stroke=\"black\" points=\"316.24,-367.97 317.99,-357.52 310.11,-364.6 316.24,-367.97\"/>\n</g>\n<!-- 10 -->\n<g id=\"node11\" class=\"node\">\n<title>10</title>\n<polygon fill=\"none\" stroke=\"black\" points=\"212,-261 114,-261 114,-193 212,-193 212,-261\"/>\n<text text-anchor=\"middle\" x=\"163\" y=\"-245.8\" font-family=\"Times New Roman,serif\" font-size=\"14.00\">age &lt;= 63.7</text>\n<text text-anchor=\"middle\" x=\"163\" y=\"-230.8\" font-family=\"Times New Roman,serif\" font-size=\"14.00\">mse = 6.345</text>\n<text text-anchor=\"middle\" x=\"163\" y=\"-215.8\" font-family=\"Times New Roman,serif\" font-size=\"14.00\">samples = 50</text>\n<text text-anchor=\"middle\" x=\"163\" y=\"-200.8\" font-family=\"Times New Roman,serif\" font-size=\"14.00\">value = 24.366</text>\n</g>\n<!-- 9&#45;&gt;10 -->\n<g id=\"edge10\" class=\"edge\">\n<title>9&#45;&gt;10</title>\n<path fill=\"none\" stroke=\"black\" d=\"M200.82,-296.88C196.12,-288.33 191.01,-279.01 186.1,-270.07\"/>\n<polygon fill=\"black\" stroke=\"black\" points=\"189.16,-268.38 181.28,-261.3 183.03,-271.75 189.16,-268.38\"/>\n</g>\n<!-- 15 -->\n<g id=\"node16\" class=\"node\">\n<title>15</title>\n<polygon fill=\"none\" stroke=\"black\" points=\"322,-253.5 230,-253.5 230,-200.5 322,-200.5 322,-253.5\"/>\n<text text-anchor=\"middle\" x=\"276\" y=\"-238.3\" font-family=\"Times New Roman,serif\" font-size=\"14.00\">mse = 5.119</text>\n<text text-anchor=\"middle\" x=\"276\" y=\"-223.3\" font-family=\"Times New Roman,serif\" font-size=\"14.00\">samples = 10</text>\n<text text-anchor=\"middle\" x=\"276\" y=\"-208.3\" font-family=\"Times New Roman,serif\" font-size=\"14.00\">value = 22.11</text>\n</g>\n<!-- 9&#45;&gt;15 -->\n<g id=\"edge15\" class=\"edge\">\n<title>9&#45;&gt;15</title>\n<path fill=\"none\" stroke=\"black\" d=\"M237.51,-296.88C243.65,-285.89 250.51,-273.62 256.71,-262.52\"/>\n<polygon fill=\"black\" stroke=\"black\" points=\"259.92,-263.96 261.74,-253.52 253.81,-260.54 259.92,-263.96\"/>\n</g>\n<!-- 11 -->\n<g id=\"node12\" class=\"node\">\n<title>11</title>\n<polygon fill=\"none\" stroke=\"black\" points=\"156,-157 58,-157 58,-89 156,-89 156,-157\"/>\n<text text-anchor=\"middle\" x=\"107\" y=\"-141.8\" font-family=\"Times New Roman,serif\" font-size=\"14.00\">dis &lt;= 4.631</text>\n<text text-anchor=\"middle\" x=\"107\" y=\"-126.8\" font-family=\"Times New Roman,serif\" font-size=\"14.00\">mse = 6.944</text>\n<text text-anchor=\"middle\" x=\"107\" y=\"-111.8\" font-family=\"Times New Roman,serif\" font-size=\"14.00\">samples = 40</text>\n<text text-anchor=\"middle\" x=\"107\" y=\"-96.8\" font-family=\"Times New Roman,serif\" font-size=\"14.00\">value = 24.747</text>\n</g>\n<!-- 10&#45;&gt;11 -->\n<g id=\"edge11\" class=\"edge\">\n<title>10&#45;&gt;11</title>\n<path fill=\"none\" stroke=\"black\" d=\"M144.82,-192.88C140.12,-184.33 135.01,-175.01 130.1,-166.07\"/>\n<polygon fill=\"black\" stroke=\"black\" points=\"133.16,-164.38 125.28,-157.3 127.03,-167.75 133.16,-164.38\"/>\n</g>\n<!-- 14 -->\n<g id=\"node15\" class=\"node\">\n<title>14</title>\n<polygon fill=\"none\" stroke=\"black\" points=\"266,-149.5 174,-149.5 174,-96.5 266,-96.5 266,-149.5\"/>\n<text text-anchor=\"middle\" x=\"220\" y=\"-134.3\" font-family=\"Times New Roman,serif\" font-size=\"14.00\">mse = 1.038</text>\n<text text-anchor=\"middle\" x=\"220\" y=\"-119.3\" font-family=\"Times New Roman,serif\" font-size=\"14.00\">samples = 10</text>\n<text text-anchor=\"middle\" x=\"220\" y=\"-104.3\" font-family=\"Times New Roman,serif\" font-size=\"14.00\">value = 22.84</text>\n</g>\n<!-- 10&#45;&gt;14 -->\n<g id=\"edge14\" class=\"edge\">\n<title>10&#45;&gt;14</title>\n<path fill=\"none\" stroke=\"black\" d=\"M181.51,-192.88C187.65,-181.89 194.51,-169.62 200.71,-158.52\"/>\n<polygon fill=\"black\" stroke=\"black\" points=\"203.92,-159.96 205.74,-149.52 197.81,-156.54 203.92,-159.96\"/>\n</g>\n<!-- 12 -->\n<g id=\"node13\" class=\"node\">\n<title>12</title>\n<polygon fill=\"none\" stroke=\"black\" points=\"98,-53 0,-53 0,0 98,0 98,-53\"/>\n<text text-anchor=\"middle\" x=\"49\" y=\"-37.8\" font-family=\"Times New Roman,serif\" font-size=\"14.00\">mse = 14.017</text>\n<text text-anchor=\"middle\" x=\"49\" y=\"-22.8\" font-family=\"Times New Roman,serif\" font-size=\"14.00\">samples = 11</text>\n<text text-anchor=\"middle\" x=\"49\" y=\"-7.8\" font-family=\"Times New Roman,serif\" font-size=\"14.00\">value = 26.564</text>\n</g>\n<!-- 11&#45;&gt;12 -->\n<g id=\"edge12\" class=\"edge\">\n<title>11&#45;&gt;12</title>\n<path fill=\"none\" stroke=\"black\" d=\"M86.71,-88.95C81.32,-80.17 75.49,-70.66 70.06,-61.82\"/>\n<polygon fill=\"black\" stroke=\"black\" points=\"73.01,-59.93 64.8,-53.24 67.04,-63.59 73.01,-59.93\"/>\n</g>\n<!-- 13 -->\n<g id=\"node14\" class=\"node\">\n<title>13</title>\n<polygon fill=\"none\" stroke=\"black\" points=\"214,-53 116,-53 116,0 214,0 214,-53\"/>\n<text text-anchor=\"middle\" x=\"165\" y=\"-37.8\" font-family=\"Times New Roman,serif\" font-size=\"14.00\">mse = 2.536</text>\n<text text-anchor=\"middle\" x=\"165\" y=\"-22.8\" font-family=\"Times New Roman,serif\" font-size=\"14.00\">samples = 29</text>\n<text text-anchor=\"middle\" x=\"165\" y=\"-7.8\" font-family=\"Times New Roman,serif\" font-size=\"14.00\">value = 24.059</text>\n</g>\n<!-- 11&#45;&gt;13 -->\n<g id=\"edge13\" class=\"edge\">\n<title>11&#45;&gt;13</title>\n<path fill=\"none\" stroke=\"black\" d=\"M127.29,-88.95C132.68,-80.17 138.51,-70.66 143.94,-61.82\"/>\n<polygon fill=\"black\" stroke=\"black\" points=\"146.96,-63.59 149.2,-53.24 140.99,-59.93 146.96,-63.59\"/>\n</g>\n<!-- 19 -->\n<g id=\"node20\" class=\"node\">\n<title>19</title>\n<polygon fill=\"none\" stroke=\"black\" points=\"554,-573 456,-573 456,-505 554,-505 554,-573\"/>\n<text text-anchor=\"middle\" x=\"505\" y=\"-557.8\" font-family=\"Times New Roman,serif\" font-size=\"14.00\">tax &lt;= 309.0</text>\n<text text-anchor=\"middle\" x=\"505\" y=\"-542.8\" font-family=\"Times New Roman,serif\" font-size=\"14.00\">mse = 8.556</text>\n<text text-anchor=\"middle\" x=\"505\" y=\"-527.8\" font-family=\"Times New Roman,serif\" font-size=\"14.00\">samples = 33</text>\n<text text-anchor=\"middle\" x=\"505\" y=\"-512.8\" font-family=\"Times New Roman,serif\" font-size=\"14.00\">value = 21.864</text>\n</g>\n<!-- 18&#45;&gt;19 -->\n<g id=\"edge19\" class=\"edge\">\n<title>18&#45;&gt;19</title>\n<path fill=\"none\" stroke=\"black\" d=\"M544.84,-608.88C539.9,-600.33 534.51,-591.01 529.34,-582.07\"/>\n<polygon fill=\"black\" stroke=\"black\" points=\"532.3,-580.2 524.26,-573.3 526.24,-583.71 532.3,-580.2\"/>\n</g>\n<!-- 22 -->\n<g id=\"node23\" class=\"node\">\n<title>22</title>\n<polygon fill=\"none\" stroke=\"black\" points=\"680,-573 572,-573 572,-505 680,-505 680,-573\"/>\n<text text-anchor=\"middle\" x=\"626\" y=\"-557.8\" font-family=\"Times New Roman,serif\" font-size=\"14.00\">indus &lt;= 10.245</text>\n<text text-anchor=\"middle\" x=\"626\" y=\"-542.8\" font-family=\"Times New Roman,serif\" font-size=\"14.00\">mse = 4.96</text>\n<text text-anchor=\"middle\" x=\"626\" y=\"-527.8\" font-family=\"Times New Roman,serif\" font-size=\"14.00\">samples = 80</text>\n<text text-anchor=\"middle\" x=\"626\" y=\"-512.8\" font-family=\"Times New Roman,serif\" font-size=\"14.00\">value = 20.319</text>\n</g>\n<!-- 18&#45;&gt;22 -->\n<g id=\"edge22\" class=\"edge\">\n<title>18&#45;&gt;22</title>\n<path fill=\"none\" stroke=\"black\" d=\"M584.13,-608.88C589.33,-600.33 594.99,-591.01 600.43,-582.07\"/>\n<polygon fill=\"black\" stroke=\"black\" points=\"603.56,-583.66 605.76,-573.3 597.57,-580.03 603.56,-583.66\"/>\n</g>\n<!-- 20 -->\n<g id=\"node21\" class=\"node\">\n<title>20</title>\n<polygon fill=\"none\" stroke=\"black\" points=\"441,-461.5 343,-461.5 343,-408.5 441,-408.5 441,-461.5\"/>\n<text text-anchor=\"middle\" x=\"392\" y=\"-446.3\" font-family=\"Times New Roman,serif\" font-size=\"14.00\">mse = 9.029</text>\n<text text-anchor=\"middle\" x=\"392\" y=\"-431.3\" font-family=\"Times New Roman,serif\" font-size=\"14.00\">samples = 15</text>\n<text text-anchor=\"middle\" x=\"392\" y=\"-416.3\" font-family=\"Times New Roman,serif\" font-size=\"14.00\">value = 23.127</text>\n</g>\n<!-- 19&#45;&gt;20 -->\n<g id=\"edge20\" class=\"edge\">\n<title>19&#45;&gt;20</title>\n<path fill=\"none\" stroke=\"black\" d=\"M468.31,-504.88C455.4,-493.23 440.9,-480.14 428.04,-468.53\"/>\n<polygon fill=\"black\" stroke=\"black\" points=\"430.04,-465.62 420.27,-461.52 425.35,-470.82 430.04,-465.62\"/>\n</g>\n<!-- 21 -->\n<g id=\"node22\" class=\"node\">\n<title>21</title>\n<polygon fill=\"none\" stroke=\"black\" points=\"557,-461.5 459,-461.5 459,-408.5 557,-408.5 557,-461.5\"/>\n<text text-anchor=\"middle\" x=\"508\" y=\"-446.3\" font-family=\"Times New Roman,serif\" font-size=\"14.00\">mse = 5.725</text>\n<text text-anchor=\"middle\" x=\"508\" y=\"-431.3\" font-family=\"Times New Roman,serif\" font-size=\"14.00\">samples = 18</text>\n<text text-anchor=\"middle\" x=\"508\" y=\"-416.3\" font-family=\"Times New Roman,serif\" font-size=\"14.00\">value = 20.811</text>\n</g>\n<!-- 19&#45;&gt;21 -->\n<g id=\"edge21\" class=\"edge\">\n<title>19&#45;&gt;21</title>\n<path fill=\"none\" stroke=\"black\" d=\"M505.97,-504.88C506.29,-494.22 506.64,-482.35 506.96,-471.52\"/>\n<polygon fill=\"black\" stroke=\"black\" points=\"510.45,-471.62 507.25,-461.52 503.46,-471.41 510.45,-471.62\"/>\n</g>\n<!-- 23 -->\n<g id=\"node24\" class=\"node\">\n<title>23</title>\n<polygon fill=\"none\" stroke=\"black\" points=\"673,-469 575,-469 575,-401 673,-401 673,-469\"/>\n<text text-anchor=\"middle\" x=\"624\" y=\"-453.8\" font-family=\"Times New Roman,serif\" font-size=\"14.00\">age &lt;= 70.1</text>\n<text text-anchor=\"middle\" x=\"624\" y=\"-438.8\" font-family=\"Times New Roman,serif\" font-size=\"14.00\">mse = 4.35</text>\n<text text-anchor=\"middle\" x=\"624\" y=\"-423.8\" font-family=\"Times New Roman,serif\" font-size=\"14.00\">samples = 44</text>\n<text text-anchor=\"middle\" x=\"624\" y=\"-408.8\" font-family=\"Times New Roman,serif\" font-size=\"14.00\">value = 19.661</text>\n</g>\n<!-- 22&#45;&gt;23 -->\n<g id=\"edge23\" class=\"edge\">\n<title>22&#45;&gt;23</title>\n<path fill=\"none\" stroke=\"black\" d=\"M625.35,-504.88C625.19,-496.78 625.02,-487.98 624.85,-479.47\"/>\n<polygon fill=\"black\" stroke=\"black\" points=\"628.35,-479.23 624.65,-469.3 621.35,-479.37 628.35,-479.23\"/>\n</g>\n<!-- 26 -->\n<g id=\"node27\" class=\"node\">\n<title>26</title>\n<polygon fill=\"none\" stroke=\"black\" points=\"789,-469 691,-469 691,-401 789,-401 789,-469\"/>\n<text text-anchor=\"middle\" x=\"740\" y=\"-453.8\" font-family=\"Times New Roman,serif\" font-size=\"14.00\">nox &lt;= 0.627</text>\n<text text-anchor=\"middle\" x=\"740\" y=\"-438.8\" font-family=\"Times New Roman,serif\" font-size=\"14.00\">mse = 4.531</text>\n<text text-anchor=\"middle\" x=\"740\" y=\"-423.8\" font-family=\"Times New Roman,serif\" font-size=\"14.00\">samples = 36</text>\n<text text-anchor=\"middle\" x=\"740\" y=\"-408.8\" font-family=\"Times New Roman,serif\" font-size=\"14.00\">value = 21.122</text>\n</g>\n<!-- 22&#45;&gt;26 -->\n<g id=\"edge26\" class=\"edge\">\n<title>22&#45;&gt;26</title>\n<path fill=\"none\" stroke=\"black\" d=\"M663.01,-504.88C673.27,-495.71 684.51,-485.65 695.16,-476.12\"/>\n<polygon fill=\"black\" stroke=\"black\" points=\"697.66,-478.58 702.78,-469.3 693,-473.36 697.66,-478.58\"/>\n</g>\n<!-- 24 -->\n<g id=\"node25\" class=\"node\">\n<title>24</title>\n<polygon fill=\"none\" stroke=\"black\" points=\"561,-357.5 463,-357.5 463,-304.5 561,-304.5 561,-357.5\"/>\n<text text-anchor=\"middle\" x=\"512\" y=\"-342.3\" font-family=\"Times New Roman,serif\" font-size=\"14.00\">mse = 4.541</text>\n<text text-anchor=\"middle\" x=\"512\" y=\"-327.3\" font-family=\"Times New Roman,serif\" font-size=\"14.00\">samples = 26</text>\n<text text-anchor=\"middle\" x=\"512\" y=\"-312.3\" font-family=\"Times New Roman,serif\" font-size=\"14.00\">value = 20.292</text>\n</g>\n<!-- 23&#45;&gt;24 -->\n<g id=\"edge24\" class=\"edge\">\n<title>23&#45;&gt;24</title>\n<path fill=\"none\" stroke=\"black\" d=\"M587.64,-400.88C574.84,-389.23 560.47,-376.14 547.72,-364.53\"/>\n<polygon fill=\"black\" stroke=\"black\" points=\"549.77,-361.67 540.02,-357.52 545.06,-366.84 549.77,-361.67\"/>\n</g>\n<!-- 25 -->\n<g id=\"node26\" class=\"node\">\n<title>25</title>\n<polygon fill=\"none\" stroke=\"black\" points=\"671,-357.5 579,-357.5 579,-304.5 671,-304.5 671,-357.5\"/>\n<text text-anchor=\"middle\" x=\"625\" y=\"-342.3\" font-family=\"Times New Roman,serif\" font-size=\"14.00\">mse = 2.668</text>\n<text text-anchor=\"middle\" x=\"625\" y=\"-327.3\" font-family=\"Times New Roman,serif\" font-size=\"14.00\">samples = 18</text>\n<text text-anchor=\"middle\" x=\"625\" y=\"-312.3\" font-family=\"Times New Roman,serif\" font-size=\"14.00\">value = 18.75</text>\n</g>\n<!-- 23&#45;&gt;25 -->\n<g id=\"edge25\" class=\"edge\">\n<title>23&#45;&gt;25</title>\n<path fill=\"none\" stroke=\"black\" d=\"M624.32,-400.88C624.43,-390.33 624.54,-378.6 624.65,-367.85\"/>\n<polygon fill=\"black\" stroke=\"black\" points=\"628.15,-367.55 624.75,-357.52 621.15,-367.49 628.15,-367.55\"/>\n</g>\n<!-- 27 -->\n<g id=\"node28\" class=\"node\">\n<title>27</title>\n<polygon fill=\"none\" stroke=\"black\" points=\"788,-357.5 690,-357.5 690,-304.5 788,-304.5 788,-357.5\"/>\n<text text-anchor=\"middle\" x=\"739\" y=\"-342.3\" font-family=\"Times New Roman,serif\" font-size=\"14.00\">mse = 4.093</text>\n<text text-anchor=\"middle\" x=\"739\" y=\"-327.3\" font-family=\"Times New Roman,serif\" font-size=\"14.00\">samples = 24</text>\n<text text-anchor=\"middle\" x=\"739\" y=\"-312.3\" font-family=\"Times New Roman,serif\" font-size=\"14.00\">value = 20.783</text>\n</g>\n<!-- 26&#45;&gt;27 -->\n<g id=\"edge27\" class=\"edge\">\n<title>26&#45;&gt;27</title>\n<path fill=\"none\" stroke=\"black\" d=\"M739.68,-400.88C739.57,-390.33 739.46,-378.6 739.35,-367.85\"/>\n<polygon fill=\"black\" stroke=\"black\" points=\"742.85,-367.49 739.25,-357.52 735.85,-367.55 742.85,-367.49\"/>\n</g>\n<!-- 28 -->\n<g id=\"node29\" class=\"node\">\n<title>28</title>\n<polygon fill=\"none\" stroke=\"black\" points=\"897.5,-357.5 806.5,-357.5 806.5,-304.5 897.5,-304.5 897.5,-357.5\"/>\n<text text-anchor=\"middle\" x=\"852\" y=\"-342.3\" font-family=\"Times New Roman,serif\" font-size=\"14.00\">mse = 4.717</text>\n<text text-anchor=\"middle\" x=\"852\" y=\"-327.3\" font-family=\"Times New Roman,serif\" font-size=\"14.00\">samples = 12</text>\n<text text-anchor=\"middle\" x=\"852\" y=\"-312.3\" font-family=\"Times New Roman,serif\" font-size=\"14.00\">value = 21.8</text>\n</g>\n<!-- 26&#45;&gt;28 -->\n<g id=\"edge28\" class=\"edge\">\n<title>26&#45;&gt;28</title>\n<path fill=\"none\" stroke=\"black\" d=\"M776.36,-400.88C789.16,-389.23 803.53,-376.14 816.28,-364.53\"/>\n<polygon fill=\"black\" stroke=\"black\" points=\"818.94,-366.84 823.98,-357.52 814.23,-361.67 818.94,-366.84\"/>\n</g>\n<!-- 30 -->\n<g id=\"node31\" class=\"node\">\n<title>30</title>\n<polygon fill=\"none\" stroke=\"black\" points=\"905,-781 807,-781 807,-713 905,-713 905,-781\"/>\n<text text-anchor=\"middle\" x=\"856\" y=\"-765.8\" font-family=\"Times New Roman,serif\" font-size=\"14.00\">nox &lt;= 0.531</text>\n<text text-anchor=\"middle\" x=\"856\" y=\"-750.8\" font-family=\"Times New Roman,serif\" font-size=\"14.00\">mse = 11.391</text>\n<text text-anchor=\"middle\" x=\"856\" y=\"-735.8\" font-family=\"Times New Roman,serif\" font-size=\"14.00\">samples = 101</text>\n<text text-anchor=\"middle\" x=\"856\" y=\"-720.8\" font-family=\"Times New Roman,serif\" font-size=\"14.00\">value = 17.138</text>\n</g>\n<!-- 29&#45;&gt;30 -->\n<g id=\"edge30\" class=\"edge\">\n<title>29&#45;&gt;30</title>\n<path fill=\"none\" stroke=\"black\" d=\"M895.17,-816.88C890.31,-808.33 885.01,-799.01 879.92,-790.07\"/>\n<polygon fill=\"black\" stroke=\"black\" points=\"882.92,-788.26 874.93,-781.3 876.84,-791.72 882.92,-788.26\"/>\n</g>\n<!-- 39 -->\n<g id=\"node40\" class=\"node\">\n<title>39</title>\n<polygon fill=\"none\" stroke=\"black\" points=\"1022,-781 924,-781 924,-713 1022,-713 1022,-781\"/>\n<text text-anchor=\"middle\" x=\"973\" y=\"-765.8\" font-family=\"Times New Roman,serif\" font-size=\"14.00\">nox &lt;= 0.606</text>\n<text text-anchor=\"middle\" x=\"973\" y=\"-750.8\" font-family=\"Times New Roman,serif\" font-size=\"14.00\">mse = 14.674</text>\n<text text-anchor=\"middle\" x=\"973\" y=\"-735.8\" font-family=\"Times New Roman,serif\" font-size=\"14.00\">samples = 74</text>\n<text text-anchor=\"middle\" x=\"973\" y=\"-720.8\" font-family=\"Times New Roman,serif\" font-size=\"14.00\">value = 11.978</text>\n</g>\n<!-- 29&#45;&gt;39 -->\n<g id=\"edge39\" class=\"edge\">\n<title>29&#45;&gt;39</title>\n<path fill=\"none\" stroke=\"black\" d=\"M933.16,-816.88C938.1,-808.33 943.49,-799.01 948.66,-790.07\"/>\n<polygon fill=\"black\" stroke=\"black\" points=\"951.76,-791.71 953.74,-781.3 945.7,-788.2 951.76,-791.71\"/>\n</g>\n<!-- 31 -->\n<g id=\"node32\" class=\"node\">\n<title>31</title>\n<polygon fill=\"none\" stroke=\"black\" points=\"787,-669.5 689,-669.5 689,-616.5 787,-616.5 787,-669.5\"/>\n<text text-anchor=\"middle\" x=\"738\" y=\"-654.3\" font-family=\"Times New Roman,serif\" font-size=\"14.00\">mse = 9.016</text>\n<text text-anchor=\"middle\" x=\"738\" y=\"-639.3\" font-family=\"Times New Roman,serif\" font-size=\"14.00\">samples = 24</text>\n<text text-anchor=\"middle\" x=\"738\" y=\"-624.3\" font-family=\"Times New Roman,serif\" font-size=\"14.00\">value = 20.021</text>\n</g>\n<!-- 30&#45;&gt;31 -->\n<g id=\"edge31\" class=\"edge\">\n<title>30&#45;&gt;31</title>\n<path fill=\"none\" stroke=\"black\" d=\"M817.69,-712.88C804.08,-701.12 788.78,-687.89 775.25,-676.2\"/>\n<polygon fill=\"black\" stroke=\"black\" points=\"777.38,-673.41 767.52,-669.52 772.8,-678.71 777.38,-673.41\"/>\n</g>\n<!-- 32 -->\n<g id=\"node33\" class=\"node\">\n<title>32</title>\n<polygon fill=\"none\" stroke=\"black\" points=\"906.5,-677 805.5,-677 805.5,-609 906.5,-609 906.5,-677\"/>\n<text text-anchor=\"middle\" x=\"856\" y=\"-661.8\" font-family=\"Times New Roman,serif\" font-size=\"14.00\">lstat &lt;= 18.885</text>\n<text text-anchor=\"middle\" x=\"856\" y=\"-646.8\" font-family=\"Times New Roman,serif\" font-size=\"14.00\">mse = 8.733</text>\n<text text-anchor=\"middle\" x=\"856\" y=\"-631.8\" font-family=\"Times New Roman,serif\" font-size=\"14.00\">samples = 77</text>\n<text text-anchor=\"middle\" x=\"856\" y=\"-616.8\" font-family=\"Times New Roman,serif\" font-size=\"14.00\">value = 16.239</text>\n</g>\n<!-- 30&#45;&gt;32 -->\n<g id=\"edge32\" class=\"edge\">\n<title>30&#45;&gt;32</title>\n<path fill=\"none\" stroke=\"black\" d=\"M856,-712.88C856,-704.78 856,-695.98 856,-687.47\"/>\n<polygon fill=\"black\" stroke=\"black\" points=\"859.5,-687.3 856,-677.3 852.5,-687.3 859.5,-687.3\"/>\n</g>\n<!-- 33 -->\n<g id=\"node34\" class=\"node\">\n<title>33</title>\n<polygon fill=\"none\" stroke=\"black\" points=\"905,-573 807,-573 807,-505 905,-505 905,-573\"/>\n<text text-anchor=\"middle\" x=\"856\" y=\"-557.8\" font-family=\"Times New Roman,serif\" font-size=\"14.00\">age &lt;= 85.2</text>\n<text text-anchor=\"middle\" x=\"856\" y=\"-542.8\" font-family=\"Times New Roman,serif\" font-size=\"14.00\">mse = 5.952</text>\n<text text-anchor=\"middle\" x=\"856\" y=\"-527.8\" font-family=\"Times New Roman,serif\" font-size=\"14.00\">samples = 53</text>\n<text text-anchor=\"middle\" x=\"856\" y=\"-512.8\" font-family=\"Times New Roman,serif\" font-size=\"14.00\">value = 17.234</text>\n</g>\n<!-- 32&#45;&gt;33 -->\n<g id=\"edge33\" class=\"edge\">\n<title>32&#45;&gt;33</title>\n<path fill=\"none\" stroke=\"black\" d=\"M856,-608.88C856,-600.78 856,-591.98 856,-583.47\"/>\n<polygon fill=\"black\" stroke=\"black\" points=\"859.5,-583.3 856,-573.3 852.5,-583.3 859.5,-583.3\"/>\n</g>\n<!-- 38 -->\n<g id=\"node39\" class=\"node\">\n<title>38</title>\n<polygon fill=\"none\" stroke=\"black\" points=\"1021,-565.5 923,-565.5 923,-512.5 1021,-512.5 1021,-565.5\"/>\n<text text-anchor=\"middle\" x=\"972\" y=\"-550.3\" font-family=\"Times New Roman,serif\" font-size=\"14.00\">mse = 7.862</text>\n<text text-anchor=\"middle\" x=\"972\" y=\"-535.3\" font-family=\"Times New Roman,serif\" font-size=\"14.00\">samples = 24</text>\n<text text-anchor=\"middle\" x=\"972\" y=\"-520.3\" font-family=\"Times New Roman,serif\" font-size=\"14.00\">value = 14.042</text>\n</g>\n<!-- 32&#45;&gt;38 -->\n<g id=\"edge38\" class=\"edge\">\n<title>32&#45;&gt;38</title>\n<path fill=\"none\" stroke=\"black\" d=\"M893.66,-608.88C907.04,-597.12 922.08,-583.89 935.38,-572.2\"/>\n<polygon fill=\"black\" stroke=\"black\" points=\"937.78,-574.75 942.98,-565.52 933.16,-569.49 937.78,-574.75\"/>\n</g>\n<!-- 34 -->\n<g id=\"node35\" class=\"node\">\n<title>34</title>\n<polygon fill=\"none\" stroke=\"black\" points=\"905,-461.5 807,-461.5 807,-408.5 905,-408.5 905,-461.5\"/>\n<text text-anchor=\"middle\" x=\"856\" y=\"-446.3\" font-family=\"Times New Roman,serif\" font-size=\"14.00\">mse = 4.531</text>\n<text text-anchor=\"middle\" x=\"856\" y=\"-431.3\" font-family=\"Times New Roman,serif\" font-size=\"14.00\">samples = 12</text>\n<text text-anchor=\"middle\" x=\"856\" y=\"-416.3\" font-family=\"Times New Roman,serif\" font-size=\"14.00\">value = 19.408</text>\n</g>\n<!-- 33&#45;&gt;34 -->\n<g id=\"edge34\" class=\"edge\">\n<title>33&#45;&gt;34</title>\n<path fill=\"none\" stroke=\"black\" d=\"M856,-504.88C856,-494.33 856,-482.6 856,-471.85\"/>\n<polygon fill=\"black\" stroke=\"black\" points=\"859.5,-471.52 856,-461.52 852.5,-471.52 859.5,-471.52\"/>\n</g>\n<!-- 35 -->\n<g id=\"node36\" class=\"node\">\n<title>35</title>\n<polygon fill=\"none\" stroke=\"black\" points=\"1021,-469 923,-469 923,-401 1021,-401 1021,-469\"/>\n<text text-anchor=\"middle\" x=\"972\" y=\"-453.8\" font-family=\"Times New Roman,serif\" font-size=\"14.00\">crim &lt;= 0.615</text>\n<text text-anchor=\"middle\" x=\"972\" y=\"-438.8\" font-family=\"Times New Roman,serif\" font-size=\"14.00\">mse = 4.579</text>\n<text text-anchor=\"middle\" x=\"972\" y=\"-423.8\" font-family=\"Times New Roman,serif\" font-size=\"14.00\">samples = 41</text>\n<text text-anchor=\"middle\" x=\"972\" y=\"-408.8\" font-family=\"Times New Roman,serif\" font-size=\"14.00\">value = 16.598</text>\n</g>\n<!-- 33&#45;&gt;35 -->\n<g id=\"edge35\" class=\"edge\">\n<title>33&#45;&gt;35</title>\n<path fill=\"none\" stroke=\"black\" d=\"M893.66,-504.88C904.1,-495.71 915.54,-485.65 926.37,-476.12\"/>\n<polygon fill=\"black\" stroke=\"black\" points=\"928.93,-478.53 934.13,-469.3 924.31,-473.27 928.93,-478.53\"/>\n</g>\n<!-- 36 -->\n<g id=\"node37\" class=\"node\">\n<title>36</title>\n<polygon fill=\"none\" stroke=\"black\" points=\"1018,-357.5 920,-357.5 920,-304.5 1018,-304.5 1018,-357.5\"/>\n<text text-anchor=\"middle\" x=\"969\" y=\"-342.3\" font-family=\"Times New Roman,serif\" font-size=\"14.00\">mse = 3.971</text>\n<text text-anchor=\"middle\" x=\"969\" y=\"-327.3\" font-family=\"Times New Roman,serif\" font-size=\"14.00\">samples = 16</text>\n<text text-anchor=\"middle\" x=\"969\" y=\"-312.3\" font-family=\"Times New Roman,serif\" font-size=\"14.00\">value = 18.112</text>\n</g>\n<!-- 35&#45;&gt;36 -->\n<g id=\"edge36\" class=\"edge\">\n<title>35&#45;&gt;36</title>\n<path fill=\"none\" stroke=\"black\" d=\"M971.03,-400.88C970.71,-390.22 970.36,-378.35 970.04,-367.52\"/>\n<polygon fill=\"black\" stroke=\"black\" points=\"973.54,-367.41 969.75,-357.52 966.55,-367.62 973.54,-367.41\"/>\n</g>\n<!-- 37 -->\n<g id=\"node38\" class=\"node\">\n<title>37</title>\n<polygon fill=\"none\" stroke=\"black\" points=\"1134,-357.5 1036,-357.5 1036,-304.5 1134,-304.5 1134,-357.5\"/>\n<text text-anchor=\"middle\" x=\"1085\" y=\"-342.3\" font-family=\"Times New Roman,serif\" font-size=\"14.00\">mse = 2.559</text>\n<text text-anchor=\"middle\" x=\"1085\" y=\"-327.3\" font-family=\"Times New Roman,serif\" font-size=\"14.00\">samples = 25</text>\n<text text-anchor=\"middle\" x=\"1085\" y=\"-312.3\" font-family=\"Times New Roman,serif\" font-size=\"14.00\">value = 15.628</text>\n</g>\n<!-- 35&#45;&gt;37 -->\n<g id=\"edge37\" class=\"edge\">\n<title>35&#45;&gt;37</title>\n<path fill=\"none\" stroke=\"black\" d=\"M1008.69,-400.88C1021.6,-389.23 1036.1,-376.14 1048.96,-364.53\"/>\n<polygon fill=\"black\" stroke=\"black\" points=\"1051.65,-366.82 1056.73,-357.52 1046.96,-361.62 1051.65,-366.82\"/>\n</g>\n<!-- 40 -->\n<g id=\"node41\" class=\"node\">\n<title>40</title>\n<polygon fill=\"none\" stroke=\"black\" points=\"1023,-669.5 925,-669.5 925,-616.5 1023,-616.5 1023,-669.5\"/>\n<text text-anchor=\"middle\" x=\"974\" y=\"-654.3\" font-family=\"Times New Roman,serif\" font-size=\"14.00\">mse = 18.606</text>\n<text text-anchor=\"middle\" x=\"974\" y=\"-639.3\" font-family=\"Times New Roman,serif\" font-size=\"14.00\">samples = 12</text>\n<text text-anchor=\"middle\" x=\"974\" y=\"-624.3\" font-family=\"Times New Roman,serif\" font-size=\"14.00\">value = 16.633</text>\n</g>\n<!-- 39&#45;&gt;40 -->\n<g id=\"edge40\" class=\"edge\">\n<title>39&#45;&gt;40</title>\n<path fill=\"none\" stroke=\"black\" d=\"M973.32,-712.88C973.43,-702.33 973.54,-690.6 973.65,-679.85\"/>\n<polygon fill=\"black\" stroke=\"black\" points=\"977.15,-679.55 973.75,-669.52 970.15,-679.49 977.15,-679.55\"/>\n</g>\n<!-- 41 -->\n<g id=\"node42\" class=\"node\">\n<title>41</title>\n<polygon fill=\"none\" stroke=\"black\" points=\"1142.5,-677 1041.5,-677 1041.5,-609 1142.5,-609 1142.5,-677\"/>\n<text text-anchor=\"middle\" x=\"1092\" y=\"-661.8\" font-family=\"Times New Roman,serif\" font-size=\"14.00\">lstat &lt;= 19.645</text>\n<text text-anchor=\"middle\" x=\"1092\" y=\"-646.8\" font-family=\"Times New Roman,serif\" font-size=\"14.00\">mse = 8.908</text>\n<text text-anchor=\"middle\" x=\"1092\" y=\"-631.8\" font-family=\"Times New Roman,serif\" font-size=\"14.00\">samples = 62</text>\n<text text-anchor=\"middle\" x=\"1092\" y=\"-616.8\" font-family=\"Times New Roman,serif\" font-size=\"14.00\">value = 11.077</text>\n</g>\n<!-- 39&#45;&gt;41 -->\n<g id=\"edge41\" class=\"edge\">\n<title>39&#45;&gt;41</title>\n<path fill=\"none\" stroke=\"black\" d=\"M1011.64,-712.88C1022.44,-703.62 1034.3,-693.45 1045.51,-683.85\"/>\n<polygon fill=\"black\" stroke=\"black\" points=\"1047.84,-686.46 1053.15,-677.3 1043.28,-681.15 1047.84,-686.46\"/>\n</g>\n<!-- 42 -->\n<g id=\"node43\" class=\"node\">\n<title>42</title>\n<polygon fill=\"none\" stroke=\"black\" points=\"1139,-565.5 1041,-565.5 1041,-512.5 1139,-512.5 1139,-565.5\"/>\n<text text-anchor=\"middle\" x=\"1090\" y=\"-550.3\" font-family=\"Times New Roman,serif\" font-size=\"14.00\">mse = 4.18</text>\n<text text-anchor=\"middle\" x=\"1090\" y=\"-535.3\" font-family=\"Times New Roman,serif\" font-size=\"14.00\">samples = 18</text>\n<text text-anchor=\"middle\" x=\"1090\" y=\"-520.3\" font-family=\"Times New Roman,serif\" font-size=\"14.00\">value = 13.922</text>\n</g>\n<!-- 41&#45;&gt;42 -->\n<g id=\"edge42\" class=\"edge\">\n<title>41&#45;&gt;42</title>\n<path fill=\"none\" stroke=\"black\" d=\"M1091.35,-608.88C1091.14,-598.22 1090.91,-586.35 1090.7,-575.52\"/>\n<polygon fill=\"black\" stroke=\"black\" points=\"1094.2,-575.45 1090.5,-565.52 1087.2,-575.59 1094.2,-575.45\"/>\n</g>\n<!-- 43 -->\n<g id=\"node44\" class=\"node\">\n<title>43</title>\n<polygon fill=\"none\" stroke=\"black\" points=\"1249,-573 1157,-573 1157,-505 1249,-505 1249,-573\"/>\n<text text-anchor=\"middle\" x=\"1203\" y=\"-557.8\" font-family=\"Times New Roman,serif\" font-size=\"14.00\">nox &lt;= 0.675</text>\n<text text-anchor=\"middle\" x=\"1203\" y=\"-542.8\" font-family=\"Times New Roman,serif\" font-size=\"14.00\">mse = 6.177</text>\n<text text-anchor=\"middle\" x=\"1203\" y=\"-527.8\" font-family=\"Times New Roman,serif\" font-size=\"14.00\">samples = 44</text>\n<text text-anchor=\"middle\" x=\"1203\" y=\"-512.8\" font-family=\"Times New Roman,serif\" font-size=\"14.00\">value = 9.914</text>\n</g>\n<!-- 41&#45;&gt;43 -->\n<g id=\"edge43\" class=\"edge\">\n<title>41&#45;&gt;43</title>\n<path fill=\"none\" stroke=\"black\" d=\"M1128.04,-608.88C1138.02,-599.71 1148.97,-589.65 1159.34,-580.12\"/>\n<polygon fill=\"black\" stroke=\"black\" points=\"1161.77,-582.64 1166.76,-573.3 1157.03,-577.49 1161.77,-582.64\"/>\n</g>\n<!-- 44 -->\n<g id=\"node45\" class=\"node\">\n<title>44</title>\n<polygon fill=\"none\" stroke=\"black\" points=\"1246,-461.5 1154,-461.5 1154,-408.5 1246,-408.5 1246,-461.5\"/>\n<text text-anchor=\"middle\" x=\"1200\" y=\"-446.3\" font-family=\"Times New Roman,serif\" font-size=\"14.00\">mse = 1.544</text>\n<text text-anchor=\"middle\" x=\"1200\" y=\"-431.3\" font-family=\"Times New Roman,serif\" font-size=\"14.00\">samples = 10</text>\n<text text-anchor=\"middle\" x=\"1200\" y=\"-416.3\" font-family=\"Times New Roman,serif\" font-size=\"14.00\">value = 12.63</text>\n</g>\n<!-- 43&#45;&gt;44 -->\n<g id=\"edge44\" class=\"edge\">\n<title>43&#45;&gt;44</title>\n<path fill=\"none\" stroke=\"black\" d=\"M1202.03,-504.88C1201.71,-494.22 1201.36,-482.35 1201.04,-471.52\"/>\n<polygon fill=\"black\" stroke=\"black\" points=\"1204.54,-471.41 1200.75,-461.52 1197.55,-471.62 1204.54,-471.41\"/>\n</g>\n<!-- 45 -->\n<g id=\"node46\" class=\"node\">\n<title>45</title>\n<polygon fill=\"none\" stroke=\"black\" points=\"1360,-469 1264,-469 1264,-401 1360,-401 1360,-469\"/>\n<text text-anchor=\"middle\" x=\"1312\" y=\"-453.8\" font-family=\"Times New Roman,serif\" font-size=\"14.00\">crim &lt;= 13.24</text>\n<text text-anchor=\"middle\" x=\"1312\" y=\"-438.8\" font-family=\"Times New Roman,serif\" font-size=\"14.00\">mse = 4.731</text>\n<text text-anchor=\"middle\" x=\"1312\" y=\"-423.8\" font-family=\"Times New Roman,serif\" font-size=\"14.00\">samples = 34</text>\n<text text-anchor=\"middle\" x=\"1312\" y=\"-408.8\" font-family=\"Times New Roman,serif\" font-size=\"14.00\">value = 9.115</text>\n</g>\n<!-- 43&#45;&gt;45 -->\n<g id=\"edge45\" class=\"edge\">\n<title>43&#45;&gt;45</title>\n<path fill=\"none\" stroke=\"black\" d=\"M1238.39,-504.88C1248.1,-495.8 1258.73,-485.85 1268.83,-476.4\"/>\n<polygon fill=\"black\" stroke=\"black\" points=\"1271.51,-478.69 1276.42,-469.3 1266.72,-473.58 1271.51,-478.69\"/>\n</g>\n<!-- 46 -->\n<g id=\"node47\" class=\"node\">\n<title>46</title>\n<polygon fill=\"none\" stroke=\"black\" points=\"1303,-357.5 1211,-357.5 1211,-304.5 1303,-304.5 1303,-357.5\"/>\n<text text-anchor=\"middle\" x=\"1257\" y=\"-342.3\" font-family=\"Times New Roman,serif\" font-size=\"14.00\">mse = 3.989</text>\n<text text-anchor=\"middle\" x=\"1257\" y=\"-327.3\" font-family=\"Times New Roman,serif\" font-size=\"14.00\">samples = 15</text>\n<text text-anchor=\"middle\" x=\"1257\" y=\"-312.3\" font-family=\"Times New Roman,serif\" font-size=\"14.00\">value = 10.46</text>\n</g>\n<!-- 45&#45;&gt;46 -->\n<g id=\"edge46\" class=\"edge\">\n<title>45&#45;&gt;46</title>\n<path fill=\"none\" stroke=\"black\" d=\"M1294.14,-400.88C1288.21,-389.89 1281.6,-377.62 1275.61,-366.52\"/>\n<polygon fill=\"black\" stroke=\"black\" points=\"1278.59,-364.66 1270.76,-357.52 1272.43,-367.98 1278.59,-364.66\"/>\n</g>\n<!-- 47 -->\n<g id=\"node48\" class=\"node\">\n<title>47</title>\n<polygon fill=\"none\" stroke=\"black\" points=\"1413,-357.5 1321,-357.5 1321,-304.5 1413,-304.5 1413,-357.5\"/>\n<text text-anchor=\"middle\" x=\"1367\" y=\"-342.3\" font-family=\"Times New Roman,serif\" font-size=\"14.00\">mse = 2.76</text>\n<text text-anchor=\"middle\" x=\"1367\" y=\"-327.3\" font-family=\"Times New Roman,serif\" font-size=\"14.00\">samples = 19</text>\n<text text-anchor=\"middle\" x=\"1367\" y=\"-312.3\" font-family=\"Times New Roman,serif\" font-size=\"14.00\">value = 8.053</text>\n</g>\n<!-- 45&#45;&gt;47 -->\n<g id=\"edge47\" class=\"edge\">\n<title>45&#45;&gt;47</title>\n<path fill=\"none\" stroke=\"black\" d=\"M1329.86,-400.88C1335.79,-389.89 1342.4,-377.62 1348.39,-366.52\"/>\n<polygon fill=\"black\" stroke=\"black\" points=\"1351.57,-367.98 1353.24,-357.52 1345.41,-364.66 1351.57,-367.98\"/>\n</g>\n<!-- 49 -->\n<g id=\"node50\" class=\"node\">\n<title>49</title>\n<polygon fill=\"none\" stroke=\"black\" points=\"1195,-885 1097,-885 1097,-817 1195,-817 1195,-885\"/>\n<text text-anchor=\"middle\" x=\"1146\" y=\"-869.8\" font-family=\"Times New Roman,serif\" font-size=\"14.00\">lstat &lt;= 5.495</text>\n<text text-anchor=\"middle\" x=\"1146\" y=\"-854.8\" font-family=\"Times New Roman,serif\" font-size=\"14.00\">mse = 41.296</text>\n<text text-anchor=\"middle\" x=\"1146\" y=\"-839.8\" font-family=\"Times New Roman,serif\" font-size=\"14.00\">samples = 46</text>\n<text text-anchor=\"middle\" x=\"1146\" y=\"-824.8\" font-family=\"Times New Roman,serif\" font-size=\"14.00\">value = 32.113</text>\n</g>\n<!-- 48&#45;&gt;49 -->\n<g id=\"edge49\" class=\"edge\">\n<title>48&#45;&gt;49</title>\n<path fill=\"none\" stroke=\"black\" d=\"M1146,-920.88C1146,-912.78 1146,-903.98 1146,-895.47\"/>\n<polygon fill=\"black\" stroke=\"black\" points=\"1149.5,-895.3 1146,-885.3 1142.5,-895.3 1149.5,-895.3\"/>\n</g>\n<!-- 52 -->\n<g id=\"node53\" class=\"node\">\n<title>52</title>\n<polygon fill=\"none\" stroke=\"black\" points=\"1371.5,-885 1270.5,-885 1270.5,-817 1371.5,-817 1371.5,-885\"/>\n<text text-anchor=\"middle\" x=\"1321\" y=\"-869.8\" font-family=\"Times New Roman,serif\" font-size=\"14.00\">ptratio &lt;= 15.4</text>\n<text text-anchor=\"middle\" x=\"1321\" y=\"-854.8\" font-family=\"Times New Roman,serif\" font-size=\"14.00\">mse = 36.628</text>\n<text text-anchor=\"middle\" x=\"1321\" y=\"-839.8\" font-family=\"Times New Roman,serif\" font-size=\"14.00\">samples = 30</text>\n<text text-anchor=\"middle\" x=\"1321\" y=\"-824.8\" font-family=\"Times New Roman,serif\" font-size=\"14.00\">value = 45.097</text>\n</g>\n<!-- 48&#45;&gt;52 -->\n<g id=\"edge52\" class=\"edge\">\n<title>48&#45;&gt;52</title>\n<path fill=\"none\" stroke=\"black\" d=\"M1195.21,-925.32C1215.83,-913.3 1239.97,-899.23 1261.57,-886.64\"/>\n<polygon fill=\"black\" stroke=\"black\" points=\"1263.45,-889.59 1270.33,-881.53 1259.93,-883.54 1263.45,-889.59\"/>\n</g>\n<!-- 50 -->\n<g id=\"node51\" class=\"node\">\n<title>50</title>\n<polygon fill=\"none\" stroke=\"black\" points=\"1138,-773.5 1040,-773.5 1040,-720.5 1138,-720.5 1138,-773.5\"/>\n<text text-anchor=\"middle\" x=\"1089\" y=\"-758.3\" font-family=\"Times New Roman,serif\" font-size=\"14.00\">mse = 17.249</text>\n<text text-anchor=\"middle\" x=\"1089\" y=\"-743.3\" font-family=\"Times New Roman,serif\" font-size=\"14.00\">samples = 23</text>\n<text text-anchor=\"middle\" x=\"1089\" y=\"-728.3\" font-family=\"Times New Roman,serif\" font-size=\"14.00\">value = 35.248</text>\n</g>\n<!-- 49&#45;&gt;50 -->\n<g id=\"edge50\" class=\"edge\">\n<title>49&#45;&gt;50</title>\n<path fill=\"none\" stroke=\"black\" d=\"M1127.49,-816.88C1121.35,-805.89 1114.49,-793.62 1108.29,-782.52\"/>\n<polygon fill=\"black\" stroke=\"black\" points=\"1111.19,-780.54 1103.26,-773.52 1105.08,-783.96 1111.19,-780.54\"/>\n</g>\n<!-- 51 -->\n<g id=\"node52\" class=\"node\">\n<title>51</title>\n<polygon fill=\"none\" stroke=\"black\" points=\"1254,-773.5 1156,-773.5 1156,-720.5 1254,-720.5 1254,-773.5\"/>\n<text text-anchor=\"middle\" x=\"1205\" y=\"-758.3\" font-family=\"Times New Roman,serif\" font-size=\"14.00\">mse = 45.69</text>\n<text text-anchor=\"middle\" x=\"1205\" y=\"-743.3\" font-family=\"Times New Roman,serif\" font-size=\"14.00\">samples = 23</text>\n<text text-anchor=\"middle\" x=\"1205\" y=\"-728.3\" font-family=\"Times New Roman,serif\" font-size=\"14.00\">value = 28.978</text>\n</g>\n<!-- 49&#45;&gt;51 -->\n<g id=\"edge51\" class=\"edge\">\n<title>49&#45;&gt;51</title>\n<path fill=\"none\" stroke=\"black\" d=\"M1165.16,-816.88C1171.58,-805.78 1178.76,-793.37 1185.23,-782.18\"/>\n<polygon fill=\"black\" stroke=\"black\" points=\"1188.26,-783.93 1190.24,-773.52 1182.2,-780.42 1188.26,-783.93\"/>\n</g>\n<!-- 53 -->\n<g id=\"node54\" class=\"node\">\n<title>53</title>\n<polygon fill=\"none\" stroke=\"black\" points=\"1370,-773.5 1272,-773.5 1272,-720.5 1370,-720.5 1370,-773.5\"/>\n<text text-anchor=\"middle\" x=\"1321\" y=\"-758.3\" font-family=\"Times New Roman,serif\" font-size=\"14.00\">mse = 7.774</text>\n<text text-anchor=\"middle\" x=\"1321\" y=\"-743.3\" font-family=\"Times New Roman,serif\" font-size=\"14.00\">samples = 16</text>\n<text text-anchor=\"middle\" x=\"1321\" y=\"-728.3\" font-family=\"Times New Roman,serif\" font-size=\"14.00\">value = 47.975</text>\n</g>\n<!-- 52&#45;&gt;53 -->\n<g id=\"edge53\" class=\"edge\">\n<title>52&#45;&gt;53</title>\n<path fill=\"none\" stroke=\"black\" d=\"M1321,-816.88C1321,-806.33 1321,-794.6 1321,-783.85\"/>\n<polygon fill=\"black\" stroke=\"black\" points=\"1324.5,-783.52 1321,-773.52 1317.5,-783.52 1324.5,-783.52\"/>\n</g>\n<!-- 54 -->\n<g id=\"node55\" class=\"node\">\n<title>54</title>\n<polygon fill=\"none\" stroke=\"black\" points=\"1486,-773.5 1388,-773.5 1388,-720.5 1486,-720.5 1486,-773.5\"/>\n<text text-anchor=\"middle\" x=\"1437\" y=\"-758.3\" font-family=\"Times New Roman,serif\" font-size=\"14.00\">mse = 49.315</text>\n<text text-anchor=\"middle\" x=\"1437\" y=\"-743.3\" font-family=\"Times New Roman,serif\" font-size=\"14.00\">samples = 14</text>\n<text text-anchor=\"middle\" x=\"1437\" y=\"-728.3\" font-family=\"Times New Roman,serif\" font-size=\"14.00\">value = 41.807</text>\n</g>\n<!-- 52&#45;&gt;54 -->\n<g id=\"edge54\" class=\"edge\">\n<title>52&#45;&gt;54</title>\n<path fill=\"none\" stroke=\"black\" d=\"M1358.66,-816.88C1372.04,-805.12 1387.08,-791.89 1400.38,-780.2\"/>\n<polygon fill=\"black\" stroke=\"black\" points=\"1402.78,-782.75 1407.98,-773.52 1398.16,-777.49 1402.78,-782.75\"/>\n</g>\n</g>\n</svg>\n",
      "text/plain": [
       "<graphviz.sources.Source at 0x19964729dc0>"
      ]
     },
     "execution_count": 10,
     "metadata": {},
     "output_type": "execute_result"
    }
   ],
   "source": [
    "from sklearn.tree import export_graphviz\n",
    "with open(\"archivos/boston_rtree.dot\", \"w\") as dotfile:\n",
    "    export_graphviz(regtree, out_file=dotfile, feature_names=predictors)\n",
    "    dotfile.close()\n",
    "    \n",
    "import os\n",
    "from graphviz import Source\n",
    "file = open(\"archivos/boston_rtree.dot\", \"r\")\n",
    "text = file.read()\n",
    "Source(text)"
   ]
  },
  {
   "cell_type": "code",
   "execution_count": 11,
   "metadata": {},
   "outputs": [],
   "source": [
    "import os\n",
    "os.environ[\"PATH\"] += os.pathsep + 'C:\\Program Files (x86)\\Graphviz/bin'"
   ]
  },
  {
   "cell_type": "code",
   "execution_count": 12,
   "metadata": {},
   "outputs": [],
   "source": [
    "from sklearn.model_selection import KFold\n",
    "from sklearn.model_selection import cross_val_score\n",
    "import numpy as np\n",
    "from sklearn.metrics import mean_squared_error, make_scorer"
   ]
  },
  {
   "cell_type": "code",
   "execution_count": 13,
   "metadata": {},
   "outputs": [
    {
     "name": "stdout",
     "output_type": "stream",
     "text": [
      "[13.64925886 17.28987161 16.98569707 47.56954086  9.26202865 17.23057023\n",
      " 15.41541493 31.33011027 22.79877067  9.54180723]\n",
      "20.107307036443846\n"
     ]
    }
   ],
   "source": [
    "cv = KFold(n_splits = 10, shuffle=True, random_state=1)\n",
    "cv.get_n_splits(X)\n",
    "scores = cross_val_score(regtree, X, Y, scoring=make_scorer(mean_squared_error), cv = cv, n_jobs=1)\n",
    "print(scores)\n",
    "score = np.mean(scores)\n",
    "print(score)"
   ]
  },
  {
   "cell_type": "code",
   "execution_count": 14,
   "metadata": {},
   "outputs": [
    {
     "data": {
      "text/plain": [
       "[('crim', 0.03421203230639308),\n",
       " ('zn', 0.0),\n",
       " ('indus', 0.0011605887788380146),\n",
       " ('chas', 0.0),\n",
       " ('nox', 0.01856163073811432),\n",
       " ('rm', 0.6308568014337028),\n",
       " ('age', 0.01725115143448847),\n",
       " ('dis', 0.0013745115995791378),\n",
       " ('rad', 0.0),\n",
       " ('tax', 0.0023698305298803803),\n",
       " ('ptratio', 0.009333247332530954),\n",
       " ('black', 0.0),\n",
       " ('lstat', 0.28488020584647283)]"
      ]
     },
     "execution_count": 14,
     "metadata": {},
     "output_type": "execute_result"
    }
   ],
   "source": [
    "list(zip(predictors,regtree.feature_importances_))"
   ]
  },
  {
   "cell_type": "markdown",
   "metadata": {},
   "source": [
    "## Random forests"
   ]
  },
  {
   "cell_type": "code",
   "execution_count": 15,
   "metadata": {},
   "outputs": [],
   "source": [
    "from sklearn.ensemble import RandomForestRegressor"
   ]
  },
  {
   "cell_type": "code",
   "execution_count": 17,
   "metadata": {},
   "outputs": [
    {
     "name": "stderr",
     "output_type": "stream",
     "text": [
      "c:\\Users\\Golfa\\anaconda3\\lib\\site-packages\\sklearn\\ensemble\\_forest.py:833: UserWarning: Some inputs do not have OOB scores. This probably means too few trees were used to compute any reliable oob estimates.\n",
      "  warn(\"Some inputs do not have OOB scores. \"\n"
     ]
    },
    {
     "data": {
      "text/plain": [
       "RandomForestRegressor(n_estimators=10, n_jobs=2, oob_score=True)"
      ]
     },
     "execution_count": 17,
     "metadata": {},
     "output_type": "execute_result"
    }
   ],
   "source": [
    "#n_estimators sicnifica el número de bosques que se harán \n",
    "forest = RandomForestRegressor(n_jobs=2, oob_score=True, n_estimators=10)\n",
    "## hacemos los datos\n",
    "forest.fit(X, Y)"
   ]
  },
  {
   "cell_type": "code",
   "execution_count": 18,
   "metadata": {},
   "outputs": [
    {
     "data": {
      "text/plain": [
       "array([26.36666667, 19.63333333, 31.625     , 33.45      , 36.25      ,\n",
       "       21.6       , 19.5       , 16.82      , 17.96      , 21.76666667,\n",
       "       16.03333333, 21.33333333, 18.91666667, 19.        , 21.25      ,\n",
       "       19.3       , 20.94      , 17.33333333, 19.9       , 19.4       ,\n",
       "       14.75      , 18.26666667, 16.93333333, 13.76      , 14.3       ,\n",
       "       14.8       , 16.5       , 15.73333333, 20.5       , 30.1       ,\n",
       "       13.7       , 19.7       , 17.94      , 14.2       , 14.33333333,\n",
       "       22.46      , 21.775     , 22.65      , 21.8       , 27.46666667,\n",
       "       34.83333333, 30.        , 24.65      , 25.8       , 20.        ,\n",
       "       20.83333333, 19.4       , 19.46666667, 17.53333333, 18.64      ,\n",
       "       19.83333333, 20.275     , 27.5       , 20.73333333, 18.93333333,\n",
       "       34.03333333, 23.66666667, 31.175     , 23.02      , 19.55      ,\n",
       "       17.76      , 18.42      , 23.7       , 26.33333333, 30.65      ,\n",
       "       23.45      , 20.6       , 20.7       , 18.65      , 18.875     ,\n",
       "       24.35      , 22.76666667, 22.83333333, 25.        , 25.9       ,\n",
       "       21.        , 20.58333333, 21.25      , 18.2       , 21.16666667,\n",
       "       26.63333333, 27.26      , 23.65      , 24.6       , 22.25      ,\n",
       "       26.3       , 21.175     , 21.18      , 29.66      , 31.06      ,\n",
       "       22.6       , 22.7       , 22.42      , 23.44      , 21.5       ,\n",
       "       30.73333333, 21.96      , 46.775     , 44.05      , 32.53333333,\n",
       "       25.35      , 27.2       , 17.475     , 20.1       , 19.86666667,\n",
       "       22.76666667, 19.32857143, 20.76666667, 21.975     , 20.125     ,\n",
       "       19.3       , 25.15      , 19.775     , 16.14      , 21.83333333,\n",
       "       19.4       , 22.35      , 19.42      , 19.        , 20.26666667,\n",
       "       23.05      , 23.225     , 20.66666667, 14.06666667, 19.96      ,\n",
       "       19.        , 16.575     , 15.65      , 17.225     , 17.6       ,\n",
       "       21.06666667, 18.        , 18.075     , 15.7       , 14.93333333,\n",
       "       18.1       , 16.18571429, 20.875     , 15.1       , 16.16666667,\n",
       "       15.5       , 11.8       , 16.25      , 12.95      , 15.4       ,\n",
       "       15.06666667, 17.78333333, 14.24      , 12.34      , 15.675     ,\n",
       "       21.46666667, 17.07142857, 24.        , 17.        , 16.7       ,\n",
       "       17.23333333, 15.31666667, 32.18      , 24.775     , 24.        ,\n",
       "       23.5       , 36.        , 48.075     , 50.        , 21.125     ,\n",
       "       21.6       , 49.6       , 17.925     , 23.24      , 24.55      ,\n",
       "       20.38      , 18.5       , 22.775     , 22.7       , 21.33333333,\n",
       "       30.7       , 22.33333333, 23.35      , 28.55      , 35.        ,\n",
       "       38.275     , 21.4       , 41.55      , 27.53333333, 23.025     ,\n",
       "       20.7       , 38.4       , 26.13333333, 27.86666667, 32.7       ,\n",
       "       30.45      , 28.825     , 34.9       , 32.71666667, 29.55      ,\n",
       "       47.75      , 34.2       , 35.1       , 33.46666667, 34.9       ,\n",
       "       34.28      , 22.9       , 47.43333333, 47.        , 47.9       ,\n",
       "       23.        , 23.        , 21.06666667, 21.225     , 16.45      ,\n",
       "        0.        , 19.86666667, 21.        , 24.31666667, 15.7       ,\n",
       "       24.9       , 21.125     , 24.45      , 19.7       , 23.175     ,\n",
       "       37.3       , 19.46      , 29.55      , 27.8       , 46.54      ,\n",
       "       40.04      , 48.88333333, 35.55      , 48.3       , 35.1       ,\n",
       "       24.        , 34.63333333, 45.04      , 48.4       , 26.875     ,\n",
       "       24.3       , 28.825     , 33.2       , 23.375     , 28.06666667,\n",
       "       26.46666667, 19.46666667, 20.1       , 23.55      , 17.23333333,\n",
       "       20.52      , 20.4       , 19.32      , 23.8       , 26.6       ,\n",
       "       24.72      , 23.73333333, 34.75      , 39.3       , 22.26666667,\n",
       "       20.73333333, 40.36      , 48.98      , 35.92      , 28.7       ,\n",
       "       32.275     , 39.92857143, 44.05      , 33.62      , 35.47142857,\n",
       "       24.86666667, 23.925     , 41.14285714, 43.65      , 21.96666667,\n",
       "       20.66666667, 25.7       , 24.34      , 38.225     , 31.86      ,\n",
       "       33.1       , 35.2       , 30.93333333,  0.        , 30.18      ,\n",
       "       45.43333333, 33.08      , 44.8       , 48.075     , 26.6       ,\n",
       "       22.32      , 25.06666667, 22.525     , 22.65      , 28.7       ,\n",
       "       30.35      , 30.8       , 28.5       , 22.73333333, 22.42      ,\n",
       "       28.08      , 26.        , 16.5       , 24.625     , 34.1       ,\n",
       "       28.06      , 23.6       , 23.7       , 31.8       , 34.5       ,\n",
       "       32.5       , 35.175     , 29.675     , 27.3       , 20.6       ,\n",
       "       19.7       , 24.36666667, 20.2       , 26.4       , 25.03333333,\n",
       "       18.525     , 20.73333333, 19.75      , 21.95      , 21.88333333,\n",
       "       22.7       , 23.18      , 22.1       , 20.66      , 23.04      ,\n",
       "       24.        , 23.62      , 21.1       , 20.06      , 24.25      ,\n",
       "       23.64      , 20.525     , 20.3       , 20.7       , 22.475     ,\n",
       "       21.3       , 19.75      , 18.82      , 19.24      , 19.7       ,\n",
       "       20.54      ,  0.        , 23.28      , 26.16      , 31.43333333,\n",
       "       19.65      , 19.125     , 23.7       , 27.56666667, 28.83333333,\n",
       "       22.34      , 27.55      , 21.65      , 25.9       , 21.5       ,\n",
       "       21.5       , 15.45      , 19.94      , 19.83333333, 18.8       ,\n",
       "       22.7       , 20.26666667, 21.56      , 19.325     , 36.93333333,\n",
       "       21.9       , 20.35      , 21.7       , 33.2       ,  0.        ,\n",
       "       43.5       , 43.92      , 33.425     , 13.8       , 12.56666667,\n",
       "       36.14      , 10.94      , 12.15714286, 11.9       , 12.35      ,\n",
       "        7.5       , 11.45      , 12.73333333, 11.46      ,  9.6       ,\n",
       "        9.73333333,  6.95      ,  9.05      ,  7.24      , 12.46666667,\n",
       "       12.83333333, 17.05      , 10.11666667, 17.35      , 10.3       ,\n",
       "       12.7       , 12.53333333, 13.04      ,  6.6       , 10.58      ,\n",
       "        8.66666667, 11.025     , 13.3       , 10.5       ,  7.7       ,\n",
       "        8.28333333, 13.54      , 50.        , 15.8       , 28.88      ,\n",
       "       27.82857143, 18.76666667, 14.25      , 15.96666667,  8.625     ,\n",
       "        8.5       , 10.43333333,  7.05      ,  8.65714286,  7.5       ,\n",
       "       17.75      , 17.1       , 21.65      , 19.1       , 14.44      ,\n",
       "        8.76666667, 16.2       , 15.35      , 13.4       , 12.6       ,\n",
       "       14.55      , 20.8       , 23.2       , 14.1       , 13.        ,\n",
       "       10.68      , 14.03333333,  9.075     ,  7.5       , 11.65      ,\n",
       "        8.83333333,  8.3       , 14.78333333, 11.3       , 11.1       ,\n",
       "       11.25      , 17.4       , 15.85      , 15.25      , 14.76666667,\n",
       "       13.4       , 15.6       , 15.94      , 18.48      , 13.4       ,\n",
       "       15.85      , 15.68571429, 16.62      , 14.82      , 18.775     ,\n",
       "       14.63333333, 22.83333333, 21.25      , 23.3       , 19.7       ,\n",
       "       20.625     , 15.825     , 14.41428571, 14.6       , 19.225     ,\n",
       "       17.76666667, 19.8       , 17.6       , 22.775     , 12.48      ,\n",
       "       16.13333333, 14.95      , 14.8       , 13.78      , 22.08      ,\n",
       "       20.825     , 33.1       , 32.33333333, 21.33333333, 20.65      ,\n",
       "       21.45714286, 18.93333333, 21.6       , 18.2       , 12.11666667,\n",
       "       10.6       , 19.16      , 19.84      , 20.74      , 19.8       ,\n",
       "       18.23333333, 16.96666667, 20.775     , 23.16      , 18.53333333,\n",
       "       21.425     , 25.325     , 20.3       , 27.92      , 24.86666667,\n",
       "       22.35      ])"
      ]
     },
     "execution_count": 18,
     "metadata": {},
     "output_type": "execute_result"
    }
   ],
   "source": [
    "##añadimos las predicciones al dataset\n",
    "data[\"rforest_pred\"]=forest.oob_prediction_"
   ]
  },
  {
   "cell_type": "code",
   "execution_count": null,
   "metadata": {},
   "outputs": [],
   "source": []
  }
 ],
 "metadata": {
  "kernelspec": {
   "display_name": "Python 3.9.7 ('base')",
   "language": "python",
   "name": "python3"
  },
  "language_info": {
   "codemirror_mode": {
    "name": "ipython",
    "version": 3
   },
   "file_extension": ".py",
   "mimetype": "text/x-python",
   "name": "python",
   "nbconvert_exporter": "python",
   "pygments_lexer": "ipython3",
   "version": "3.9.7"
  },
  "orig_nbformat": 4,
  "vscode": {
   "interpreter": {
    "hash": "f8f936827f1edea7efad5da8792d36848d8bfd624d975ca3dc1fc90e577ba496"
   }
  }
 },
 "nbformat": 4,
 "nbformat_minor": 2
}
