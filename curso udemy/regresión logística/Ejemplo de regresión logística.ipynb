{
 "cells": [
  {
   "cell_type": "markdown",
   "metadata": {},
   "source": [
    "## Las matemáticas tras la regresión logística\n",
    "### Las tablas de contingencia\n",
    "> Predecir si un cliente comprar o no un producto sabiendo solo su género\n"
   ]
  },
  {
   "cell_type": "code",
   "execution_count": 1,
   "metadata": {},
   "outputs": [],
   "source": [
    "import pandas as pd\n",
    "import numpy as np\n",
    "import matplotlib.pyplot as plt"
   ]
  },
  {
   "cell_type": "code",
   "execution_count": 4,
   "metadata": {},
   "outputs": [
    {
     "data": {
      "text/html": [
       "<div>\n",
       "<style scoped>\n",
       "    .dataframe tbody tr th:only-of-type {\n",
       "        vertical-align: middle;\n",
       "    }\n",
       "\n",
       "    .dataframe tbody tr th {\n",
       "        vertical-align: top;\n",
       "    }\n",
       "\n",
       "    .dataframe thead th {\n",
       "        text-align: right;\n",
       "    }\n",
       "</style>\n",
       "<table border=\"1\" class=\"dataframe\">\n",
       "  <thead>\n",
       "    <tr style=\"text-align: right;\">\n",
       "      <th></th>\n",
       "      <th>Gender</th>\n",
       "      <th>Purchase</th>\n",
       "    </tr>\n",
       "  </thead>\n",
       "  <tbody>\n",
       "    <tr>\n",
       "      <th>0</th>\n",
       "      <td>Female</td>\n",
       "      <td>Yes</td>\n",
       "    </tr>\n",
       "    <tr>\n",
       "      <th>1</th>\n",
       "      <td>Female</td>\n",
       "      <td>Yes</td>\n",
       "    </tr>\n",
       "    <tr>\n",
       "      <th>2</th>\n",
       "      <td>Female</td>\n",
       "      <td>No</td>\n",
       "    </tr>\n",
       "    <tr>\n",
       "      <th>3</th>\n",
       "      <td>Male</td>\n",
       "      <td>No</td>\n",
       "    </tr>\n",
       "    <tr>\n",
       "      <th>4</th>\n",
       "      <td>Male</td>\n",
       "      <td>Yes</td>\n",
       "    </tr>\n",
       "  </tbody>\n",
       "</table>\n",
       "</div>"
      ],
      "text/plain": [
       "   Gender Purchase\n",
       "0  Female      Yes\n",
       "1  Female      Yes\n",
       "2  Female       No\n",
       "3    Male       No\n",
       "4    Male      Yes"
      ]
     },
     "execution_count": 4,
     "metadata": {},
     "output_type": "execute_result"
    }
   ],
   "source": [
    "## importamos dataframe\n",
    "data=pd.read_csv(\"archivos/gerder purchashe.csv\")\n",
    "data.head(5)"
   ]
  },
  {
   "cell_type": "code",
   "execution_count": 6,
   "metadata": {},
   "outputs": [
    {
     "data": {
      "text/plain": [
       "(511, 2)"
      ]
     },
     "execution_count": 6,
     "metadata": {},
     "output_type": "execute_result"
    }
   ],
   "source": [
    "data.shape"
   ]
  },
  {
   "cell_type": "code",
   "execution_count": 9,
   "metadata": {},
   "outputs": [
    {
     "data": {
      "text/html": [
       "<div>\n",
       "<style scoped>\n",
       "    .dataframe tbody tr th:only-of-type {\n",
       "        vertical-align: middle;\n",
       "    }\n",
       "\n",
       "    .dataframe tbody tr th {\n",
       "        vertical-align: top;\n",
       "    }\n",
       "\n",
       "    .dataframe thead th {\n",
       "        text-align: right;\n",
       "    }\n",
       "</style>\n",
       "<table border=\"1\" class=\"dataframe\">\n",
       "  <thead>\n",
       "    <tr style=\"text-align: right;\">\n",
       "      <th>Purchase</th>\n",
       "      <th>No</th>\n",
       "      <th>Yes</th>\n",
       "    </tr>\n",
       "    <tr>\n",
       "      <th>Gender</th>\n",
       "      <th></th>\n",
       "      <th></th>\n",
       "    </tr>\n",
       "  </thead>\n",
       "  <tbody>\n",
       "    <tr>\n",
       "      <th>Female</th>\n",
       "      <td>106</td>\n",
       "      <td>159</td>\n",
       "    </tr>\n",
       "    <tr>\n",
       "      <th>Male</th>\n",
       "      <td>125</td>\n",
       "      <td>121</td>\n",
       "    </tr>\n",
       "  </tbody>\n",
       "</table>\n",
       "</div>"
      ],
      "text/plain": [
       "Purchase   No  Yes\n",
       "Gender            \n",
       "Female    106  159\n",
       "Male      125  121"
      ]
     },
     "execution_count": 9,
     "metadata": {},
     "output_type": "execute_result"
    }
   ],
   "source": [
    "## realizar una tabla categorica, para ver las posibilidades de todas las combinaciones posibles\n",
    "## tabla de cruces\n",
    "tabla_contingencias=pd.crosstab(data[\"Gender\"], data[\"Purchase\"])\n",
    "tabla_contingencias"
   ]
  },
  {
   "cell_type": "code",
   "execution_count": 10,
   "metadata": {},
   "outputs": [
    {
     "data": {
      "text/plain": [
       "Gender\n",
       "Female    265\n",
       "Male      246\n",
       "dtype: int64"
      ]
     },
     "execution_count": 10,
     "metadata": {},
     "output_type": "execute_result"
    }
   ],
   "source": [
    "## número de entradas por genero\n",
    "tabla_contingencias.sum(axis=1)"
   ]
  },
  {
   "cell_type": "code",
   "execution_count": 11,
   "metadata": {},
   "outputs": [
    {
     "data": {
      "text/plain": [
       "Purchase\n",
       "No     231\n",
       "Yes    280\n",
       "dtype: int64"
      ]
     },
     "execution_count": 11,
     "metadata": {},
     "output_type": "execute_result"
    }
   ],
   "source": [
    "## datos de no compra \n",
    "tabla_contingencias.sum(axis=0)"
   ]
  },
  {
   "cell_type": "code",
   "execution_count": 16,
   "metadata": {},
   "outputs": [
    {
     "data": {
      "text/html": [
       "<div>\n",
       "<style scoped>\n",
       "    .dataframe tbody tr th:only-of-type {\n",
       "        vertical-align: middle;\n",
       "    }\n",
       "\n",
       "    .dataframe tbody tr th {\n",
       "        vertical-align: top;\n",
       "    }\n",
       "\n",
       "    .dataframe thead th {\n",
       "        text-align: right;\n",
       "    }\n",
       "</style>\n",
       "<table border=\"1\" class=\"dataframe\">\n",
       "  <thead>\n",
       "    <tr style=\"text-align: right;\">\n",
       "      <th>Purchase</th>\n",
       "      <th>No</th>\n",
       "      <th>Yes</th>\n",
       "    </tr>\n",
       "    <tr>\n",
       "      <th>Gender</th>\n",
       "      <th></th>\n",
       "      <th></th>\n",
       "    </tr>\n",
       "  </thead>\n",
       "  <tbody>\n",
       "    <tr>\n",
       "      <th>Female</th>\n",
       "      <td>0.40000</td>\n",
       "      <td>0.60000</td>\n",
       "    </tr>\n",
       "    <tr>\n",
       "      <th>Male</th>\n",
       "      <td>0.50813</td>\n",
       "      <td>0.49187</td>\n",
       "    </tr>\n",
       "  </tbody>\n",
       "</table>\n",
       "</div>"
      ],
      "text/plain": [
       "Purchase       No      Yes\n",
       "Gender                    \n",
       "Female    0.40000  0.60000\n",
       "Male      0.50813  0.49187"
      ]
     },
     "execution_count": 16,
     "metadata": {},
     "output_type": "execute_result"
    }
   ],
   "source": [
    "##dividir cada una de las filas por la suma total\n",
    "tabla_contingencias.astype(\"float\").div(tabla_contingencias.sum(axis=1), axis=0)"
   ]
  },
  {
   "cell_type": "code",
   "execution_count": 17,
   "metadata": {},
   "outputs": [],
   "source": [
    "from IPython.display import display, Math, Latex"
   ]
  },
  {
   "cell_type": "markdown",
   "metadata": {},
   "source": [
    "### Probabilidad condicional\n",
    "- ¿Cuál es la probabilidad de que un cliente compré un producto si es un hombre?\n",
    "- ¿Cuál es la probabilidad de que sabiendo que un cliente compra un producto sea mujer?\n"
   ]
  },
  {
   "cell_type": "code",
   "execution_count": 44,
   "metadata": {},
   "outputs": [
    {
     "data": {
      "text/latex": [
       "$\\displaystyle P(Purchase|Male) = \\dfrac{número \\ total \\ de \\ compras \\ hombres}{el\\ número \\ total \\ de \\ compras}=\\dfrac{puchase \\cap Male}{Male}$"
      ],
      "text/plain": [
       "<IPython.core.display.Math object>"
      ]
     },
     "metadata": {},
     "output_type": "display_data"
    }
   ],
   "source": [
    "display(Math('P(Purchase|Male) = \\dfrac{número \\ total \\ de \\ compras \\ hombres}{el\\ número \\ total \\ de \\ compras}=\\dfrac{puchase \\cap Male}{Male}'))"
   ]
  },
  {
   "cell_type": "code",
   "execution_count": 47,
   "metadata": {},
   "outputs": [
    {
     "data": {
      "text/plain": [
       "0.491869918699187"
      ]
     },
     "execution_count": 47,
     "metadata": {},
     "output_type": "execute_result"
    }
   ],
   "source": [
    "## probabilidad de que compren hombres\n",
    "## cuantas veces si han comprado entre sumatoria de hombres\n",
    "## de esa manera tenemos un conjunto de hombres y de esos cuantos han comprad\n",
    "## entonces si tuvieramos una cantidad de 246 individuos\n",
    "## la probabilidad de compra por cada hombre es de 0.491869918699187\n",
    "121/246"
   ]
  },
  {
   "cell_type": "code",
   "execution_count": 68,
   "metadata": {},
   "outputs": [
    {
     "data": {
      "text/latex": [
       "$\\displaystyle P(Female|Purchase) = \\dfrac{Número \\ total \\ de \\ compras\\ hechas \\ por \\ mujeres}{Número \\ total \\ de \\ compras}=\\dfrac{Puchase \\cap Male}{Puchase}$"
      ],
      "text/plain": [
       "<IPython.core.display.Math object>"
      ]
     },
     "metadata": {},
     "output_type": "display_data"
    }
   ],
   "source": [
    "display(Math('P(Female|Purchase) = \\dfrac{Número \\ total \\ de \\ compras\\ hechas \\ por \\ mujeres}{Número \\ total \\ de \\ compras}=\\dfrac{Puchase \\cap Male}{Puchase}'))"
   ]
  },
  {
   "cell_type": "code",
   "execution_count": 82,
   "metadata": {},
   "outputs": [
    {
     "data": {
      "text/plain": [
       "0.6463414634146342"
      ]
     },
     "execution_count": 82,
     "metadata": {},
     "output_type": "execute_result"
    }
   ],
   "source": [
    "## numero de compras hechas por mujeres entre número total de compras\n",
    "## por lo tanto se deduce entonces cual es la probabilidad de que la compra la haga una mujer\n",
    "## cuanto alguien hace una compra cuanta probabilidad es que esa compra la haya echo una mujer\n",
    "## ¿Cuál es la probabilidad de que sabiendo que un cliente compra un producto sea mujer?\n",
    "\n",
    "159/246"
   ]
  },
  {
   "cell_type": "code",
   "execution_count": 84,
   "metadata": {},
   "outputs": [
    {
     "data": {
      "text/latex": [
       "$\\displaystyle P(Purchase|Male)$"
      ],
      "text/plain": [
       "<IPython.core.display.Math object>"
      ]
     },
     "metadata": {},
     "output_type": "display_data"
    },
    {
     "name": "stdout",
     "output_type": "stream",
     "text": [
      "0.491869918699187\n"
     ]
    },
    {
     "data": {
      "text/latex": [
       "$\\displaystyle P(No\\ Purchase|Male)$"
      ],
      "text/plain": [
       "<IPython.core.display.Math object>"
      ]
     },
     "metadata": {},
     "output_type": "display_data"
    },
    {
     "name": "stdout",
     "output_type": "stream",
     "text": [
      "0.5081300813008129\n"
     ]
    },
    {
     "data": {
      "text/latex": [
       "$\\displaystyle P(Purchase|Female)$"
      ],
      "text/plain": [
       "<IPython.core.display.Math object>"
      ]
     },
     "metadata": {},
     "output_type": "display_data"
    },
    {
     "name": "stdout",
     "output_type": "stream",
     "text": [
      "0.6\n"
     ]
    },
    {
     "data": {
      "text/latex": [
       "$\\displaystyle P(No\\ Purchase|Female)$"
      ],
      "text/plain": [
       "<IPython.core.display.Math object>"
      ]
     },
     "metadata": {},
     "output_type": "display_data"
    },
    {
     "name": "stdout",
     "output_type": "stream",
     "text": [
      "0.4\n"
     ]
    }
   ],
   "source": [
    "display(Math(r'P(Purchase|Male)'))\n",
    "print(121/246)\n",
    "display(Math(r'P(No\\ Purchase|Male)'))\n",
    "print(1-(121/246))\n",
    "display(Math(r'P(Purchase|Female)'))\n",
    "print(159/265)\n",
    "display(Math(r'P(No\\ Purchase|Female)'))\n",
    "print(1-(159/265))"
   ]
  },
  {
   "cell_type": "markdown",
   "metadata": {},
   "source": [
    "## Ratio de probabilidades\n",
    "cociente entre los casos de éxito sobre los de fracaso en el suceso estudiado y para cada grupo "
   ]
  },
  {
   "cell_type": "code",
   "execution_count": 101,
   "metadata": {},
   "outputs": [
    {
     "data": {
      "text/latex": [
       "$\\displaystyle P_m \\ = \\ Probabilidad \\ de \\ hacer \\ compra \\ sabiendo \\ que es \\ un \\ hombre$"
      ],
      "text/plain": [
       "<IPython.core.display.Math object>"
      ]
     },
     "metadata": {},
     "output_type": "display_data"
    },
    {
     "data": {
      "text/latex": [
       "$\\displaystyle P_f \\ = \\ Probabilidad \\ de \\ hacer \\ compra \\ sabiendo \\ que es \\ una \\ mujer$"
      ],
      "text/plain": [
       "<IPython.core.display.Math object>"
      ]
     },
     "metadata": {},
     "output_type": "display_data"
    },
    {
     "data": {
      "text/latex": [
       "$\\displaystyle odds\\in{0,+\\infty} \\ el \\  valor \\ de \\ odds \\ puede \\ ser \\ de \\  +infinito \\ en \\ adelante$"
      ],
      "text/plain": [
       "<IPython.core.display.Math object>"
      ]
     },
     "metadata": {},
     "output_type": "display_data"
    },
    {
     "data": {
      "text/latex": [
       "$\\displaystyle odds(purchase, male) \\ = \\dfrac{P_m}{1-P_m}=\\dfrac{Compras \\ siendo \\ hombre}{No \\ compras \\ siendo \\ hombre}$"
      ],
      "text/plain": [
       "<IPython.core.display.Math object>"
      ]
     },
     "metadata": {},
     "output_type": "display_data"
    },
    {
     "data": {
      "text/latex": [
       "$\\displaystyle odds(purchase, female) \\ = \\dfrac{P_f}{1-P_f}=\\dfrac{Compras \\ siendo \\ mujer}{No \\ compras \\ siendo \\ mujer}$"
      ],
      "text/plain": [
       "<IPython.core.display.Math object>"
      ]
     },
     "metadata": {},
     "output_type": "display_data"
    }
   ],
   "source": [
    "display(Math(r\"P_m \\ = \\ Probabilidad \\ de \\ hacer \\ compra \\ sabiendo \\ que es \\ un \\ hombre\"))\n",
    "display(Math(r\"P_f \\ = \\ Probabilidad \\ de \\ hacer \\ compra \\ sabiendo \\ que es \\ una \\ mujer\"))\n",
    "display(Math(r\"odds\\in{0,+\\infty} \\ el \\  valor \\ de \\ odds \\ puede \\ ser \\ de \\  +infinito \\ en \\ adelante\"))\n",
    "display(Math(r\"odds(purchase, male) \\ = \\dfrac{P_m}{1-P_m}=\\dfrac{Compras \\ siendo \\ hombre}{No \\ compras \\ siendo \\ hombre}\"))\n",
    "display(Math(r\"odds(purchase, female) \\ = \\dfrac{P_f}{1-P_f}=\\dfrac{Compras \\ siendo \\ mujer}{No \\ compras \\ siendo \\ mujer}\"))"
   ]
  },
  {
   "cell_type": "markdown",
   "metadata": {},
   "source": [
    "Entre mayor sea el número de arriva en comparación con el número de abajo mayor será la probabilidad de que ocurra este suceso, tambien puede ser el de abajo 0 y la probabilidad de que ocurra el caso superior es infinito"
   ]
  },
  {
   "cell_type": "markdown",
   "metadata": {},
   "source": [
    "* Si el ratio es mayor a uno, es más probable el exito que el fracaso, entre mayor es el ratio mayor probabilidad del suceso\n",
    "* Si el ratio es igual a 1, el exito es equiprobable p(0.5)\n",
    "* Si el ratio es menor a uno, el fracaso es más probable que el éxito, menor es el ratio menor probabilidad del suceso"
   ]
  },
  {
   "cell_type": "code",
   "execution_count": 104,
   "metadata": {},
   "outputs": [
    {
     "data": {
      "text/plain": [
       "(0.9680000000000002, 0.968, 1.4999999999999998)"
      ]
     },
     "execution_count": 104,
     "metadata": {},
     "output_type": "execute_result"
    }
   ],
   "source": [
    "pm = 121/246\n",
    "pf = 159/265\n",
    "odds_m=pm/(1-pm)\n",
    "odds_pr_m=121/125\n",
    "odds_f=pf/(1-pf)\n",
    "odds_m, odds_pr_m, odds_f "
   ]
  },
  {
   "cell_type": "markdown",
   "metadata": {},
   "source": [
    "## Conclución de los datos\n",
    "las mujeres son más propensas a comprar que los hombres por que el ratio de probabilidades es mayor a 1 y en el de los hombres es menor que uno, por lo tanto es menos probable que compé un hombre"
   ]
  },
  {
   "cell_type": "code",
   "execution_count": 106,
   "metadata": {},
   "outputs": [
    {
     "data": {
      "text/plain": [
       "1.5495867768595035"
      ]
     },
     "execution_count": 106,
     "metadata": {},
     "output_type": "execute_result"
    }
   ],
   "source": [
    "## ratio global dividir radios, se concluye que es mas probable el caso de abajo que el de arriva\n",
    "ratio_global=odds_f/odds_m\n",
    "ratio_global"
   ]
  },
  {
   "cell_type": "code",
   "execution_count": 107,
   "metadata": {},
   "outputs": [
    {
     "data": {
      "text/plain": [
       "0.6453333333333335"
      ]
     },
     "execution_count": 107,
     "metadata": {},
     "output_type": "execute_result"
    }
   ],
   "source": [
    "## si invertimos saldrá lo mismo el resultado será menor a uno por lo tanto será que ese caso no es probable\n",
    "## concluyendo que el caso a la inversa si lo es\n",
    "ratio_global=odds_m/odds_f\n",
    "ratio_global"
   ]
  },
  {
   "cell_type": "markdown",
   "metadata": {},
   "source": [
    "## La regresión logística desde la regresión lineal"
   ]
  },
  {
   "cell_type": "code",
   "execution_count": 129,
   "metadata": {},
   "outputs": [
    {
     "data": {
      "text/latex": [
       "$\\displaystyle y= \\alpha + beta + \\cdot x$"
      ],
      "text/plain": [
       "<IPython.core.display.Math object>"
      ]
     },
     "metadata": {},
     "output_type": "display_data"
    },
    {
     "name": "stdout",
     "output_type": "stream",
     "text": [
      "en la regresión lineal\"Y\" y \"X\" puede tomar de -infinito hasta infinito\n"
     ]
    },
    {
     "data": {
      "text/latex": [
       "$\\displaystyle y\\in[-\\infty, +\\infty]$"
      ],
      "text/plain": [
       "<IPython.core.display.Math object>"
      ]
     },
     "metadata": {},
     "output_type": "display_data"
    },
    {
     "name": "stdout",
     "output_type": "stream",
     "text": [
      "En regresión logística  puede ir de 0 a 1\n"
     ]
    },
    {
     "data": {
      "text/latex": [
       "$\\displaystyle y\\in[0, 1]$"
      ],
      "text/plain": [
       "<IPython.core.display.Math object>"
      ]
     },
     "metadata": {},
     "output_type": "display_data"
    },
    {
     "name": "stdout",
     "output_type": "stream",
     "text": [
      "podemos estimar la probabilidad\n"
     ]
    },
    {
     "data": {
      "text/latex": [
       "$\\displaystyle p\\in[0, 1]$"
      ],
      "text/plain": [
       "<IPython.core.display.Math object>"
      ]
     },
     "metadata": {},
     "output_type": "display_data"
    },
    {
     "name": "stdout",
     "output_type": "stream",
     "text": [
      "Podemos condicionar cual será el exito o el fracaso\n",
      "**P** Es la probabilidad condicionada de éxito o de fracaso condicionada a la presencia de la variable X\n",
      "x puede ser cualquier valor\n"
     ]
    },
    {
     "data": {
      "text/latex": [
       "$\\displaystyle x=\\in[-\\infty, +\\infty]$"
      ],
      "text/plain": [
       "<IPython.core.display.Math object>"
      ]
     },
     "metadata": {},
     "output_type": "display_data"
    },
    {
     "data": {
      "text/latex": [
       "$\\displaystyle p=\\alpha+\\beta\\cdot x$"
      ],
      "text/plain": [
       "<IPython.core.display.Math object>"
      ]
     },
     "metadata": {},
     "output_type": "display_data"
    },
    {
     "name": "stdout",
     "output_type": "stream",
     "text": [
      "Para resolver el proble de que p debe ser un número entre cero e infinito utilizamos logaritmo neperiano\n"
     ]
    },
    {
     "data": {
      "text/latex": [
       "$\\displaystyle ln\\frac{p}{1-p}=\\alpha+\\beta\\cdot x$"
      ],
      "text/plain": [
       "<IPython.core.display.Math object>"
      ]
     },
     "metadata": {},
     "output_type": "display_data"
    },
    {
     "name": "stdout",
     "output_type": "stream",
     "text": [
      "despejamos p\n"
     ]
    },
    {
     "data": {
      "text/latex": [
       "$\\displaystyle \\frac{p}{1-p}=e^{\\alpha+\\beta\\cdot x}$"
      ],
      "text/plain": [
       "<IPython.core.display.Math object>"
      ]
     },
     "metadata": {},
     "output_type": "display_data"
    },
    {
     "data": {
      "text/latex": [
       "$\\displaystyle p=\\frac{e^{\\alpha+\\beta\\cdot x}}{1-e^{\\alpha+\\beta\\cdot x}}$"
      ],
      "text/plain": [
       "<IPython.core.display.Math object>"
      ]
     },
     "metadata": {},
     "output_type": "display_data"
    },
    {
     "data": {
      "text/latex": [
       "$\\displaystyle p=\\frac{1}{1-e^{-(\\alpha+\\beta\\cdot x})}$"
      ],
      "text/plain": [
       "<IPython.core.display.Math object>"
      ]
     },
     "metadata": {},
     "output_type": "display_data"
    }
   ],
   "source": [
    "display(Math(r'y= \\alpha + beta + \\cdot x'))\n",
    "print(\"en la regresión lineal\\\"Y\\\" y \\\"X\\\" puede tomar de -infinito hasta infinito\")\n",
    "display(Math(r\"y\\in[-\\infty, +\\infty]\"))\n",
    "print(\"En regresión logística  puede ir de 0 a 1\")\n",
    "display(Math(r\"y\\in[0, 1]\"))\n",
    "print(\"podemos estimar la probabilidad\")\n",
    "display(Math(r\"p\\in[0, 1]\"))\n",
    "print(\"Podemos condicionar cual será el exito o el fracaso\")\n",
    "print(\"**P** Es la probabilidad condicionada de éxito o de fracaso condicionada a la presencia de la variable X\")\n",
    "print(\"x puede ser cualquier valor\")\n",
    "display(Math(r\"x=\\in[-\\infty, +\\infty]\"))\n",
    "display(Math(r\"p=\\alpha+\\beta\\cdot x\"))\n",
    "print(\"Para resolver el proble de que p debe ser un número entre cero e infinito utilizamos logaritmo neperiano\")\n",
    "display(Math(r\"ln\\frac{p}{1-p}=\\alpha+\\beta\\cdot x\"))\n",
    "print(\"despejamos p\")\n",
    "display(Math(r\"\\frac{p}{1-p}=e^{\\alpha+\\beta\\cdot x}\"))\n",
    "display(Math(r\"p=\\frac{e^{\\alpha+\\beta\\cdot x}}{1-e^{\\alpha+\\beta\\cdot x}}\"))\n",
    "display(Math(r\"p=\\frac{1}{1-e^{-(\\alpha+\\beta\\cdot x})}\"))"
   ]
  },
  {
   "cell_type": "code",
   "execution_count": 130,
   "metadata": {},
   "outputs": [
    {
     "data": {
      "text/latex": [
       "$\\displaystyle p=\\frac{1}{1-e^{-(\\alpha+\\sum_{i=1}\\beta_i\\cdot x_i})}$"
      ],
      "text/plain": [
       "<IPython.core.display.Math object>"
      ]
     },
     "metadata": {},
     "output_type": "display_data"
    },
    {
     "name": "stdout",
     "output_type": "stream",
     "text": [
      "Escrito de otra manera\n"
     ]
    },
    {
     "data": {
      "text/latex": [
       "$\\displaystyle \\vec{\\beta}=(\\beta_1,\\beta_2,\\cdots\\beta_n)$"
      ],
      "text/plain": [
       "<IPython.core.display.Math object>"
      ]
     },
     "metadata": {},
     "output_type": "display_data"
    },
    {
     "data": {
      "text/latex": [
       "$\\displaystyle \\vec{X}=(X_1,X_2,\\cdots,X_n)$"
      ],
      "text/plain": [
       "<IPython.core.display.Math object>"
      ]
     },
     "metadata": {},
     "output_type": "display_data"
    },
    {
     "data": {
      "text/latex": [
       "$\\displaystyle p=\\frac{1}{1-e^{-(\\alpha+\\vec{\\beta_i}\\cdot \\vec{X}})}$"
      ],
      "text/plain": [
       "<IPython.core.display.Math object>"
      ]
     },
     "metadata": {},
     "output_type": "display_data"
    }
   ],
   "source": [
    "display(Math(r\"p=\\frac{1}{1-e^{-(\\alpha+\\sum_{i=1}\\beta_i\\cdot x_i})}\"))\n",
    "print(\"Escrito de otra manera\")\n",
    "display(Math(r\"\\vec{\\beta}=(\\beta_1,\\beta_2,\\cdots\\beta_n)\"))\n",
    "display(Math(r\"\\vec{X}=(X_1,X_2,\\cdots,X_n)\"))\n",
    "display(Math(r\"p=\\frac{1}{1-e^{-(\\alpha+\\vec{\\beta_i}\\cdot \\vec{X}})}\"))"
   ]
  },
  {
   "cell_type": "code",
   "execution_count": null,
   "metadata": {},
   "outputs": [],
   "source": []
  }
 ],
 "metadata": {
  "kernelspec": {
   "display_name": "Python 3.9.7 ('base')",
   "language": "python",
   "name": "python3"
  },
  "language_info": {
   "codemirror_mode": {
    "name": "ipython",
    "version": 3
   },
   "file_extension": ".py",
   "mimetype": "text/x-python",
   "name": "python",
   "nbconvert_exporter": "python",
   "pygments_lexer": "ipython3",
   "version": "3.9.7"
  },
  "orig_nbformat": 4,
  "vscode": {
   "interpreter": {
    "hash": "f8f936827f1edea7efad5da8792d36848d8bfd624d975ca3dc1fc90e577ba496"
   }
  }
 },
 "nbformat": 4,
 "nbformat_minor": 2
}
