{
 "cells": [
  {
   "cell_type": "markdown",
   "metadata": {},
   "source": [
    "**Regresión logística**: se trata de un modelo con variables categoricas, o binarias, ceros y unos\n",
    ">Ejemplo: una persona que entra en una tienda online si comprara o no un producto, en base a su historial, ingresos, hora del día, etc\n",
    ">\n",
    "<img src=\"https://i.ytimg.com/vi/SeM4Rtoa4EU/maxresdefault.jpg\" width=\"300px\">"
   ]
  },
  {
   "cell_type": "markdown",
   "metadata": {},
   "source": [
    "## Diferencias entre una regresión lineal y una logística\n",
    "| |Regresión lineal|Regresión logística\n",
    "| --- | --- | --- |\n",
    "| variables predictorias | Numéricas continuas categóricas | Numéricas continuas categóricas |\n",
    "| Predicciones | Numéricas contínuas | Categóricas | \n",
    "| Relación | Lineal  | Lineal con alguna transformación |\n"
   ]
  },
  {
   "cell_type": "markdown",
   "metadata": {},
   "source": [
    "**Tabla de contingecia**: es una representación de las frecuencias, dentro de las categorías para dos o más variables, se dice tabla, por que nos muestra con que frecuencia ocurre un determinado suceso en la diferente combinación de categorías para dos o más variables en particular\n",
    "codigo:\n",
    "> tabla_contingencias=pd.crosstab(tabla_uno, tabla_dos) "
   ]
  },
  {
   "cell_type": "code",
   "execution_count": 1,
   "metadata": {},
   "outputs": [],
   "source": [
    "from IPython.display import display, Math, Latex  "
   ]
  },
  {
   "cell_type": "markdown",
   "metadata": {},
   "source": [
    "**Ratio de probabilidades** cociente de las probabilidades de exito entre la probabilidad de fracasos"
   ]
  },
  {
   "cell_type": "code",
   "execution_count": 5,
   "metadata": {},
   "outputs": [
    {
     "data": {
      "text/latex": [
       "$\\displaystyle ratio de probabilidades=\\dfrac{Coeficiente \\ casos \\ de \\ exito}{Coeficiente \\ casos \\ de \\ fracaso}$"
      ],
      "text/plain": [
       "<IPython.core.display.Math object>"
      ]
     },
     "metadata": {},
     "output_type": "display_data"
    }
   ],
   "source": [
    "display(Math(r'ratio de probabilidades=\\dfrac{Coeficiente \\ casos \\ de \\ exito}{Coeficiente \\ casos \\ de \\ fracaso}'))"
   ]
  },
  {
   "cell_type": "markdown",
   "metadata": {},
   "source": [
    "**P** Es la probabilidad condicionada de éxito o de fracaso condicionada a la presencia de la variable X"
   ]
  },
  {
   "cell_type": "code",
   "execution_count": null,
   "metadata": {},
   "outputs": [],
   "source": []
  },
  {
   "cell_type": "code",
   "execution_count": 6,
   "metadata": {},
   "outputs": [
    {
     "data": {
      "text/latex": [
       "$\\displaystyle y= \\alpha + beta + \\cdot x$"
      ],
      "text/plain": [
       "<IPython.core.display.Math object>"
      ]
     },
     "metadata": {},
     "output_type": "display_data"
    },
    {
     "name": "stdout",
     "output_type": "stream",
     "text": [
      "en la regresión lineal\"Y\" y \"X\" puede tomar de -infinito hasta infinito\n"
     ]
    },
    {
     "data": {
      "text/latex": [
       "$\\displaystyle y\\in[-\\infty, +\\infty]$"
      ],
      "text/plain": [
       "<IPython.core.display.Math object>"
      ]
     },
     "metadata": {},
     "output_type": "display_data"
    },
    {
     "name": "stdout",
     "output_type": "stream",
     "text": [
      "En regresión logística  puede ir de 0 a 1\n"
     ]
    },
    {
     "data": {
      "text/latex": [
       "$\\displaystyle y\\in[0, 1]$"
      ],
      "text/plain": [
       "<IPython.core.display.Math object>"
      ]
     },
     "metadata": {},
     "output_type": "display_data"
    },
    {
     "name": "stdout",
     "output_type": "stream",
     "text": [
      "podemos estimar la probabilidad\n"
     ]
    },
    {
     "data": {
      "text/latex": [
       "$\\displaystyle p\\in[0, 1]$"
      ],
      "text/plain": [
       "<IPython.core.display.Math object>"
      ]
     },
     "metadata": {},
     "output_type": "display_data"
    },
    {
     "name": "stdout",
     "output_type": "stream",
     "text": [
      "Podemos condicionar cual será el exito o el fracaso\n",
      "**P** Es la probabilidad condicionada de éxito o de fracaso condicionada a la presencia de la variable X\n",
      "x puede ser cualquier valor\n"
     ]
    },
    {
     "data": {
      "text/latex": [
       "$\\displaystyle x=\\in[-\\infty, +\\infty]$"
      ],
      "text/plain": [
       "<IPython.core.display.Math object>"
      ]
     },
     "metadata": {},
     "output_type": "display_data"
    },
    {
     "data": {
      "text/latex": [
       "$\\displaystyle p=\\alpha+\\beta\\cdot x$"
      ],
      "text/plain": [
       "<IPython.core.display.Math object>"
      ]
     },
     "metadata": {},
     "output_type": "display_data"
    },
    {
     "name": "stdout",
     "output_type": "stream",
     "text": [
      "Para resolver el proble de que p debe ser un número entre cero e infinito utilizamos logaritmo neperiano\n"
     ]
    },
    {
     "data": {
      "text/latex": [
       "$\\displaystyle ln\\frac{p}{1-p}=\\alpha+\\beta\\cdot x$"
      ],
      "text/plain": [
       "<IPython.core.display.Math object>"
      ]
     },
     "metadata": {},
     "output_type": "display_data"
    },
    {
     "name": "stdout",
     "output_type": "stream",
     "text": [
      "despejamos p\n"
     ]
    },
    {
     "data": {
      "text/latex": [
       "$\\displaystyle \\frac{p}{1-p}=e^{\\alpha+\\beta\\cdot x}$"
      ],
      "text/plain": [
       "<IPython.core.display.Math object>"
      ]
     },
     "metadata": {},
     "output_type": "display_data"
    },
    {
     "data": {
      "text/latex": [
       "$\\displaystyle p=\\frac{e^{\\alpha+\\beta\\cdot x}}{1-e^{\\alpha+\\beta\\cdot x}}$"
      ],
      "text/plain": [
       "<IPython.core.display.Math object>"
      ]
     },
     "metadata": {},
     "output_type": "display_data"
    },
    {
     "data": {
      "text/latex": [
       "$\\displaystyle p=\\frac{1}{1-e^{-(\\alpha+\\beta\\cdot x})}$"
      ],
      "text/plain": [
       "<IPython.core.display.Math object>"
      ]
     },
     "metadata": {},
     "output_type": "display_data"
    }
   ],
   "source": [
    "display(Math(r'y= \\alpha + beta + \\cdot x'))\n",
    "print(\"en la regresión lineal\\\"Y\\\" y \\\"X\\\" puede tomar de -infinito hasta infinito\")\n",
    "display(Math(r\"y\\in[-\\infty, +\\infty]\"))\n",
    "print(\"En regresión logística  puede ir de 0 a 1\")\n",
    "display(Math(r\"y\\in[0, 1]\"))\n",
    "print(\"podemos estimar la probabilidad\")\n",
    "display(Math(r\"p\\in[0, 1]\"))\n",
    "print(\"Podemos condicionar cual será el exito o el fracaso\")\n",
    "print(\"**P** Es la probabilidad condicionada de éxito o de fracaso condicionada a la presencia de la variable X\")\n",
    "print(\"x puede ser cualquier valor\")\n",
    "display(Math(r\"x=\\in[-\\infty, +\\infty]\"))\n",
    "display(Math(r\"p=\\alpha+\\beta\\cdot x\"))\n",
    "print(\"Para resolver el proble de que p debe ser un número entre cero e infinito utilizamos logaritmo neperiano\")\n",
    "display(Math(r\"ln\\frac{p}{1-p}=\\alpha+\\beta\\cdot x\"))\n",
    "print(\"despejamos p\")\n",
    "display(Math(r\"\\frac{p}{1-p}=e^{\\alpha+\\beta\\cdot x}\"))\n",
    "display(Math(r\"p=\\frac{e^{\\alpha+\\beta\\cdot x}}{1-e^{\\alpha+\\beta\\cdot x}}\"))\n",
    "display(Math(r\"p=\\frac{1}{1-e^{-(\\alpha+\\beta\\cdot x})}\"))"
   ]
  },
  {
   "cell_type": "markdown",
   "metadata": {},
   "source": [
    "Resumen:\n",
    "* si p a+bX es muy pequeño(negativo), entonces p tiende a 0\n",
    "* si p a+bX es cero, p=0.5\n",
    "* si p a+bX es muy grande(positivo), entonces p tiende a 1\n",
    "> para una regresión logistica multiple solo se agrega la sumatoria\n"
   ]
  },
  {
   "cell_type": "code",
   "execution_count": 18,
   "metadata": {},
   "outputs": [
    {
     "data": {
      "text/latex": [
       "$\\displaystyle p=\\frac{1}{1-e^{-(\\alpha+\\sum_{i=1}\\beta_i\\cdot x_i})}$"
      ],
      "text/plain": [
       "<IPython.core.display.Math object>"
      ]
     },
     "metadata": {},
     "output_type": "display_data"
    },
    {
     "name": "stdout",
     "output_type": "stream",
     "text": [
      "Escrito de otra manera\n"
     ]
    },
    {
     "data": {
      "text/latex": [
       "$\\displaystyle \\vec{\\beta}=(\\beta_1,\\beta_2,\\cdots\\beta_n)$"
      ],
      "text/plain": [
       "<IPython.core.display.Math object>"
      ]
     },
     "metadata": {},
     "output_type": "display_data"
    },
    {
     "data": {
      "text/latex": [
       "$\\displaystyle \\vec{X}=(X_1,X_2,\\cdots,X_n)$"
      ],
      "text/plain": [
       "<IPython.core.display.Math object>"
      ]
     },
     "metadata": {},
     "output_type": "display_data"
    },
    {
     "data": {
      "text/latex": [
       "$\\displaystyle p=\\frac{1}{1-e^{-(\\alpha+\\vec{\\beta_i}\\cdot \\vec{X}})}$"
      ],
      "text/plain": [
       "<IPython.core.display.Math object>"
      ]
     },
     "metadata": {},
     "output_type": "display_data"
    }
   ],
   "source": [
    "display(Math(r\"p=\\frac{1}{1-e^{-(\\alpha+\\sum_{i=1}\\beta_i\\cdot x_i})}\"))\n",
    "print(\"Escrito de otra manera\")\n",
    "display(Math(r\"\\vec{\\beta}=(\\beta_1,\\beta_2,\\cdots\\beta_n)\"))\n",
    "display(Math(r\"\\vec{X}=(X_1,X_2,\\cdots,X_n)\"))\n",
    "display(Math(r\"p=\\frac{1}{1-e^{-(\\alpha+\\vec{\\beta_i}\\cdot \\vec{X}})}\"))"
   ]
  },
  {
   "cell_type": "markdown",
   "metadata": {},
   "source": []
  }
 ],
 "metadata": {
  "kernelspec": {
   "display_name": "Python 3.9.7 ('base')",
   "language": "python",
   "name": "python3"
  },
  "language_info": {
   "codemirror_mode": {
    "name": "ipython",
    "version": 3
   },
   "file_extension": ".py",
   "mimetype": "text/x-python",
   "name": "python",
   "nbconvert_exporter": "python",
   "pygments_lexer": "ipython3",
   "version": "3.9.7"
  },
  "orig_nbformat": 4,
  "vscode": {
   "interpreter": {
    "hash": "f8f936827f1edea7efad5da8792d36848d8bfd624d975ca3dc1fc90e577ba496"
   }
  }
 },
 "nbformat": 4,
 "nbformat_minor": 2
}
