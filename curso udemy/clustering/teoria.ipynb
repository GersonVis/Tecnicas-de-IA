{
 "cells": [
  {
   "cell_type": "markdown",
   "metadata": {},
   "source": [
    "## Algoritmos no supervisados"
   ]
  },
  {
   "cell_type": "markdown",
   "metadata": {},
   "source": [
    "# Clustering"
   ]
  },
  {
   "cell_type": "markdown",
   "metadata": {},
   "source": [
    "Es un tipo de algoritmo en el cual dividimos los datos en partes, este tipo de algoritmo no necesita de datos historicos para poder predecir"
   ]
  },
  {
   "cell_type": "markdown",
   "metadata": {},
   "source": [
    "**Clustering**: conjunto de datos homogéneo "
   ]
  },
  {
   "cell_type": "markdown",
   "metadata": {},
   "source": [
    "#### Finalidad del clustering\n",
    "* Agrupar datos que tengan varias semejanzas entre sus miembros es decir que se parezcan \n",
    "* Buscamos los datos que pertenezcan a grupos diferentes tengan rasgos lo suficientemente diferentes entre si\n",
    "* juntar lo que se parece y lo que no tenga nada que ver\n",
    "* Trabajara en semejanzas o desemejanzas similares, en las observaciones del dataset"
   ]
  },
  {
   "cell_type": "markdown",
   "metadata": {},
   "source": [
    "#### Características de un clustering\n",
    "* Deben ser identificables y de tamaño considerable\n",
    "* Los puntos de un mismo cluster deben ser compactos y tener intersección mínima con cualquier otro cluster, los datos de un cluster deben tener una mínima intersección con otro cluster\n",
    "* Los clusters deben tener sentido desde el contexto de análisis. Los puntos de un mismo cluster deben tener propiedades comunes en el contexto estudiado"
   ]
  },
  {
   "cell_type": "markdown",
   "metadata": {},
   "source": [
    "#### Términos "
   ]
  },
  {
   "cell_type": "markdown",
   "metadata": {},
   "source": [
    "* **Centro de gravedad, varicentro, punto de gravedad**: Es el punto que se encuentra más al centro de los puntos que conforman el clustering, aveces unos datos NA deberán ser remplazados con el promedio o centro de gravedad para no perder los datos"
   ]
  },
  {
   "cell_type": "markdown",
   "metadata": {},
   "source": [
    "## Concepto de distancia"
   ]
  },
  {
   "cell_type": "markdown",
   "metadata": {},
   "source": [
    "### Matemáticas del clustering\n",
    "distancias entre diferentes observaciones"
   ]
  },
  {
   "cell_type": "markdown",
   "metadata": {},
   "source": [
    "### Ejemplo: audiencia de películas\n",
    "##### Consideremos las siguientes notaciones\n",
    "* Llamemos n al número de películas de netflix \n",
    "* Llamemos N al número usuarios de data set\n",
    "* Entonces el dataset se puede denotar por X={xi}que va desde i hasta N\n",
    "> Cada uno de los xi(x sub i) es una fila del dataset, por lo tanto un usuario\n",
    "* Y un usuario del dataset tendrá el vector de valores xi={xi1, xi2, xi3...}\n",
    "##### Tipos de distancia\n",
    "#### Distancia de manhattan\n",
    "* cuenta el número de calles que separan un punto de otro\n",
    "* Cuenta el número de calles para llegar de un punto a otro"
   ]
  },
  {
   "cell_type": "markdown",
   "metadata": {},
   "source": [
    "<img src=\"https://slideplayer.es/slide/11838125/66/images/7/Ejemplos+de+m%C3%A9tricas+%28e.+vectoriales%29.jpg\" width=\"500px\">"
   ]
  },
  {
   "cell_type": "markdown",
   "metadata": {},
   "source": [
    "para una matriz n nos saldrá una matriz n x n"
   ]
  },
  {
   "cell_type": "markdown",
   "metadata": {},
   "source": [
    "algunos problemas son que cuando se hace distancia puede oucurrir que algunas variables esten muy alejadas de otras generando que otras distancias apenas se perciban, para evitar esto se recurre a una normalización de las variables, al darle el mismo rango de variabales\n",
    ">\n",
    "<img src=\"https://i0.wp.com/3.bp.blogspot.com/-Y_PpEVlfZPM/XAZUruaebwI/AAAAAAAAC1E/whxCob3CHQAL4nQusOkwne1fFzu2ZZfjgCLcBGAs/s1600/Post%2B1%2Bno%2B1.jpg?ssl=1\" width=\"500px\">"
   ]
  },
  {
   "cell_type": "markdown",
   "metadata": {},
   "source": []
  }
 ],
 "metadata": {
  "kernelspec": {
   "display_name": "Python 3.9.7 ('base')",
   "language": "python",
   "name": "python3"
  },
  "language_info": {
   "name": "python",
   "version": "3.9.7"
  },
  "orig_nbformat": 4,
  "vscode": {
   "interpreter": {
    "hash": "f8f936827f1edea7efad5da8792d36848d8bfd624d975ca3dc1fc90e577ba496"
   }
  }
 },
 "nbformat": 4,
 "nbformat_minor": 2
}
