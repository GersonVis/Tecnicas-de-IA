{
 "cells": [
  {
   "cell_type": "markdown",
   "metadata": {},
   "source": [
    "## El método de K means"
   ]
  },
  {
   "cell_type": "code",
   "execution_count": 1,
   "metadata": {},
   "outputs": [],
   "source": [
    "import numpy as np"
   ]
  },
  {
   "cell_type": "code",
   "execution_count": 3,
   "metadata": {},
   "outputs": [
    {
     "data": {
      "text/plain": [
       "array([[0.82180789, 0.30955308, 0.04362941],\n",
       "       [0.93063116, 0.42128077, 0.54534706],\n",
       "       [0.11630002, 0.51152244, 0.51143022],\n",
       "       [0.23437735, 0.95088927, 0.68198594],\n",
       "       [0.39700304, 0.40431593, 0.13619412],\n",
       "       [0.143205  , 0.2024942 , 0.22923261],\n",
       "       [0.89230924, 0.45101785, 0.64959483],\n",
       "       [0.6919923 , 0.63682781, 0.95018196],\n",
       "       [0.16959677, 0.64920334, 0.74522038],\n",
       "       [0.55197473, 0.459771  , 0.71457404],\n",
       "       [0.5312281 , 0.35852254, 0.64201597],\n",
       "       [0.80146684, 0.38042167, 0.78286955],\n",
       "       [0.43811688, 0.22771617, 0.07379854],\n",
       "       [0.8081853 , 0.59916269, 0.67710168],\n",
       "       [0.73120577, 0.95760248, 0.61019304],\n",
       "       [0.98800025, 0.59536194, 0.63780146],\n",
       "       [0.22504563, 0.11587709, 0.92480044],\n",
       "       [0.11831646, 0.89114162, 0.75969626],\n",
       "       [0.19955425, 0.57647882, 0.12772184],\n",
       "       [0.32707015, 0.92128237, 0.07027793],\n",
       "       [0.61870364, 0.05915115, 0.26116553],\n",
       "       [0.10276085, 0.91711293, 0.07706664],\n",
       "       [0.13095943, 0.97051414, 0.28297139],\n",
       "       [0.11783648, 0.50025684, 0.66412779],\n",
       "       [0.30404434, 0.57151342, 0.29583835],\n",
       "       [0.26111031, 0.75234287, 0.59597448],\n",
       "       [0.55628096, 0.74790863, 0.71924281],\n",
       "       [0.09836966, 0.8986484 , 0.28248848],\n",
       "       [0.22273434, 0.84337562, 0.21489234],\n",
       "       [0.04809365, 0.19998218, 0.33036027]])"
      ]
     },
     "execution_count": 3,
     "metadata": {},
     "output_type": "execute_result"
    }
   ],
   "source": [
    "## creamos un array de números aleatorios y luego lo convertimos en un array de 3 dimensiones\n",
    "data=np.random.random(90).reshape(30,3)\n",
    "data"
   ]
  },
  {
   "cell_type": "code",
   "execution_count": 12,
   "metadata": {},
   "outputs": [
    {
     "data": {
      "text/plain": [
       "array([[0.98800025, 0.59536194, 0.63780146],\n",
       "       [0.32707015, 0.92128237, 0.07027793]])"
      ]
     },
     "execution_count": 12,
     "metadata": {},
     "output_type": "execute_result"
    }
   ],
   "source": [
    "## recordemos que el método k means necesita dos centroides\n",
    "## seleccionamos de los datos dos centroides al azar\n",
    "centro1=np.random.choice(len(data))\n",
    "centro2=np.random.choice(len(data))\n",
    "## colocamos un centroide debajo del otro\n",
    "clust_center=np.vstack([data[centro1], data[centro2]])\n",
    "clust_center"
   ]
  },
  {
   "cell_type": "code",
   "execution_count": 13,
   "metadata": {},
   "outputs": [],
   "source": [
    "from scipy.cluster.vq import vq"
   ]
  },
  {
   "cell_type": "code",
   "execution_count": 15,
   "metadata": {},
   "outputs": [
    {
     "name": "stdout",
     "output_type": "stream",
     "text": [
      "Devuelve en primer instancia a que cluster pertenece cada información\n"
     ]
    },
    {
     "data": {
      "text/plain": [
       "(array([0, 0, 1, 1, 1, 1, 0, 0, 1, 0, 0, 0, 1, 0, 0, 0, 0, 1, 1, 1, 0, 1,\n",
       "        1, 1, 1, 1, 0, 1, 1, 1]),\n",
       " array([0.67996105, 0.20528829, 0.63792053, 0.61939908, 0.52582303,\n",
       "        0.75876836, 0.17358302, 0.43234442, 0.74456174, 0.46303043,\n",
       "        0.51454004, 0.31943509, 0.70240861, 0.1840988 , 0.44488633,\n",
       "        0.        , 0.94571342, 0.72096061, 0.37208816, 0.        ,\n",
       "        0.75216794, 0.22445073, 0.29346497, 0.75742913, 0.41682852,\n",
       "        0.55610082, 0.46506422, 0.31280909, 0.19459894, 0.81593178]))"
      ]
     },
     "execution_count": 15,
     "metadata": {},
     "output_type": "execute_result"
    }
   ],
   "source": [
    "print(\"Devuelve en primer instancia a que cluster pertenece cada información\")\n",
    "print(\"La segunda parte nos devuelve la distancia que tiene cada punto con el baricentro\")\n",
    "vq(data, clust_center)"
   ]
  },
  {
   "cell_type": "code",
   "execution_count": 17,
   "metadata": {},
   "outputs": [],
   "source": [
    "from scipy.cluster.vq import kmeans"
   ]
  },
  {
   "cell_type": "code",
   "execution_count": 18,
   "metadata": {},
   "outputs": [
    {
     "data": {
      "text/plain": [
       "(array([[0.70375629, 0.46865067, 0.62757829],\n",
       "        [0.20173229, 0.64639945, 0.35760456]]),\n",
       " 0.35416380632606687)"
      ]
     },
     "execution_count": 18,
     "metadata": {},
     "output_type": "execute_result"
    }
   ],
   "source": [
    "#implementar el método kmeans directamente\n",
    "## el resultado el la súma de los cuadrados de los errores\n",
    "## el útimo dato es el normalizado, la distancia de cada punto y las eleva al cuadrado\n",
    "## súma la distancia de cada punto y las eleva al cuadrado\n",
    "kmeans(data, clust_center)"
   ]
  },
  {
   "cell_type": "code",
   "execution_count": null,
   "metadata": {},
   "outputs": [],
   "source": []
  }
 ],
 "metadata": {
  "kernelspec": {
   "display_name": "Python 3.9.7 ('base')",
   "language": "python",
   "name": "python3"
  },
  "language_info": {
   "codemirror_mode": {
    "name": "ipython",
    "version": 3
   },
   "file_extension": ".py",
   "mimetype": "text/x-python",
   "name": "python",
   "nbconvert_exporter": "python",
   "pygments_lexer": "ipython3",
   "version": "3.9.7"
  },
  "orig_nbformat": 4,
  "vscode": {
   "interpreter": {
    "hash": "f8f936827f1edea7efad5da8792d36848d8bfd624d975ca3dc1fc90e577ba496"
   }
  }
 },
 "nbformat": 4,
 "nbformat_minor": 2
}
