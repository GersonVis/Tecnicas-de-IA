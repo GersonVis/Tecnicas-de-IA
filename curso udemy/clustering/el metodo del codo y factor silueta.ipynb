{
 "cells": [
  {
   "cell_type": "markdown",
   "metadata": {},
   "source": [
    "## El método del codo y factor silueta del clustering"
   ]
  },
  {
   "cell_type": "code",
   "execution_count": 2,
   "metadata": {},
   "outputs": [],
   "source": [
    "import pandas as pd\n",
    "import numpy as np\n",
    "import matplotlib.pyplot as plt\n",
    "\n",
    "from sklearn.cluster import KMeans\n",
    "from sklearn import metrics\n",
    "from scipy.spatial.distance import cdist\n",
    "from sklearn.metrics import silhouette_samples, silhouette_score"
   ]
  },
  {
   "cell_type": "code",
   "execution_count": 3,
   "metadata": {},
   "outputs": [],
   "source": [
    "x1 = np.array([3,1,1,2,1,6,6,6,5,6,7,8,9,8,9,9,8])\n",
    "x2 = np.array([5,4,5,6,5,8,6,7,6,7,1,2,1,2,3,2,3])\n",
    "X = np.array(list(zip(x1,x2))).reshape(len(x1), 2)"
   ]
  },
  {
   "cell_type": "code",
   "execution_count": 4,
   "metadata": {},
   "outputs": [
    {
     "data": {
      "image/png": "[encoded data removed]",
      "text/plain": [
       "<Figure size 432x288 with 1 Axes>"
      ]
     },
     "metadata": {
      "needs_background": "light"
     },
     "output_type": "display_data"
    }
   ],
   "source": [
    "plt.plot()\n",
    "plt.xlim([0,10])\n",
    "plt.ylim([0,10])\n",
    "plt.title(\"Dataset a clasificar\")\n",
    "plt.xlabel(\"x\")\n",
    "plt.ylabel(\"y\")\n",
    "plt.scatter(x1,x2)\n",
    "plt.show()"
   ]
  },
  {
   "cell_type": "code",
   "execution_count": 20,
   "metadata": {},
   "outputs": [],
   "source": [
    "## definimos el número maximo de iteraciones, máximo número que vamos a crear\n",
    "from matplotlib.pyplot import axis\n",
    "\n",
    "\n",
    "max_k=10\n",
    "K=range(1,max_k)\n",
    "## guardar la súma de los cuadrados internos, para poder hacer el gráfico del codo\n",
    "ssw = []\n",
    "# creamos una paleta de colores tanto como el máximo de k\n",
    "color_palette=[ plt.cm.Spectral(float(i)/max_k) for i in K]\n",
    "## centroides, nos ayudara en la súma de los cuadrados totales\n",
    "centroid= [sum(X)/len(X) for i in K]\n",
    "## súma de los cuadrados totales, el mínimo de las distancias de cada uno de los datasets y el centroide\n",
    "## usando la distancia euclidia, por filas\n",
    "sst=sum(np.min(cdist(X, centroid, \"euclidean\"), axis=1))"
   ]
  },
  {
   "cell_type": "code",
   "execution_count": 18,
   "metadata": {},
   "outputs": [
    {
     "data": {
      "text/plain": [
       "[array([5.58823529, 4.29411765]),\n",
       " array([5.58823529, 4.29411765]),\n",
       " array([5.58823529, 4.29411765]),\n",
       " array([5.58823529, 4.29411765]),\n",
       " array([5.58823529, 4.29411765]),\n",
       " array([5.58823529, 4.29411765]),\n",
       " array([5.58823529, 4.29411765]),\n",
       " array([5.58823529, 4.29411765]),\n",
       " array([5.58823529, 4.29411765])]"
      ]
     },
     "execution_count": 18,
     "metadata": {},
     "output_type": "execute_result"
    }
   ],
   "source": [
    "## hacer kmeans para cada rango definido\n",
    "for k in K:\n",
    "    ## hacemos el módelo de datos, k define el número de clusters a crear\n",
    "    kmeanModel=KMeans(n_clusters=k).fit(X)\n",
    "    ## detectar la súma de los cuadrados de las diferencias para ese k, pasamos la x y los varicentros obtenidos\n",
    "    ## axis lo hace por filas, lo que hace es medir la distancia de cada punto, al varicentro del cluster\n",
    "    ##  respectivo\n",
    "    ssw_K=sum(np.min(cdist(X, kmeanModel.cluster_centers_, \"euclidean\"), axis=1))"
   ]
  },
  {
   "cell_type": "code",
   "execution_count": null,
   "metadata": {},
   "outputs": [],
   "source": []
  }
 ],
 "metadata": {
  "kernelspec": {
   "display_name": "Python 3.9.7 ('base')",
   "language": "python",
   "name": "python3"
  },
  "language_info": {
   "codemirror_mode": {
    "name": "ipython",
    "version": 3
   },
   "file_extension": ".py",
   "mimetype": "text/x-python",
   "name": "python",
   "nbconvert_exporter": "python",
   "pygments_lexer": "ipython3",
   "version": "3.9.7"
  },
  "orig_nbformat": 4,
  "vscode": {
   "interpreter": {
    "hash": "f8f936827f1edea7efad5da8792d36848d8bfd624d975ca3dc1fc90e577ba496"
   }
  }
 },
 "nbformat": 4,
 "nbformat_minor": 2
}
