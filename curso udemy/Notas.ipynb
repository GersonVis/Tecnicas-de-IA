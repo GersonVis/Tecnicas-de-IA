{
 "cells": [
  {
   "cell_type": "markdown",
   "metadata": {},
   "source": [
    "## Notas"
   ]
  },
  {
   "cell_type": "markdown",
   "metadata": {},
   "source": [
    "### _**SSD**_ Suma de los cuadrados de las diferencias\n",
    "> sumar((datos_predichos-datos_guardados)**2)"
   ]
  },
  {
   "cell_type": "markdown",
   "metadata": {},
   "source": [
    "### _**RSE**_ Desviacion estandar de los residuos\n",
    "> raiz_cuadrada(SSD/(tamaño_del_dataset-número_de_variables_ocupadas-1))"
   ]
  },
  {
   "cell_type": "markdown",
   "metadata": {},
   "source": [
    "### _**Error**_  porcentaje sin explicar de los datos predichos\n",
    "> RSE/promedio_de_los_datos_del_dataset"
   ]
  },
  {
   "cell_type": "markdown",
   "metadata": {},
   "source": [
    "### _**P-valor**_ Entre menor es este valor es mejor añadir esta variable predictoría"
   ]
  },
  {
   "cell_type": "markdown",
   "metadata": {},
   "source": [
    "### _**RSE Error estandar de los residuos**_ Entre menor es este valor es mejor ese modelo, la nueva variable predice mejor en conjunto"
   ]
  },
  {
   "cell_type": "markdown",
   "metadata": {},
   "source": [
    "### _**Estadistico F**_ Entre mayor sea este valor, es mejor"
   ]
  },
  {
   "cell_type": "markdown",
   "metadata": {},
   "source": [
    "### _**VIF Factor de inflación de la varianza**_ las variables que tengan más grande esta variable serán eliminadas del módelo"
   ]
  },
  {
   "cell_type": "markdown",
   "metadata": {},
   "source": []
  }
 ],
 "metadata": {
  "language_info": {
   "name": "python"
  },
  "orig_nbformat": 4
 },
 "nbformat": 4,
 "nbformat_minor": 2
}
