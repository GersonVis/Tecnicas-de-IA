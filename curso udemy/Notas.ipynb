{
 "cells": [
  {
   "cell_type": "markdown",
   "metadata": {},
   "source": [
    "## Notas"
   ]
  },
  {
   "cell_type": "markdown",
   "metadata": {},
   "source": [
    "### _**SSD**_ Suma de los cuadrados de las diferencias\n",
    "> sumar((datos_predichos-datos_guardados)**2)"
   ]
  },
  {
   "cell_type": "markdown",
   "metadata": {},
   "source": [
    "### _**RSE**_ Desviacion estandar de los residuos\n",
    "> raiz_cuadrada(SSD/(tamaño_del_dataset-número_de_variables_ocupadas-1))"
   ]
  },
  {
   "cell_type": "markdown",
   "metadata": {},
   "source": [
    "### _**Error**_  porcentaje sin explicar de los datos predichos\n",
    "> RSE/promedio_de_los_datos_del_dataset"
   ]
  },
  {
   "cell_type": "markdown",
   "metadata": {},
   "source": [
    "### _**P-valor**_ Entre menor es este valor es mejor añadir esta variable predictoría"
   ]
  },
  {
   "cell_type": "markdown",
   "metadata": {},
   "source": [
    "### _**RSE Error estandar de los residuos**_ Entre menor es este valor es mejor ese modelo, la nueva variable predice mejor en conjunto"
   ]
  },
  {
   "cell_type": "markdown",
   "metadata": {},
   "source": [
    "### _**Estadistico F**_ Entre mayor sea este valor, es mejor"
   ]
  },
  {
   "cell_type": "markdown",
   "metadata": {},
   "source": [
    "### _**VIF Factor de inflación de la varianza**_ las variables que tengan más grande esta variable serán eliminadas del módelo"
   ]
  },
  {
   "cell_type": "markdown",
   "metadata": {},
   "source": [
    "\n",
    "### _**VIF Factor de inflación de la varianza**_ variables, que están muy alejadas de la amsa, cualquiera que se salga del intercuartilíco o por encima del tercero es outlayer"
   ]
  },
  {
   "cell_type": "markdown",
   "metadata": {},
   "source": [
    "### Antes de finiquitar el modelo, aspectos a tener en cuenta\n",
    "#### Residuos\n",
    "la diferencia entre el resultado actual y la información que tenemos almacenada\n",
    " 1. Residuos buenos\n",
    " * Distribución de media normal\n",
    " * Varianza constante\n",
    " * NO debé haber ninguna forma claramente identificable\n",
    " * No debe ser predecible\n",
    " 2. Residuos malos\n",
    " * Los datos tienen una forma característica\n",
    " * Se pueden predecir con una curva\n",
    " * Existe alguna forma para eliminar esos residuos\n",
    "#### Concluciones de los errores\n",
    "> Hemos escogido un tipo de resolución del módelo incorrecto, puede no ser lineal"
   ]
  },
  {
   "cell_type": "markdown",
   "metadata": {},
   "source": [
    "### Varianza no constante en los términos de error"
   ]
  },
  {
   "cell_type": "markdown",
   "metadata": {},
   "source": [
    ">Residuos en forma de embudo, cuanto más estamos alejados del origen más dispersos son los datos, el error no es constante\n",
    "> por que entre más nos alejamos más dispersos los datos y estos deberían permanecer igual\n",
    "##### Resolución\n",
    "> Utilizar la raiz cuadratica, predecir su logaritmico o su raíz cuadrada, o los puntos con apalancamiento"
   ]
  },
  {
   "cell_type": "markdown",
   "metadata": {},
   "source": [
    "## Puntos con elevado apalancamiento\n",
    "se puede calcular el apalancamiento de cada fila\n",
    "* eliminar los puntos con demasiado apalancamiento mejora considerablemente el módelo"
   ]
  },
  {
   "cell_type": "markdown",
   "metadata": {},
   "source": [
    "lo más dificil es calcular el alto apalncamiento, formúla\n",
    "> Leverage=(1/n)+((Xi-Xmedia)**2)/(sumatoria(Xi-Xmedia)\\**2)"
   ]
  },
  {
   "cell_type": "markdown",
   "metadata": {},
   "source": [
    "Nos dice cuanto aporta la fina enesima a la fila"
   ]
  },
  {
   "cell_type": "markdown",
   "metadata": {},
   "source": [
    "# Resumen de la regresión lineal\n",
    "* si solo tiene una variable predictora se llama modelo lineal simple\n",
    "* si tiene más de una variable predictora se llama modelo lineal multiple\n",
    "* en un modelo lineal se estiman utilizando una técnica llamada los mínimos cuadráticos\n",
    "* se utiliza sklearn para el calculo de los mínimos curadraticos\n",
    "* el **el R\\*\\*2** es una buena forma de saber que tanto acierto tiene nuestro módelo, nos marca la diferencia entre las variables que hemos producido y el\n",
    "valor actual, entre mayor seá este valor mejor será la prediccion y menor el error cometido\n",
    "* el estadistico F, debé ser analizado entre menor sea mejor\n",
    "* error estandar de los residuos, sirve para ver que tan correlacionadas están las variables y si quitar una para que no afecté a nuestro modelo"
   ]
  },
  {
   "cell_type": "markdown",
   "metadata": {},
   "source": []
  }
 ],
 "metadata": {
  "language_info": {
   "name": "python"
  },
  "orig_nbformat": 4
 },
 "nbformat": 4,
 "nbformat_minor": 2
}
