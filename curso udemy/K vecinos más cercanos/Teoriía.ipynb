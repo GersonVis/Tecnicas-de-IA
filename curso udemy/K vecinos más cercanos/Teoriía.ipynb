{
 "cells": [
  {
   "cell_type": "markdown",
   "metadata": {},
   "source": [
    "## K vecinos más cercanos\n",
    "Se trata de replicar a los humanos cuando por medio de votación se alcanza un consenso sobre que proyecto realizar o llevar acabo.\n",
    "Se parte de información ya clasificada y apartir de ella cuando queremos introducir un nuevo dato, debemos ver las características para saber a cual pertenece, se basa en la distancia euclidea"
   ]
  },
  {
   "cell_type": "markdown",
   "metadata": {},
   "source": [
    "Se trata de determinar cual es el grupo más cercano, cuando se trata de algoritmos de enfermedades debes tener mucho cuidado por un mal diagnóstico nos puede conducir a un suceso fatal"
   ]
  },
  {
   "cell_type": "markdown",
   "metadata": {},
   "source": [
    "**Son los miembros de un grupo los que deciden si el nuevo punto es miembro o no de los demás**"
   ]
  },
  {
   "cell_type": "markdown",
   "metadata": {},
   "source": [
    "Es necesaria la maquina ya que esta puede trabajar con mucho más datos, mayores visualizaciones, y hacer un mayor número de calculos"
   ]
  },
  {
   "cell_type": "markdown",
   "metadata": {},
   "source": [
    "Utilizar un número impar, para poder clasificar los datos, de esa manera nunca será el mismo número de votos si pertenece a un grupo a otro"
   ]
  },
  {
   "cell_type": "markdown",
   "metadata": {},
   "source": []
  }
 ],
 "metadata": {
  "kernelspec": {
   "display_name": "Python 3.7.5 64-bit",
   "language": "python",
   "name": "python3"
  },
  "language_info": {
   "name": "python",
   "version": "3.7.5"
  },
  "orig_nbformat": 4,
  "vscode": {
   "interpreter": {
    "hash": "e310ee305116be7a1f6c3fc36efd30b44e9b58a3d111aad7f613c214e7b9dffb"
   }
  }
 },
 "nbformat": 4,
 "nbformat_minor": 2
}
