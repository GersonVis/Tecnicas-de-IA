{
 "cells": [
  {
   "cell_type": "markdown",
   "metadata": {},
   "source": [
    "## Creando nuestro propio KNN"
   ]
  },
  {
   "cell_type": "code",
   "execution_count": 14,
   "metadata": {},
   "outputs": [],
   "source": [
    "import numpy as np\n",
    "import pandas as pd\n",
    "import matplotlib.pyplot as plt\n",
    "from matplotlib import style\n",
    "import warnings \n",
    "from math import sqrt\n",
    "from collections import Counter"
   ]
  },
  {
   "cell_type": "code",
   "execution_count": 15,
   "metadata": {},
   "outputs": [],
   "source": [
    "dataset = {\n",
    "    'k':[[1,2],[2,3],[3,1]],\n",
    "    'r':[[6,5],[7,7],[8,6]]\n",
    "}\n",
    "new_point = [5,7]"
   ]
  },
  {
   "cell_type": "code",
   "execution_count": 16,
   "metadata": {},
   "outputs": [
    {
     "data": {
      "text/plain": [
       "<matplotlib.collections.PathCollection at 0xe20b830>"
      ]
     },
     "execution_count": 16,
     "metadata": {},
     "output_type": "execute_result"
    },
    {
     "data": {
      "image/png": "[encoded data removed]",
      "text/plain": [
       "<Figure size 432x288 with 1 Axes>"
      ]
     },
     "metadata": {
      "needs_background": "light"
     },
     "output_type": "display_data"
    }
   ],
   "source": [
    "[[plt.scatter(ii[0],ii[1], s=50, color = i) for ii in dataset[i]] for i in dataset]\n",
    "plt.scatter(new_point[0],new_point[1], s = 100)"
   ]
  },
  {
   "cell_type": "code",
   "execution_count": 67,
   "metadata": {},
   "outputs": [],
   "source": [
    "def k_nearest_neighbors(data, predict, k=3):\n",
    "    if len(data)>=k:\n",
    "        warnings.warn(\"K es un valor menor que el número total de elementos a votar!!\")\n",
    "    distances=[]\n",
    "    for group in data:\n",
    "       # print(group)\n",
    "        for feature in data[group]:\n",
    "            #print(feature)\n",
    "            # aplicamos distancia euclidea\n",
    "            d=np.linalg.norm(np.array(feature)-np.array(predict))\n",
    "           # print(feature, predict, d)\n",
    "            distances.append([d, group])\n",
    "    ## obtenemos los k votes mayores\n",
    "    votes=[i[1] for i in sorted(distances)[:k]]\n",
    "    ## contamos los votos\n",
    "    vote_result= Counter(votes).most_common(1)[0][0]##[[\"r\", 2], [\"k\", 3]]\n",
    "    return vote_result\n",
    "\n"
   ]
  },
  {
   "cell_type": "code",
   "execution_count": 34,
   "metadata": {},
   "outputs": [
    {
     "name": "stdout",
     "output_type": "stream",
     "text": [
      "k\n",
      "[1, 2] [5, 7] 6.4031242374328485\n",
      "[2, 3] [5, 7] 5.0\n",
      "[3, 1] [5, 7] 6.324555320336759\n",
      "r\n",
      "[6, 5] [5, 7] 2.23606797749979\n",
      "[7, 7] [5, 7] 2.0\n",
      "[8, 6] [5, 7] 3.1622776601683795\n"
     ]
    },
    {
     "data": {
      "text/plain": [
       "'r'"
      ]
     },
     "execution_count": 34,
     "metadata": {},
     "output_type": "execute_result"
    }
   ],
   "source": [
    "result= k_nearest_neighbors(dataset, new_point)\n",
    "result"
   ]
  },
  {
   "cell_type": "code",
   "execution_count": 28,
   "metadata": {},
   "outputs": [
    {
     "data": {
      "text/plain": [
       "[[1, 2], [2, 3], [3, 1]]"
      ]
     },
     "execution_count": 28,
     "metadata": {},
     "output_type": "execute_result"
    }
   ],
   "source": [
    "dataset[\"k\"]"
   ]
  },
  {
   "cell_type": "code",
   "execution_count": 37,
   "metadata": {},
   "outputs": [
    {
     "data": {
      "text/plain": [
       "<matplotlib.collections.PathCollection at 0xe2e7d70>"
      ]
     },
     "execution_count": 37,
     "metadata": {},
     "output_type": "execute_result"
    },
    {
     "data": {
      "image/png": "[encoded data removed]",
      "text/plain": [
       "<Figure size 432x288 with 1 Axes>"
      ]
     },
     "metadata": {
      "needs_background": "light"
     },
     "output_type": "display_data"
    }
   ],
   "source": [
    "## pintamos ya con los el grupo al que corresponde\n",
    "[[plt.scatter(ii[0], ii[1], s=50, color=i) for ii in dataset[i]] for i in dataset]\n",
    "plt.scatter(new_point[0], new_point[1], s=50, color=result)"
   ]
  },
  {
   "cell_type": "markdown",
   "metadata": {},
   "source": [
    "## Contrastar con el otro modelo"
   ]
  },
  {
   "cell_type": "code",
   "execution_count": 39,
   "metadata": {},
   "outputs": [],
   "source": [
    "df=pd.read_csv(\"archivos/cancer.csv\", header=None)\n",
    "## renombramos las columnas\n",
    "df.columns=[\"name\", \"V1\", \"V2\",\"V3\",\"V4\",\"V5\",\"V6\",\"V7\",\"V8\",\"V9\",\"class\"]\n",
    "df=df.drop([\"name\"], 1)\n",
    "df.replace(\"?\", -99999, inplace=True)\n",
    "full_data=df.astype(float)"
   ]
  },
  {
   "cell_type": "code",
   "execution_count": 41,
   "metadata": {},
   "outputs": [
    {
     "data": {
      "text/plain": [
       "array([[ 5.,  1.,  1., ...,  1.,  1.,  2.],\n",
       "       [ 5.,  4.,  4., ...,  2.,  1.,  2.],\n",
       "       [ 3.,  1.,  1., ...,  1.,  1.,  2.],\n",
       "       ...,\n",
       "       [ 5., 10., 10., ..., 10.,  2.,  4.],\n",
       "       [ 4.,  8.,  6., ...,  6.,  1.,  4.],\n",
       "       [ 4.,  8.,  8., ...,  4.,  1.,  4.]])"
      ]
     },
     "execution_count": 41,
     "metadata": {},
     "output_type": "execute_result"
    }
   ],
   "source": [
    "full_data=df.astype(float).values\n",
    "full_data"
   ]
  },
  {
   "cell_type": "code",
   "execution_count": 42,
   "metadata": {},
   "outputs": [],
   "source": [
    "import random"
   ]
  },
  {
   "cell_type": "code",
   "execution_count": 43,
   "metadata": {},
   "outputs": [],
   "source": [
    "random.shuffle(full_data)"
   ]
  },
  {
   "cell_type": "code",
   "execution_count": 44,
   "metadata": {},
   "outputs": [],
   "source": [
    "test_size = 0.2"
   ]
  },
  {
   "cell_type": "code",
   "execution_count": 45,
   "metadata": {},
   "outputs": [],
   "source": [
    "train_set = {2:[],4:[]}\n",
    "test_set = {2:[], 4:[]}"
   ]
  },
  {
   "cell_type": "code",
   "execution_count": 46,
   "metadata": {},
   "outputs": [],
   "source": [
    "train_data= full_data[:-int(test_size*len(full_data))]\n",
    "test_data = full_data[-int(test_size*len(full_data)):]"
   ]
  },
  {
   "cell_type": "code",
   "execution_count": 48,
   "metadata": {},
   "outputs": [
    {
     "data": {
      "text/plain": [
       "array([[ 5.,  1.,  1., ...,  1.,  1.,  2.],\n",
       "       [ 5.,  1.,  1., ...,  1.,  1.,  2.],\n",
       "       [ 5.,  1.,  1., ...,  1.,  1.,  2.],\n",
       "       ...,\n",
       "       [ 6.,  3.,  3., ...,  5.,  3.,  2.],\n",
       "       [ 4.,  1.,  2., ...,  1.,  1.,  2.],\n",
       "       [ 8., 10., 10., ...,  9.,  1.,  4.]])"
      ]
     },
     "execution_count": 48,
     "metadata": {},
     "output_type": "execute_result"
    }
   ],
   "source": [
    "train_data"
   ]
  },
  {
   "cell_type": "code",
   "execution_count": null,
   "metadata": {},
   "outputs": [],
   "source": [
    "for i in train_data:\n",
    "    print(i[-1])"
   ]
  },
  {
   "cell_type": "code",
   "execution_count": 55,
   "metadata": {},
   "outputs": [],
   "source": [
    "## en la columna -1 se guarda el tipo de clase que es, cuando es 4 se guarda en un array y cuando es 2 se guarda\n",
    "## en otro diccionario dentro del array\n",
    "for i in train_data:\n",
    "    train_set[i[-1]].append(i[:-1])\n",
    "    \n",
    "for i in test_data:\n",
    "    test_set[i[-1]].append(i[:-1])"
   ]
  },
  {
   "cell_type": "code",
   "execution_count": 70,
   "metadata": {},
   "outputs": [
    {
     "name": "stdout",
     "output_type": "stream",
     "text": [
      "Eficacia del KNN =  0.9640287769784173\n"
     ]
    }
   ],
   "source": [
    "correct = 0\n",
    "total = 0\n",
    "for group in test_set:\n",
    "    for data in test_set[group]:\n",
    "        ## le pasamos los datos de entrenamiento por que se supone que los datos del dataset deben ser los mismos\n",
    "        ## resultados que si el grupo de test fuera suministrado\n",
    "       \n",
    "        vote = k_nearest_neighbors(train_set, data, k = 5)\n",
    "        if group == vote:\n",
    "            correct += 1\n",
    "        total +=1\n",
    "print(\"Eficacia del KNN = \",correct/total)"
   ]
  },
  {
   "cell_type": "code",
   "execution_count": null,
   "metadata": {},
   "outputs": [],
   "source": []
  }
 ],
 "metadata": {
  "kernelspec": {
   "display_name": "Python 3.7.3 32-bit",
   "language": "python",
   "name": "python3"
  },
  "language_info": {
   "codemirror_mode": {
    "name": "ipython",
    "version": 3
   },
   "file_extension": ".py",
   "mimetype": "text/x-python",
   "name": "python",
   "nbconvert_exporter": "python",
   "pygments_lexer": "ipython3",
   "version": "3.7.3"
  },
  "orig_nbformat": 4,
  "vscode": {
   "interpreter": {
    "hash": "1bad4147c448ae3e855f1239dd350898981143d41f8c452fccc5a792205d94ba"
   }
  }
 },
 "nbformat": 4,
 "nbformat_minor": 2
}
