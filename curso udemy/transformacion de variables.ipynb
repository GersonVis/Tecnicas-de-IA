{
 "cells": [
  {
   "cell_type": "markdown",
   "metadata": {},
   "source": [
    "## Transformacion de variables para conseguir una relacion no lineal\n",
    "> Si el grafico no nos muestra una forma lineal tendremos que cambiar nuestro modelo"
   ]
  },
  {
   "cell_type": "markdown",
   "metadata": {},
   "source": [
    "La variable a predecir el gasto de gasolina esta fuertemente relacionada con los caballos de fuerza\n",
    "entre más caballos de fuerza tiene mayor es el número de gasolina"
   ]
  },
  {
   "cell_type": "code",
   "execution_count": 1,
   "metadata": {},
   "outputs": [],
   "source": [
    "import pandas as pd\n",
    "import numpy as np\n",
    "import matplotlib.pyplot as plt"
   ]
  },
  {
   "cell_type": "code",
   "execution_count": 2,
   "metadata": {},
   "outputs": [
    {
     "data": {
      "text/html": [
       "<div>\n",
       "<style scoped>\n",
       "    .dataframe tbody tr th:only-of-type {\n",
       "        vertical-align: middle;\n",
       "    }\n",
       "\n",
       "    .dataframe tbody tr th {\n",
       "        vertical-align: top;\n",
       "    }\n",
       "\n",
       "    .dataframe thead th {\n",
       "        text-align: right;\n",
       "    }\n",
       "</style>\n",
       "<table border=\"1\" class=\"dataframe\">\n",
       "  <thead>\n",
       "    <tr style=\"text-align: right;\">\n",
       "      <th></th>\n",
       "      <th>mpg</th>\n",
       "      <th>cylinders</th>\n",
       "      <th>displacement</th>\n",
       "      <th>horsepower</th>\n",
       "      <th>weight</th>\n",
       "      <th>acceleration</th>\n",
       "      <th>model year</th>\n",
       "      <th>origin</th>\n",
       "      <th>car name</th>\n",
       "    </tr>\n",
       "  </thead>\n",
       "  <tbody>\n",
       "    <tr>\n",
       "      <th>0</th>\n",
       "      <td>18.0</td>\n",
       "      <td>8</td>\n",
       "      <td>307.0</td>\n",
       "      <td>130.0</td>\n",
       "      <td>3504</td>\n",
       "      <td>12.0</td>\n",
       "      <td>70</td>\n",
       "      <td>1</td>\n",
       "      <td>chevrolet chevelle malibu</td>\n",
       "    </tr>\n",
       "    <tr>\n",
       "      <th>1</th>\n",
       "      <td>15.0</td>\n",
       "      <td>8</td>\n",
       "      <td>350.0</td>\n",
       "      <td>165.0</td>\n",
       "      <td>3693</td>\n",
       "      <td>11.5</td>\n",
       "      <td>70</td>\n",
       "      <td>1</td>\n",
       "      <td>buick skylark 320</td>\n",
       "    </tr>\n",
       "    <tr>\n",
       "      <th>2</th>\n",
       "      <td>18.0</td>\n",
       "      <td>8</td>\n",
       "      <td>318.0</td>\n",
       "      <td>150.0</td>\n",
       "      <td>3436</td>\n",
       "      <td>11.0</td>\n",
       "      <td>70</td>\n",
       "      <td>1</td>\n",
       "      <td>plymouth satellite</td>\n",
       "    </tr>\n",
       "    <tr>\n",
       "      <th>3</th>\n",
       "      <td>16.0</td>\n",
       "      <td>8</td>\n",
       "      <td>304.0</td>\n",
       "      <td>150.0</td>\n",
       "      <td>3433</td>\n",
       "      <td>12.0</td>\n",
       "      <td>70</td>\n",
       "      <td>1</td>\n",
       "      <td>amc rebel sst</td>\n",
       "    </tr>\n",
       "    <tr>\n",
       "      <th>4</th>\n",
       "      <td>17.0</td>\n",
       "      <td>8</td>\n",
       "      <td>302.0</td>\n",
       "      <td>140.0</td>\n",
       "      <td>3449</td>\n",
       "      <td>10.5</td>\n",
       "      <td>70</td>\n",
       "      <td>1</td>\n",
       "      <td>ford torino</td>\n",
       "    </tr>\n",
       "    <tr>\n",
       "      <th>...</th>\n",
       "      <td>...</td>\n",
       "      <td>...</td>\n",
       "      <td>...</td>\n",
       "      <td>...</td>\n",
       "      <td>...</td>\n",
       "      <td>...</td>\n",
       "      <td>...</td>\n",
       "      <td>...</td>\n",
       "      <td>...</td>\n",
       "    </tr>\n",
       "    <tr>\n",
       "      <th>401</th>\n",
       "      <td>27.0</td>\n",
       "      <td>4</td>\n",
       "      <td>140.0</td>\n",
       "      <td>86.0</td>\n",
       "      <td>2790</td>\n",
       "      <td>15.6</td>\n",
       "      <td>82</td>\n",
       "      <td>1</td>\n",
       "      <td>ford mustang gl</td>\n",
       "    </tr>\n",
       "    <tr>\n",
       "      <th>402</th>\n",
       "      <td>44.0</td>\n",
       "      <td>4</td>\n",
       "      <td>97.0</td>\n",
       "      <td>52.0</td>\n",
       "      <td>2130</td>\n",
       "      <td>24.6</td>\n",
       "      <td>82</td>\n",
       "      <td>2</td>\n",
       "      <td>vw pickup</td>\n",
       "    </tr>\n",
       "    <tr>\n",
       "      <th>403</th>\n",
       "      <td>32.0</td>\n",
       "      <td>4</td>\n",
       "      <td>135.0</td>\n",
       "      <td>84.0</td>\n",
       "      <td>2295</td>\n",
       "      <td>11.6</td>\n",
       "      <td>82</td>\n",
       "      <td>1</td>\n",
       "      <td>dodge rampage</td>\n",
       "    </tr>\n",
       "    <tr>\n",
       "      <th>404</th>\n",
       "      <td>28.0</td>\n",
       "      <td>4</td>\n",
       "      <td>120.0</td>\n",
       "      <td>79.0</td>\n",
       "      <td>2625</td>\n",
       "      <td>18.6</td>\n",
       "      <td>82</td>\n",
       "      <td>1</td>\n",
       "      <td>ford ranger</td>\n",
       "    </tr>\n",
       "    <tr>\n",
       "      <th>405</th>\n",
       "      <td>31.0</td>\n",
       "      <td>4</td>\n",
       "      <td>119.0</td>\n",
       "      <td>82.0</td>\n",
       "      <td>2720</td>\n",
       "      <td>19.4</td>\n",
       "      <td>82</td>\n",
       "      <td>1</td>\n",
       "      <td>chevy s-10</td>\n",
       "    </tr>\n",
       "  </tbody>\n",
       "</table>\n",
       "<p>406 rows × 9 columns</p>\n",
       "</div>"
      ],
      "text/plain": [
       "      mpg  cylinders  displacement  horsepower  weight  acceleration  \\\n",
       "0    18.0          8         307.0       130.0    3504          12.0   \n",
       "1    15.0          8         350.0       165.0    3693          11.5   \n",
       "2    18.0          8         318.0       150.0    3436          11.0   \n",
       "3    16.0          8         304.0       150.0    3433          12.0   \n",
       "4    17.0          8         302.0       140.0    3449          10.5   \n",
       "..    ...        ...           ...         ...     ...           ...   \n",
       "401  27.0          4         140.0        86.0    2790          15.6   \n",
       "402  44.0          4          97.0        52.0    2130          24.6   \n",
       "403  32.0          4         135.0        84.0    2295          11.6   \n",
       "404  28.0          4         120.0        79.0    2625          18.6   \n",
       "405  31.0          4         119.0        82.0    2720          19.4   \n",
       "\n",
       "     model year  origin                   car name  \n",
       "0            70       1  chevrolet chevelle malibu  \n",
       "1            70       1          buick skylark 320  \n",
       "2            70       1         plymouth satellite  \n",
       "3            70       1              amc rebel sst  \n",
       "4            70       1                ford torino  \n",
       "..          ...     ...                        ...  \n",
       "401          82       1            ford mustang gl  \n",
       "402          82       2                  vw pickup  \n",
       "403          82       1              dodge rampage  \n",
       "404          82       1                ford ranger  \n",
       "405          82       1                 chevy s-10  \n",
       "\n",
       "[406 rows x 9 columns]"
      ]
     },
     "execution_count": 2,
     "metadata": {},
     "output_type": "execute_result"
    }
   ],
   "source": [
    "## importamos data\n",
    "##mpg consumo\n",
    "##cylenders: tipo de coche\n",
    "\n",
    "data=pd.read_csv(\"archivos/auto.svg\")\n",
    "data"
   ]
  },
  {
   "cell_type": "code",
   "execution_count": 3,
   "metadata": {},
   "outputs": [],
   "source": [
    "## limpiar data\n",
    "## qutiar na\n",
    "data[\"mpg\"]=data[\"mpg\"].dropna()\n",
    "data[\"horsepowe\"]=data[\"horsepower\"].dropna()"
   ]
  },
  {
   "cell_type": "code",
   "execution_count": 4,
   "metadata": {},
   "outputs": [
    {
     "data": {
      "text/plain": [
       "Text(0.5, 1.0, 'Consumo por caballos de fuerza')"
      ]
     },
     "execution_count": 4,
     "metadata": {},
     "output_type": "execute_result"
    },
    {
     "data": {
      "image/png": "[encoded data removed]",
      "text/plain": [
       "<Figure size 432x288 with 1 Axes>"
      ]
     },
     "metadata": {
      "needs_background": "light"
     },
     "output_type": "display_data"
    }
   ],
   "source": [
    "%matplotlib inline\n",
    "plt.plot(data[\"horsepower\"], data[\"mpg\"], \"ro\")\n",
    "plt.xlabel(\"Caballos de fuerza\")\n",
    "plt.ylabel(\"Consumo de combustible\")\n",
    "plt.title(\"Consumo por caballos de fuerza\")"
   ]
  },
  {
   "cell_type": "markdown",
   "metadata": {},
   "source": [
    "## Conclusion del gráfico anterior\n",
    "* Poca posibilidad de tener forma lineal\n",
    "* Curva, posiblemente exponencial\n",
    "* Posiblemente cuadrática en forma de parabola"
   ]
  },
  {
   "cell_type": "markdown",
   "metadata": {},
   "source": [
    "### Modelo de regresión lineal \n",
    "> Probar si se puede ajustar a un modelo lineal\n",
    "> \n",
    "**beta=a+b*horsepower**"
   ]
  },
  {
   "cell_type": "code",
   "execution_count": 5,
   "metadata": {},
   "outputs": [],
   "source": [
    "x=data[\"horsepower\"].fillna(data[\"horsepower\"].mean())\n",
    "y=data[\"mpg\"].fillna(data[\"mpg\"].mean())"
   ]
  },
  {
   "cell_type": "code",
   "execution_count": 6,
   "metadata": {},
   "outputs": [],
   "source": [
    "from sklearn.linear_model  import LinearRegression"
   ]
  },
  {
   "cell_type": "code",
   "execution_count": 7,
   "metadata": {},
   "outputs": [
    {
     "name": "stderr",
     "output_type": "stream",
     "text": [
      "C:\\Users\\Golfa\\AppData\\Local\\Temp/ipykernel_8904/361285572.py:2: FutureWarning: Support for multi-dimensional indexing (e.g. `obj[:, None]`) is deprecated and will be removed in a future version.  Convert to a numpy array before indexing instead.\n",
      "  lm.fit(x[:, np.newaxis],y)\n"
     ]
    },
    {
     "data": {
      "text/plain": [
       "LinearRegression()"
      ]
     },
     "execution_count": 7,
     "metadata": {},
     "output_type": "execute_result"
    }
   ],
   "source": [
    "lm=LinearRegression()\n",
    "lm.fit(x[:, np.newaxis],y)"
   ]
  },
  {
   "cell_type": "code",
   "execution_count": 8,
   "metadata": {},
   "outputs": [
    {
     "name": "stderr",
     "output_type": "stream",
     "text": [
      "C:\\Users\\Golfa\\AppData\\Local\\Temp/ipykernel_8904/3530397439.py:3: FutureWarning: Support for multi-dimensional indexing (e.g. `obj[:, None]`) is deprecated and will be removed in a future version.  Convert to a numpy array before indexing instead.\n",
      "  plt.plot(x, lm.predict(x[:, np.newaxis]))\n"
     ]
    },
    {
     "data": {
      "text/plain": [
       "[<matplotlib.lines.Line2D at 0x17f7107f9d0>]"
      ]
     },
     "execution_count": 8,
     "metadata": {},
     "output_type": "execute_result"
    },
    {
     "data": {
      "image/png": "[encoded data removed]",
      "text/plain": [
       "<Figure size 432x288 with 1 Axes>"
      ]
     },
     "metadata": {
      "needs_background": "light"
     },
     "output_type": "display_data"
    }
   ],
   "source": [
    "%matplotlib inline\n",
    "plt.plot(x, y, \"ro\")\n",
    "plt.plot(x, lm.predict(x[:, np.newaxis]))"
   ]
  },
  {
   "cell_type": "code",
   "execution_count": 9,
   "metadata": {},
   "outputs": [
    {
     "name": "stderr",
     "output_type": "stream",
     "text": [
      "C:\\Users\\Golfa\\AppData\\Local\\Temp/ipykernel_8904/3191482549.py:1: FutureWarning: Support for multi-dimensional indexing (e.g. `obj[:, None]`) is deprecated and will be removed in a future version.  Convert to a numpy array before indexing instead.\n",
      "  lm.score(x[:, np.newaxis],y)\n"
     ]
    },
    {
     "data": {
      "text/plain": [
       "0.574653340645025"
      ]
     },
     "execution_count": 9,
     "metadata": {},
     "output_type": "execute_result"
    }
   ],
   "source": [
    "lm.score(x[:, np.newaxis],y)"
   ]
  },
  {
   "cell_type": "code",
   "execution_count": 10,
   "metadata": {},
   "outputs": [
    {
     "name": "stderr",
     "output_type": "stream",
     "text": [
      "C:\\Users\\Golfa\\AppData\\Local\\Temp/ipykernel_8904/4155713015.py:1: FutureWarning: Support for multi-dimensional indexing (e.g. `obj[:, None]`) is deprecated and will be removed in a future version.  Convert to a numpy array before indexing instead.\n",
      "  x_data=x[:, np.newaxis]\n"
     ]
    }
   ],
   "source": [
    "x_data=x[:, np.newaxis]\n"
   ]
  },
  {
   "cell_type": "code",
   "execution_count": 11,
   "metadata": {},
   "outputs": [],
   "source": [
    "prediccion=lm.predict(x_data)"
   ]
  },
  {
   "cell_type": "code",
   "execution_count": 12,
   "metadata": {},
   "outputs": [
    {
     "data": {
      "text/plain": [
       "(array([-0.15244505]), 39.53387982903449)"
      ]
     },
     "execution_count": 12,
     "metadata": {},
     "output_type": "execute_result"
    }
   ],
   "source": [
    "lm.coef_, lm.intercept_"
   ]
  },
  {
   "cell_type": "code",
   "execution_count": 13,
   "metadata": {},
   "outputs": [
    {
     "name": "stderr",
     "output_type": "stream",
     "text": [
      "C:\\Users\\Golfa\\AppData\\Local\\Temp/ipykernel_8904/866577246.py:2: FutureWarning: Support for multi-dimensional indexing (e.g. `obj[:, None]`) is deprecated and will be removed in a future version.  Convert to a numpy array before indexing instead.\n",
      "  SSD=np.sum((y-lm.predict(x[:, np.newaxis]))**2)\n"
     ]
    },
    {
     "data": {
      "text/plain": [
       "(10315.75196006092, 5.046879480825511, 23.51457286432162, 0.21462773361633458)"
      ]
     },
     "execution_count": 13,
     "metadata": {},
     "output_type": "execute_result"
    }
   ],
   "source": [
    "## Suma de los cuadrados de las diferencias\n",
    "SSD=np.sum((y-lm.predict(x[:, np.newaxis]))**2)\n",
    "RSE=np.sqrt(SSD/(len(data)-1))\n",
    "error=RSE/y.mean()\n",
    "SSD, RSE, y.mean(), error"
   ]
  },
  {
   "cell_type": "code",
   "execution_count": 14,
   "metadata": {},
   "outputs": [
    {
     "data": {
      "text/plain": [
       "5.046879480825511"
      ]
     },
     "execution_count": 14,
     "metadata": {},
     "output_type": "execute_result"
    }
   ],
   "source": [
    "## Desviación estandar de los residuos\n",
    "RSE=np.sqrt(SSD/(len(data)-1))\n",
    "RSE"
   ]
  },
  {
   "cell_type": "code",
   "execution_count": 15,
   "metadata": {},
   "outputs": [
    {
     "data": {
      "text/plain": [
       "0.04802778274998703"
      ]
     },
     "execution_count": 15,
     "metadata": {},
     "output_type": "execute_result"
    }
   ],
   "source": [
    "error=RSE/x.mean()\n",
    "error"
   ]
  },
  {
   "cell_type": "code",
   "execution_count": 16,
   "metadata": {},
   "outputs": [
    {
     "data": {
      "text/plain": [
       "Index(['mpg', 'cylinders', 'displacement', 'horsepower', 'weight',\n",
       "       'acceleration', 'model year', 'origin', 'car name', 'horsepowe'],\n",
       "      dtype='object')"
      ]
     },
     "execution_count": 16,
     "metadata": {},
     "output_type": "execute_result"
    }
   ],
   "source": [
    "data.columns"
   ]
  },
  {
   "cell_type": "markdown",
   "metadata": {},
   "source": [
    "## Modelo de regresición cuadrática"
   ]
  },
  {
   "cell_type": "code",
   "execution_count": 17,
   "metadata": {},
   "outputs": [],
   "source": [
    "## hacer el cuadrado de la variable predictoria\n",
    "x_data=x**2"
   ]
  },
  {
   "cell_type": "code",
   "execution_count": 18,
   "metadata": {},
   "outputs": [],
   "source": [
    "x_shape=np.reshape(np.array(x_data.to_list()), (len(x_data), 1))"
   ]
  },
  {
   "cell_type": "code",
   "execution_count": 19,
   "metadata": {},
   "outputs": [
    {
     "data": {
      "text/plain": [
       "LinearRegression()"
      ]
     },
     "execution_count": 19,
     "metadata": {},
     "output_type": "execute_result"
    }
   ],
   "source": [
    "lm_cuadrado=LinearRegression()\n",
    "lm_cuadrado.fit(x_shape, y)"
   ]
  },
  {
   "cell_type": "code",
   "execution_count": 20,
   "metadata": {},
   "outputs": [],
   "source": [
    "prediccion_cuadratica=lm_cuadrado.predict(x_shape)"
   ]
  },
  {
   "cell_type": "code",
   "execution_count": 21,
   "metadata": {},
   "outputs": [
    {
     "data": {
      "text/plain": [
       "[<matplotlib.lines.Line2D at 0x17f71100190>]"
      ]
     },
     "execution_count": 21,
     "metadata": {},
     "output_type": "execute_result"
    },
    {
     "data": {
      "image/png": "[encoded data removed]",
      "text/plain": [
       "<Figure size 432x288 with 1 Axes>"
      ]
     },
     "metadata": {
      "needs_background": "light"
     },
     "output_type": "display_data"
    }
   ],
   "source": [
    "%matplotlib inline\n",
    "plt.plot(x, y, \"ro\")\n",
    "plt.plot(x, prediccion)"
   ]
  },
  {
   "cell_type": "code",
   "execution_count": 22,
   "metadata": {},
   "outputs": [
    {
     "data": {
      "text/plain": [
       "0.4849887034823205"
      ]
     },
     "execution_count": 22,
     "metadata": {},
     "output_type": "execute_result"
    }
   ],
   "source": [
    "## porcentaje de error\n",
    "lm_cuadrado.score(x_shape, y)"
   ]
  },
  {
   "cell_type": "code",
   "execution_count": 23,
   "metadata": {},
   "outputs": [
    {
     "data": {
      "text/plain": [
       "0.236168898529981"
      ]
     },
     "execution_count": 23,
     "metadata": {},
     "output_type": "execute_result"
    }
   ],
   "source": [
    "#Suma de los cuadrados de las diferencias\n",
    "SSD=np.sum((y-prediccion_cuadratica)**2)\n",
    "## desviación estandar de los residuos\n",
    "RSE=np.sqrt(SSD/(len(data)-1))\n",
    "## porcentaje de error\n",
    "error=RSE/y.mean()\n",
    "error"
   ]
  },
  {
   "cell_type": "markdown",
   "metadata": {},
   "source": [
    "## Modelo de regresión lineal y cuadratico\n",
    "> mpg=a+b horsepower+c horsepower ^ 2"
   ]
  },
  {
   "cell_type": "code",
   "execution_count": 24,
   "metadata": {},
   "outputs": [],
   "source": [
    "from sklearn.preprocessing import PolynomialFeatures\n",
    "from sklearn import linear_model"
   ]
  },
  {
   "cell_type": "code",
   "execution_count": 25,
   "metadata": {},
   "outputs": [],
   "source": [
    "#polinomio de grado 2\n",
    "poly=PolynomialFeatures(degree=2)"
   ]
  },
  {
   "cell_type": "code",
   "execution_count": 26,
   "metadata": {},
   "outputs": [
    {
     "name": "stderr",
     "output_type": "stream",
     "text": [
      "C:\\Users\\Golfa\\AppData\\Local\\Temp/ipykernel_8904/1791507792.py:1: FutureWarning: Support for multi-dimensional indexing (e.g. `obj[:, None]`) is deprecated and will be removed in a future version.  Convert to a numpy array before indexing instead.\n",
      "  x_cuadrada=poly.fit_transform(x[:, np.newaxis])\n"
     ]
    }
   ],
   "source": [
    "x_cuadrada=poly.fit_transform(x[:, np.newaxis])"
   ]
  },
  {
   "cell_type": "code",
   "execution_count": 27,
   "metadata": {},
   "outputs": [
    {
     "data": {
      "text/plain": [
       "LinearRegression()"
      ]
     },
     "execution_count": 27,
     "metadata": {},
     "output_type": "execute_result"
    }
   ],
   "source": [
    "lm=linear_model.LinearRegression()\n",
    "lm.fit(x_cuadrada, y)"
   ]
  },
  {
   "cell_type": "code",
   "execution_count": 28,
   "metadata": {},
   "outputs": [
    {
     "data": {
      "text/plain": [
       "55.02619244708036"
      ]
     },
     "execution_count": 28,
     "metadata": {},
     "output_type": "execute_result"
    }
   ],
   "source": [
    "lm.intercept_"
   ]
  },
  {
   "cell_type": "code",
   "execution_count": 29,
   "metadata": {},
   "outputs": [
    {
     "data": {
      "text/plain": [
       "array([ 0.        , -0.43404318,  0.00112615])"
      ]
     },
     "execution_count": 29,
     "metadata": {},
     "output_type": "execute_result"
    }
   ],
   "source": [
    "lm.coef_"
   ]
  },
  {
   "cell_type": "code",
   "execution_count": 30,
   "metadata": {},
   "outputs": [
    {
     "data": {
      "text/plain": [
       "0.6439066584257469"
      ]
     },
     "execution_count": 30,
     "metadata": {},
     "output_type": "execute_result"
    }
   ],
   "source": [
    "lm.score(x_cuadrada, y)"
   ]
  },
  {
   "cell_type": "code",
   "execution_count": null,
   "metadata": {},
   "outputs": [],
   "source": []
  },
  {
   "cell_type": "markdown",
   "metadata": {},
   "source": [
    "## Modelo cuadratico lineal\n",
    "> gasto_gasolina= 55.02619244708036-0.43404318hp+0.00112615np^2"
   ]
  },
  {
   "cell_type": "code",
   "execution_count": 31,
   "metadata": {},
   "outputs": [],
   "source": [
    "from sklearn.preprocessing import PolynomialFeatures\n",
    "from sklearn.pipeline import make_pipeline\n",
    "from sklearn.linear_model import LinearRegression"
   ]
  },
  {
   "cell_type": "code",
   "execution_count": 32,
   "metadata": {},
   "outputs": [
    {
     "name": "stderr",
     "output_type": "stream",
     "text": [
      "C:\\Users\\Golfa\\AppData\\Local\\Temp/ipykernel_8904/3529948186.py:2: FutureWarning: Support for multi-dimensional indexing (e.g. `obj[:, None]`) is deprecated and will be removed in a future version.  Convert to a numpy array before indexing instead.\n",
      "  polyreg.fit(x[:, np.newaxis],y)\n"
     ]
    },
    {
     "data": {
      "text/plain": [
       "Pipeline(steps=[('polynomialfeatures', PolynomialFeatures()),\n",
       "                ('linearregression', LinearRegression())])"
      ]
     },
     "execution_count": 32,
     "metadata": {},
     "output_type": "execute_result"
    }
   ],
   "source": [
    "polyreg=make_pipeline(PolynomialFeatures(2),LinearRegression())\n",
    "polyreg.fit(x[:, np.newaxis],y)"
   ]
  },
  {
   "cell_type": "code",
   "execution_count": 33,
   "metadata": {},
   "outputs": [
    {
     "name": "stderr",
     "output_type": "stream",
     "text": [
      "C:\\Users\\Golfa\\AppData\\Local\\Temp/ipykernel_8904/2760921653.py:1: FutureWarning: Support for multi-dimensional indexing (e.g. `obj[:, None]`) is deprecated and will be removed in a future version.  Convert to a numpy array before indexing instead.\n",
      "  polyreg.score(x[:, np.newaxis],y)\n"
     ]
    },
    {
     "data": {
      "text/plain": [
       "0.6439066584257469"
      ]
     },
     "execution_count": 33,
     "metadata": {},
     "output_type": "execute_result"
    }
   ],
   "source": [
    "polyreg.score(x[:, np.newaxis],y)"
   ]
  },
  {
   "cell_type": "code",
   "execution_count": 34,
   "metadata": {},
   "outputs": [
    {
     "name": "stderr",
     "output_type": "stream",
     "text": [
      "C:\\Users\\Golfa\\AppData\\Local\\Temp/ipykernel_8904/3007215937.py:1: FutureWarning: Support for multi-dimensional indexing (e.g. `obj[:, None]`) is deprecated and will be removed in a future version.  Convert to a numpy array before indexing instead.\n",
      "  polyreg.predict(x[:, np.newaxis])\n"
     ]
    },
    {
     "data": {
      "text/plain": [
       "array([17.63246017, 14.06841466, 15.2580187 , 15.2580187 , 16.33262475,\n",
       "       13.23510232, 14.0421984 , 13.76304499, 14.37765914, 13.21188807,\n",
       "       20.00451835, 14.06841466, 14.9795566 , 13.55688201, 13.55688201,\n",
       "       13.78449466, 14.408642  , 16.33262475, 15.2580187 , 14.37765914,\n",
       "       23.95556535, 23.95556535, 23.51991937, 26.26893289, 25.55127355,\n",
       "       37.44313285, 25.78824104, 25.08409545, 23.95556535, 20.35908177,\n",
       "       25.08409545, 13.76304499, 13.26342882, 13.54019893, 13.20370122,\n",
       "       25.55127355, 25.08409545, 23.95556535, 21.85113677, 36.78676209,\n",
       "       22.88334259, 21.86742717, 22.88334259, 25.55127355, 22.88334259,\n",
       "       14.06841466, 13.55688201, 14.9795566 , 15.2580187 , 13.38557669,\n",
       "       13.78449466, 13.55688201, 20.90781909, 29.61302859, 22.88334259,\n",
       "       25.55127355, 26.02746082, 25.08409545, 30.16128926, 28.54353479,\n",
       "       31.57135606, 30.43879803, 33.0377302 , 30.16128926, 23.95556535,\n",
       "       27.51007768, 34.87170486, 25.08409545, 26.02746082, 14.06841466,\n",
       "       13.55688201, 15.2580187 , 14.9795566 , 15.2580187 , 13.46682656,\n",
       "       14.80517668, 14.408642  , 13.21188807, 23.51991937, 15.2580187 ,\n",
       "       17.63246017, 16.33262475, 15.2580187 , 20.53974191, 28.54353479,\n",
       "       25.78824104, 30.43879803, 26.02746082, 24.62592653, 23.51991937,\n",
       "       27.51007768, 25.55127355, 13.55688201, 15.2580187 , 15.76716805,\n",
       "       16.6989263 , 15.2580187 , 13.23510232, 15.2580187 , 14.56049899,\n",
       "       15.2580187 , 13.76304499, 14.37765914, 13.55688201, 21.86742717,\n",
       "       22.88334259, 22.88334259, 25.55127355, 23.95556535, 37.44313285,\n",
       "       15.2580187 , 13.94808978, 13.78449466, 13.38557669, 22.88334259,\n",
       "       25.55127355, 29.61302859, 24.17676679, 25.08409545, 26.26893289,\n",
       "       21.47682706, 25.08409545, 15.76716805, 14.76942723, 36.46195515,\n",
       "       28.8075298 , 24.85388485, 20.53974191, 15.2580187 , 20.90781909,\n",
       "       18.83449365, 13.38557669, 23.95556535, 21.85113677, 22.88334259,\n",
       "       22.88334259, 31.00057246, 27.51007768, 31.57135606, 28.8075298 ,\n",
       "       22.88334259, 20.90781909, 21.86742717, 16.33262475, 15.2580187 ,\n",
       "       15.2580187 , 16.33262475, 15.2580187 , 26.75863393, 31.00057246,\n",
       "       28.02230164, 35.5010481 , 32.73995079, 28.8075298 , 28.8075298 ,\n",
       "       28.8075298 , 23.51991937, 24.40022051, 31.00057246, 23.95556535,\n",
       "       21.86742717, 29.61302859, 29.61302859, 13.78449466, 15.76716805,\n",
       "       15.2580187 , 15.45492156, 20.90781909, 21.86742717, 20.90781909,\n",
       "       23.95556535, 20.90781909, 20.90781909, 17.77483133, 28.8075298 ,\n",
       "       26.75863393, 22.88334259, 28.02230164, 23.73661621, 29.88603278,\n",
       "       23.51991937, 23.51991937, 30.16128926, 25.08409545, 23.95556535,\n",
       "       25.55127355, 23.30547481, 20.00451835, 35.18525033, 26.02746082,\n",
       "       27.25734413, 24.62592653, 27.76506351, 26.75863393, 16.33262475,\n",
       "       15.2580187 , 19.15752495, 15.07012501, 22.88334259, 21.86742717,\n",
       "       27.25734413, 25.08409545, 35.5010481 , 33.0377302 , 30.16128926,\n",
       "       35.18525033, 22.88334259, 28.02230164, 20.90781909, 23.95556535,\n",
       "       29.88603278, 30.16128926, 28.8075298 , 29.61302859, 22.47021954,\n",
       "       15.2580187 , 25.55127355, 21.28490544, 19.15752495, 13.38557669,\n",
       "       15.76716805, 17.63246017, 15.2580187 , 30.7185591 , 27.51007768,\n",
       "       33.64004592, 23.73661621, 30.16128926, 15.76716805, 20.90781909,\n",
       "       15.76716805, 17.63246017, 20.90781909, 21.86742717, 22.88334259,\n",
       "       23.30547481, 13.38557669, 13.78449466, 13.21188807, 15.35534398,\n",
       "       28.02230164, 25.55127355, 28.8075298 , 25.31655835, 32.15114884,\n",
       "       26.75863393, 31.00057246, 28.02230164, 23.51991937, 20.90781909,\n",
       "       20.90781909, 36.78676209, 31.28483811, 35.5010481 , 30.16128926,\n",
       "       33.0377302 , 20.90781909, 16.33262475, 16.45247297, 21.86742717,\n",
       "       23.95556535, 26.26893289, 25.55127355, 22.88334259, 25.08409545,\n",
       "       21.86742717, 26.26893289, 20.90781909, 19.15752495, 15.76716805,\n",
       "       14.06841466, 16.45247297, 16.33262475, 30.7185591 , 23.95556535,\n",
       "       23.51991937, 28.8075298 , 23.95556535, 21.86742717, 26.26893289,\n",
       "       23.51991937, 22.26703646, 18.36683889, 20.00451835, 17.21886046,\n",
       "       29.88603278, 30.7185591 , 20.00451835, 26.26893289, 25.55127355,\n",
       "       25.08409545, 20.90781909, 17.63246017, 17.77483133, 16.57457349,\n",
       "       16.95438879, 14.80517668, 16.09968519, 18.36683889, 15.2580187 ,\n",
       "       29.88603278, 31.57135606, 27.51007768, 27.51007768, 28.28179207,\n",
       "       18.36683889, 29.88603278, 25.08409545, 30.16128926, 30.16128926,\n",
       "       31.57135606, 30.43879803, 25.08409545, 20.00451835, 20.00451835,\n",
       "       25.08409545, 28.54353479, 33.0377302 , 30.16128926, 31.57135606,\n",
       "       25.08409545, 25.55127355, 25.08409545, 25.08409545, 28.02230164,\n",
       "       25.08409545, 28.8075298 , 24.62592653, 28.8075298 , 31.57135606,\n",
       "       21.86742717, 31.57135606, 36.78676209, 36.78676209, 31.00057246,\n",
       "       31.00057246, 31.00057246, 21.85113677, 31.00057246, 32.44442367,\n",
       "       17.35447474, 22.88334259, 25.55127355, 21.85113677, 29.61302859,\n",
       "       26.51265726, 26.51265726, 24.62592653, 20.90781909, 26.51265726,\n",
       "       33.64004592, 31.8601263 , 33.0377302 , 31.00057246, 31.57135606,\n",
       "       32.44442367, 30.7185591 , 32.15114884, 31.57135606, 31.57135606,\n",
       "       29.0737771 , 21.85113677, 28.8075298 , 28.8075298 , 22.88334259,\n",
       "       29.0737771 , 27.51007768, 20.90781909, 28.54353479, 19.83061508,\n",
       "       19.15752495, 20.90781909, 21.86742717, 25.55127355, 26.26893289,\n",
       "       25.55127355, 25.55127355, 25.55127355, 26.26893289, 26.51265726,\n",
       "       25.08409545, 24.62592653, 21.85113677, 29.0737771 , 30.7185591 ,\n",
       "       30.7185591 , 32.15114884, 30.16128926, 25.55127355, 28.8075298 ,\n",
       "       30.16128926, 31.00057246, 31.00057246, 31.00057246, 20.90781909,\n",
       "       26.26893289, 24.62592653, 20.53974191, 23.73661621, 26.51265726,\n",
       "       25.08409545, 26.02746082, 35.5010481 , 26.51265726, 27.76506351,\n",
       "       27.00686288])"
      ]
     },
     "execution_count": 34,
     "metadata": {},
     "output_type": "execute_result"
    }
   ],
   "source": [
    "polyreg.predict(x[:, np.newaxis])"
   ]
  },
  {
   "cell_type": "code",
   "execution_count": 35,
   "metadata": {},
   "outputs": [
    {
     "name": "stderr",
     "output_type": "stream",
     "text": [
      "C:\\Users\\Golfa\\AppData\\Local\\Temp/ipykernel_8904/1365365267.py:3: FutureWarning: Support for multi-dimensional indexing (e.g. `obj[:, None]`) is deprecated and will be removed in a future version.  Convert to a numpy array before indexing instead.\n",
      "  plt.plot(x, polyreg.predict(x[:, np.newaxis]), \"ro\")\n"
     ]
    },
    {
     "data": {
      "text/plain": [
       "[<matplotlib.lines.Line2D at 0x17f71183400>]"
      ]
     },
     "execution_count": 35,
     "metadata": {},
     "output_type": "execute_result"
    },
    {
     "data": {
      "image/png": "[encoded data removed]",
      "text/plain": [
       "<Figure size 432x288 with 1 Axes>"
      ]
     },
     "metadata": {
      "needs_background": "light"
     },
     "output_type": "display_data"
    }
   ],
   "source": [
    "%matplotlib inline\n",
    "plt.plot(x, y, \"bo\")\n",
    "plt.plot(x, polyreg.predict(x[:, np.newaxis]), \"ro\")\n"
   ]
  },
  {
   "cell_type": "markdown",
   "metadata": {},
   "source": [
    "## El problema de los outliers\n",
    "> Aquellos datos muy alejados de los demás, estos datos pueden afectar nuestro módelo\n",
    ">\n",
    ">puntos alejados de la masa general"
   ]
  },
  {
   "cell_type": "code",
   "execution_count": 39,
   "metadata": {},
   "outputs": [
    {
     "data": {
      "text/plain": [
       "[<matplotlib.lines.Line2D at 0x17f71f3f3d0>]"
      ]
     },
     "execution_count": 39,
     "metadata": {},
     "output_type": "execute_result"
    },
    {
     "data": {
      "image/png": "[encoded data removed]",
      "text/plain": [
       "<Figure size 432x288 with 1 Axes>"
      ]
     },
     "metadata": {
      "needs_background": "light"
     },
     "output_type": "display_data"
    }
   ],
   "source": [
    "%matplotlib inline\n",
    "plt.plot(data[\"displacement\"], data[\"mpg\"], \"ro\")"
   ]
  },
  {
   "cell_type": "code",
   "execution_count": 57,
   "metadata": {},
   "outputs": [
    {
     "name": "stderr",
     "output_type": "stream",
     "text": [
      "C:\\Users\\Golfa\\AppData\\Local\\Temp/ipykernel_8904/3679031113.py:3: FutureWarning: Support for multi-dimensional indexing (e.g. `obj[:, None]`) is deprecated and will be removed in a future version.  Convert to a numpy array before indexing instead.\n",
      "  x=x[:, np.newaxis]\n"
     ]
    },
    {
     "data": {
      "text/plain": [
       "LinearRegression()"
      ]
     },
     "execution_count": 57,
     "metadata": {},
     "output_type": "execute_result"
    }
   ],
   "source": [
    "lm=LinearRegression()\n",
    "x=data[\"displacement\"].fillna(data[\"displacement\"].mean())\n",
    "x=x[:, np.newaxis]\n",
    "#x=np.array(x).reshape(1,-1)\n",
    "y=data[\"mpg\"].fillna(data[\"mpg\"].mean())\n",
    "lm.fit(x, y)"
   ]
  },
  {
   "cell_type": "code",
   "execution_count": 61,
   "metadata": {},
   "outputs": [
    {
     "data": {
      "text/plain": [
       "0.6261049762826918"
      ]
     },
     "execution_count": 61,
     "metadata": {},
     "output_type": "execute_result"
    }
   ],
   "source": [
    "lm.score(x,y)"
   ]
  },
  {
   "cell_type": "code",
   "execution_count": 66,
   "metadata": {},
   "outputs": [
    {
     "data": {
      "text/plain": [
       "[<matplotlib.lines.Line2D at 0x17f7245f700>]"
      ]
     },
     "execution_count": 66,
     "metadata": {},
     "output_type": "execute_result"
    },
    {
     "data": {
      "image/png": "[encoded data removed]",
      "text/plain": [
       "<Figure size 432x288 with 1 Axes>"
      ]
     },
     "metadata": {
      "needs_background": "light"
     },
     "output_type": "display_data"
    }
   ],
   "source": [
    "%matplotlib inline\n",
    "plt.plot(x, y, \"ro\")\n",
    "plt.plot(data[\"displacement\"], lm.predict(x))"
   ]
  },
  {
   "cell_type": "code",
   "execution_count": 65,
   "metadata": {},
   "outputs": [
    {
     "data": {
      "text/html": [
       "<div>\n",
       "<style scoped>\n",
       "    .dataframe tbody tr th:only-of-type {\n",
       "        vertical-align: middle;\n",
       "    }\n",
       "\n",
       "    .dataframe tbody tr th {\n",
       "        vertical-align: top;\n",
       "    }\n",
       "\n",
       "    .dataframe thead th {\n",
       "        text-align: right;\n",
       "    }\n",
       "</style>\n",
       "<table border=\"1\" class=\"dataframe\">\n",
       "  <thead>\n",
       "    <tr style=\"text-align: right;\">\n",
       "      <th></th>\n",
       "      <th>mpg</th>\n",
       "      <th>cylinders</th>\n",
       "      <th>displacement</th>\n",
       "      <th>horsepower</th>\n",
       "      <th>weight</th>\n",
       "      <th>acceleration</th>\n",
       "      <th>model year</th>\n",
       "      <th>origin</th>\n",
       "      <th>car name</th>\n",
       "      <th>horsepowe</th>\n",
       "    </tr>\n",
       "  </thead>\n",
       "  <tbody>\n",
       "    <tr>\n",
       "      <th>395</th>\n",
       "      <td>38.0</td>\n",
       "      <td>6</td>\n",
       "      <td>262.0</td>\n",
       "      <td>85.0</td>\n",
       "      <td>3015</td>\n",
       "      <td>17.0</td>\n",
       "      <td>82</td>\n",
       "      <td>1</td>\n",
       "      <td>oldsmobile cutlass ciera (diesel)</td>\n",
       "      <td>85.0</td>\n",
       "    </tr>\n",
       "  </tbody>\n",
       "</table>\n",
       "</div>"
      ],
      "text/plain": [
       "      mpg  cylinders  displacement  horsepower  weight  acceleration  \\\n",
       "395  38.0          6         262.0        85.0    3015          17.0   \n",
       "\n",
       "     model year  origin                           car name  horsepowe  \n",
       "395          82       1  oldsmobile cutlass ciera (diesel)       85.0  "
      ]
     },
     "execution_count": 65,
     "metadata": {},
     "output_type": "execute_result"
    }
   ],
   "source": [
    "data[(data[\"displacement\"]>250)&(data[\"mpg\"]>35)]"
   ]
  },
  {
   "cell_type": "code",
   "execution_count": 70,
   "metadata": {},
   "outputs": [
    {
     "data": {
      "text/html": [
       "<div>\n",
       "<style scoped>\n",
       "    .dataframe tbody tr th:only-of-type {\n",
       "        vertical-align: middle;\n",
       "    }\n",
       "\n",
       "    .dataframe tbody tr th {\n",
       "        vertical-align: top;\n",
       "    }\n",
       "\n",
       "    .dataframe thead th {\n",
       "        text-align: right;\n",
       "    }\n",
       "</style>\n",
       "<table border=\"1\" class=\"dataframe\">\n",
       "  <thead>\n",
       "    <tr style=\"text-align: right;\">\n",
       "      <th></th>\n",
       "      <th>mpg</th>\n",
       "      <th>cylinders</th>\n",
       "      <th>displacement</th>\n",
       "      <th>horsepower</th>\n",
       "      <th>weight</th>\n",
       "      <th>acceleration</th>\n",
       "      <th>model year</th>\n",
       "      <th>origin</th>\n",
       "      <th>car name</th>\n",
       "      <th>horsepowe</th>\n",
       "    </tr>\n",
       "  </thead>\n",
       "  <tbody>\n",
       "    <tr>\n",
       "      <th>257</th>\n",
       "      <td>19.4</td>\n",
       "      <td>8</td>\n",
       "      <td>318.0</td>\n",
       "      <td>140.0</td>\n",
       "      <td>3735</td>\n",
       "      <td>13.2</td>\n",
       "      <td>78</td>\n",
       "      <td>1</td>\n",
       "      <td>dodge diplomat</td>\n",
       "      <td>140.0</td>\n",
       "    </tr>\n",
       "    <tr>\n",
       "      <th>258</th>\n",
       "      <td>20.2</td>\n",
       "      <td>8</td>\n",
       "      <td>302.0</td>\n",
       "      <td>139.0</td>\n",
       "      <td>3570</td>\n",
       "      <td>12.8</td>\n",
       "      <td>78</td>\n",
       "      <td>1</td>\n",
       "      <td>mercury monarch ghia</td>\n",
       "      <td>139.0</td>\n",
       "    </tr>\n",
       "    <tr>\n",
       "      <th>269</th>\n",
       "      <td>19.2</td>\n",
       "      <td>8</td>\n",
       "      <td>305.0</td>\n",
       "      <td>145.0</td>\n",
       "      <td>3425</td>\n",
       "      <td>13.2</td>\n",
       "      <td>78</td>\n",
       "      <td>1</td>\n",
       "      <td>chevrolet monte carlo landau</td>\n",
       "      <td>145.0</td>\n",
       "    </tr>\n",
       "    <tr>\n",
       "      <th>305</th>\n",
       "      <td>23.0</td>\n",
       "      <td>8</td>\n",
       "      <td>350.0</td>\n",
       "      <td>125.0</td>\n",
       "      <td>3900</td>\n",
       "      <td>17.4</td>\n",
       "      <td>79</td>\n",
       "      <td>1</td>\n",
       "      <td>cadillac eldorado</td>\n",
       "      <td>125.0</td>\n",
       "    </tr>\n",
       "    <tr>\n",
       "      <th>372</th>\n",
       "      <td>26.6</td>\n",
       "      <td>8</td>\n",
       "      <td>350.0</td>\n",
       "      <td>105.0</td>\n",
       "      <td>3725</td>\n",
       "      <td>19.0</td>\n",
       "      <td>81</td>\n",
       "      <td>1</td>\n",
       "      <td>oldsmobile cutlass ls</td>\n",
       "      <td>105.0</td>\n",
       "    </tr>\n",
       "  </tbody>\n",
       "</table>\n",
       "</div>"
      ],
      "text/plain": [
       "      mpg  cylinders  displacement  horsepower  weight  acceleration  \\\n",
       "257  19.4          8         318.0       140.0    3735          13.2   \n",
       "258  20.2          8         302.0       139.0    3570          12.8   \n",
       "269  19.2          8         305.0       145.0    3425          13.2   \n",
       "305  23.0          8         350.0       125.0    3900          17.4   \n",
       "372  26.6          8         350.0       105.0    3725          19.0   \n",
       "\n",
       "     model year  origin                      car name  horsepowe  \n",
       "257          78       1                dodge diplomat      140.0  \n",
       "258          78       1          mercury monarch ghia      139.0  \n",
       "269          78       1  chevrolet monte carlo landau      145.0  \n",
       "305          79       1             cadillac eldorado      125.0  \n",
       "372          81       1         oldsmobile cutlass ls      105.0  "
      ]
     },
     "execution_count": 70,
     "metadata": {},
     "output_type": "execute_result"
    }
   ],
   "source": [
    "data[(data[\"displacement\"]>300)&(data[\"mpg\"]>19)]"
   ]
  },
  {
   "cell_type": "code",
   "execution_count": 90,
   "metadata": {},
   "outputs": [],
   "source": [
    "data_clean=data.drop([257, 258, 269, 269, 372, 395])"
   ]
  },
  {
   "cell_type": "code",
   "execution_count": 91,
   "metadata": {},
   "outputs": [
    {
     "name": "stderr",
     "output_type": "stream",
     "text": [
      "C:\\Users\\Golfa\\AppData\\Local\\Temp/ipykernel_8904/3198467693.py:3: FutureWarning: Support for multi-dimensional indexing (e.g. `obj[:, None]`) is deprecated and will be removed in a future version.  Convert to a numpy array before indexing instead.\n",
      "  x=x[:, np.newaxis]\n"
     ]
    },
    {
     "data": {
      "text/plain": [
       "LinearRegression()"
      ]
     },
     "execution_count": 91,
     "metadata": {},
     "output_type": "execute_result"
    }
   ],
   "source": [
    "lm=LinearRegression()\n",
    "x=data_clean[\"displacement\"].fillna(data_clean[\"displacement\"].mean())\n",
    "x=x[:, np.newaxis]\n",
    "#x=np.array(x).reshape(1,-1)\n",
    "y=data_clean[\"mpg\"].fillna(data_clean[\"mpg\"].mean())\n",
    "lm.fit(x, y)"
   ]
  },
  {
   "cell_type": "code",
   "execution_count": 93,
   "metadata": {},
   "outputs": [
    {
     "data": {
      "text/plain": [
       "(401, 401, 401)"
      ]
     },
     "execution_count": 93,
     "metadata": {},
     "output_type": "execute_result"
    }
   ],
   "source": [
    "len(x), len(y), len(lm.predict(x))"
   ]
  },
  {
   "cell_type": "code",
   "execution_count": 94,
   "metadata": {},
   "outputs": [
    {
     "data": {
      "text/plain": [
       "[<matplotlib.lines.Line2D at 0x17f73a16760>]"
      ]
     },
     "execution_count": 94,
     "metadata": {},
     "output_type": "execute_result"
    },
    {
     "data": {
      "image/png": "[encoded data removed]",
      "text/plain": [
       "<Figure size 432x288 with 1 Axes>"
      ]
     },
     "metadata": {
      "needs_background": "light"
     },
     "output_type": "display_data"
    }
   ],
   "source": [
    "%matplotlib inline\n",
    "plt.plot(x, y, \"ro\")\n",
    "plt.plot(x, lm.predict(x))"
   ]
  },
  {
   "cell_type": "code",
   "execution_count": 95,
   "metadata": {},
   "outputs": [
    {
     "data": {
      "text/plain": [
       "0.6435332913181223"
      ]
     },
     "execution_count": 95,
     "metadata": {},
     "output_type": "execute_result"
    }
   ],
   "source": [
    "lm.score(x,y)"
   ]
  },
  {
   "cell_type": "markdown",
   "metadata": {},
   "source": [
    "## Cualquiera que se salga del intercuartilíco o por encima del tercero es outlayer"
   ]
  },
  {
   "cell_type": "markdown",
   "metadata": {},
   "source": []
  }
 ],
 "metadata": {
  "interpreter": {
   "hash": "f8f936827f1edea7efad5da8792d36848d8bfd624d975ca3dc1fc90e577ba496"
  },
  "kernelspec": {
   "display_name": "Python 3.9.7 ('base')",
   "language": "python",
   "name": "python3"
  },
  "language_info": {
   "codemirror_mode": {
    "name": "ipython",
    "version": 3
   },
   "file_extension": ".py",
   "mimetype": "text/x-python",
   "name": "python",
   "nbconvert_exporter": "python",
   "pygments_lexer": "ipython3",
   "version": "3.9.7"
  },
  "orig_nbformat": 4
 },
 "nbformat": 4,
 "nbformat_minor": 2
}
