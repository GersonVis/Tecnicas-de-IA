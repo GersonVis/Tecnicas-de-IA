{
 "cells": [
  {
   "cell_type": "markdown",
   "metadata": {},
   "source": [
    "# NUMPY"
   ]
  },
  {
   "cell_type": "markdown",
   "metadata": {},
   "source": [
    "## Arreglos"
   ]
  },
  {
   "cell_type": "code",
   "execution_count": 1,
   "metadata": {},
   "outputs": [],
   "source": [
    "## Importar numpy\n",
    "import numpy as np"
   ]
  },
  {
   "cell_type": "code",
   "execution_count": 2,
   "metadata": {},
   "outputs": [
    {
     "data": {
      "text/plain": [
       "array([1, 2, 4, 5])"
      ]
     },
     "execution_count": 2,
     "metadata": {},
     "output_type": "execute_result"
    }
   ],
   "source": [
    "## crear un arreglo de numeros enteros\n",
    "array=np.array([1,2,4,5])\n",
    "array"
   ]
  },
  {
   "cell_type": "code",
   "execution_count": 3,
   "metadata": {},
   "outputs": [
    {
     "data": {
      "text/plain": [
       "numpy.ndarray"
      ]
     },
     "execution_count": 3,
     "metadata": {},
     "output_type": "execute_result"
    }
   ],
   "source": [
    "## saber el tipo de dato del array\n",
    "type(array)"
   ]
  },
  {
   "cell_type": "code",
   "execution_count": 4,
   "metadata": {},
   "outputs": [
    {
     "data": {
      "text/plain": [
       "4"
      ]
     },
     "execution_count": 4,
     "metadata": {},
     "output_type": "execute_result"
    }
   ],
   "source": [
    "## saber el tamaño del arreglo\n",
    "array.size"
   ]
  },
  {
   "cell_type": "code",
   "execution_count": 5,
   "metadata": {},
   "outputs": [
    {
     "data": {
      "text/plain": [
       "1"
      ]
     },
     "execution_count": 5,
     "metadata": {},
     "output_type": "execute_result"
    }
   ],
   "source": [
    "## saber el numero de dimensiones\n",
    "array.ndim"
   ]
  },
  {
   "cell_type": "code",
   "execution_count": 6,
   "metadata": {},
   "outputs": [
    {
     "data": {
      "text/plain": [
       "dtype('int32')"
      ]
     },
     "execution_count": 6,
     "metadata": {},
     "output_type": "execute_result"
    }
   ],
   "source": [
    "## conocer el tipo de dato contenido en el array\n",
    "array.dtype"
   ]
  },
  {
   "cell_type": "code",
   "execution_count": 7,
   "metadata": {},
   "outputs": [
    {
     "data": {
      "text/plain": [
       "(4,)"
      ]
     },
     "execution_count": 7,
     "metadata": {},
     "output_type": "execute_result"
    }
   ],
   "source": [
    "## conocer la cantidad de elementos por dimension\n",
    "array.shape"
   ]
  },
  {
   "cell_type": "code",
   "execution_count": 8,
   "metadata": {},
   "outputs": [],
   "source": [
    "## practica\n",
    "## crear un arreglo\n",
    "nombres_personas=np.array([\"gerson\", \"juan\", \"fernando\"])"
   ]
  },
  {
   "cell_type": "code",
   "execution_count": 9,
   "metadata": {},
   "outputs": [
    {
     "data": {
      "text/plain": [
       "dtype('<U8')"
      ]
     },
     "execution_count": 9,
     "metadata": {},
     "output_type": "execute_result"
    }
   ],
   "source": [
    "## saber los tipos de datos contenidos\n",
    "nombres_personas.dtype"
   ]
  },
  {
   "cell_type": "code",
   "execution_count": 10,
   "metadata": {},
   "outputs": [
    {
     "data": {
      "text/plain": [
       "1"
      ]
     },
     "execution_count": 10,
     "metadata": {},
     "output_type": "execute_result"
    }
   ],
   "source": [
    "## saber las dimensiones del array\n",
    "nombres_personas.ndim"
   ]
  },
  {
   "cell_type": "code",
   "execution_count": 11,
   "metadata": {},
   "outputs": [
    {
     "data": {
      "text/plain": [
       "(3,)"
      ]
     },
     "execution_count": 11,
     "metadata": {},
     "output_type": "execute_result"
    }
   ],
   "source": [
    "## saber la cantidad de elementos por dimension\n",
    "nombres_personas.shape"
   ]
  },
  {
   "cell_type": "code",
   "execution_count": 12,
   "metadata": {},
   "outputs": [],
   "source": [
    "## practicas rapidas\n",
    "cosas=np.array([[1,2,3,4],  [1,1,1,1], [\"a\", \"a\", \"b\", \"c\"]])"
   ]
  },
  {
   "cell_type": "code",
   "execution_count": 13,
   "metadata": {},
   "outputs": [
    {
     "data": {
      "text/plain": [
       "2"
      ]
     },
     "execution_count": 13,
     "metadata": {},
     "output_type": "execute_result"
    }
   ],
   "source": [
    "cosas.ndim"
   ]
  },
  {
   "cell_type": "code",
   "execution_count": 14,
   "metadata": {},
   "outputs": [
    {
     "data": {
      "text/plain": [
       "dtype('<U11')"
      ]
     },
     "execution_count": 14,
     "metadata": {},
     "output_type": "execute_result"
    }
   ],
   "source": [
    "cosas.dtype"
   ]
  },
  {
   "cell_type": "code",
   "execution_count": 15,
   "metadata": {},
   "outputs": [
    {
     "data": {
      "text/plain": [
       "(3, 4)"
      ]
     },
     "execution_count": 15,
     "metadata": {},
     "output_type": "execute_result"
    }
   ],
   "source": [
    "cosas.shape"
   ]
  },
  {
   "cell_type": "markdown",
   "metadata": {},
   "source": [
    "## Operaciones"
   ]
  },
  {
   "cell_type": "code",
   "execution_count": 16,
   "metadata": {},
   "outputs": [
    {
     "data": {
      "text/plain": [
       "array([3, 1, 9, 8, 6])"
      ]
     },
     "execution_count": 16,
     "metadata": {},
     "output_type": "execute_result"
    }
   ],
   "source": [
    "## crear un arreglo de 5 numeros aletorios, entre el 0 y 10 \n",
    "array=np.random.randint(0,10, 5, int)\n",
    "array"
   ]
  },
  {
   "cell_type": "code",
   "execution_count": 17,
   "metadata": {},
   "outputs": [
    {
     "data": {
      "text/plain": [
       "array([ 8,  6, 14, 13, 11])"
      ]
     },
     "execution_count": 17,
     "metadata": {},
     "output_type": "execute_result"
    }
   ],
   "source": [
    "## sumar 5 a cada elemento del array\n",
    "array_con_suma=array+5\n",
    "array_con_suma"
   ]
  },
  {
   "cell_type": "code",
   "execution_count": 18,
   "metadata": {},
   "outputs": [
    {
     "data": {
      "text/plain": [
       "array([ 6,  2, 18, 16, 12])"
      ]
     },
     "execution_count": 18,
     "metadata": {},
     "output_type": "execute_result"
    }
   ],
   "source": [
    "## multiplicar por dos cada elemento del array\n",
    "array_multiplicado=array*2\n",
    "array_multiplicado"
   ]
  },
  {
   "cell_type": "code",
   "execution_count": 19,
   "metadata": {},
   "outputs": [
    {
     "data": {
      "text/plain": [
       "array([1.        , 0.33333333, 3.        , 2.66666667, 2.        ])"
      ]
     },
     "execution_count": 19,
     "metadata": {},
     "output_type": "execute_result"
    }
   ],
   "source": [
    "## dividir entre tres cada elemento del array\n",
    "array_dividido=array/3\n",
    "array_dividido"
   ]
  },
  {
   "cell_type": "code",
   "execution_count": 20,
   "metadata": {},
   "outputs": [
    {
     "data": {
      "text/plain": [
       "array([15,  5, 45, 40, 30])"
      ]
     },
     "execution_count": 20,
     "metadata": {},
     "output_type": "execute_result"
    }
   ],
   "source": [
    "## multiplicar contenido de un array por 10\n",
    "array_multiplicacion=array*5\n",
    "array_multiplicacion"
   ]
  },
  {
   "cell_type": "markdown",
   "metadata": {},
   "source": [
    "## Tipos de datos"
   ]
  },
  {
   "cell_type": "code",
   "execution_count": 21,
   "metadata": {},
   "outputs": [],
   "source": [
    "## para cambiar el tipo de dato que almacena cada array se puede utilizar la palabra reservada dtype\n",
    "## sintaxis: nombre_variable=numy.array([elementos], dtype=numpy.tipo_de_dato)\n",
    "## ejemplos"
   ]
  },
  {
   "cell_type": "code",
   "execution_count": 22,
   "metadata": {},
   "outputs": [
    {
     "data": {
      "text/plain": [
       "array([ 1,  2,  4,  5, 67])"
      ]
     },
     "execution_count": 22,
     "metadata": {},
     "output_type": "execute_result"
    }
   ],
   "source": [
    "## array que almacené enteros\n",
    "array_de_enteros=np.array([1,2,4,5,67], dtype=np.int)\n",
    "array_de_enteros"
   ]
  },
  {
   "cell_type": "code",
   "execution_count": 23,
   "metadata": {},
   "outputs": [
    {
     "data": {
      "text/plain": [
       "array([False,  True, False,  True])"
      ]
     },
     "execution_count": 23,
     "metadata": {},
     "output_type": "execute_result"
    }
   ],
   "source": [
    "## array de elementos booleanos, solo los 0 son convertidos en falso\n",
    "array_de_booleanos=np.array([0,1,0,1], dtype=np.bool)\n",
    "array_de_booleanos"
   ]
  },
  {
   "cell_type": "code",
   "execution_count": 24,
   "metadata": {},
   "outputs": [
    {
     "data": {
      "text/plain": [
       "array([2.+0.j, 3.+0.j, 2.+0.j, 3.+0.j, 4.+0.j])"
      ]
     },
     "execution_count": 24,
     "metadata": {},
     "output_type": "execute_result"
    }
   ],
   "source": [
    "## array de números complejos\n",
    "array_de_complejos=np.array([2,3,2,3,4], dtype=np.complex)\n",
    "array_de_complejos"
   ]
  },
  {
   "cell_type": "code",
   "execution_count": 25,
   "metadata": {},
   "outputs": [
    {
     "data": {
      "text/plain": [
       "array(['4', '3', '2', '3'], dtype='<U1')"
      ]
     },
     "execution_count": 25,
     "metadata": {},
     "output_type": "execute_result"
    }
   ],
   "source": [
    "## array de strings\n",
    "array_de_strings=np.array([4,3,2,3], dtype=np.str)\n",
    "array_de_strings"
   ]
  },
  {
   "cell_type": "code",
   "execution_count": 26,
   "metadata": {},
   "outputs": [
    {
     "data": {
      "text/plain": [
       "array([2., 3., 3., 3.])"
      ]
     },
     "execution_count": 26,
     "metadata": {},
     "output_type": "execute_result"
    }
   ],
   "source": [
    "## array de numeros flotantes\n",
    "array_de_flotantes=np.array([2,3,3,3], dtype=np.float)\n",
    "array_de_flotantes"
   ]
  },
  {
   "cell_type": "code",
   "execution_count": 27,
   "metadata": {},
   "outputs": [
    {
     "data": {
      "text/plain": [
       "array([ 3, 12, 15, 12, 12,  3,  7,  2,  2, 11,  1,  1, 16, 19, 18, 11,  8,\n",
       "       10, 14, 10])"
      ]
     },
     "execution_count": 27,
     "metadata": {},
     "output_type": "execute_result"
    }
   ],
   "source": [
    "## array random con tipo de dato entero\n",
    "array_random_entero=np.array(np.random.rand(20)*20, dtype=np.int)\n",
    "array_random_entero"
   ]
  },
  {
   "cell_type": "code",
   "execution_count": 28,
   "metadata": {},
   "outputs": [
    {
     "data": {
      "text/plain": [
       "array([96, 78, 56, 49, 73, 76, 35, 88, 51, 43, 63, 54, 77, 74, 13,  2, 28,\n",
       "       78, 91,  0])"
      ]
     },
     "execution_count": 28,
     "metadata": {},
     "output_type": "execute_result"
    }
   ],
   "source": [
    "## array de números aleatorios usando numpy\n",
    "array_random_numpy=np.random.randint(0,100, 20, int)\n",
    "array_random_numpy"
   ]
  },
  {
   "cell_type": "code",
   "execution_count": 29,
   "metadata": {},
   "outputs": [
    {
     "data": {
      "text/plain": [
       "array([ 0.,  5., 10., 15., 20., 25., 30., 35., 40., 45., 50., 55., 60.,\n",
       "       65., 70., 75., 80., 85., 90., 95.])"
      ]
     },
     "execution_count": 29,
     "metadata": {},
     "output_type": "execute_result"
    }
   ],
   "source": [
    "## crear numeros aleatorios de acuerdo a un rango \n",
    "## sintaxis: numpy.arange(rango_inicio, rango_final, incremento, dtype=tipo_de_dato)\n",
    "## ejemplo:\n",
    "np.arange(0,100, 5, dtype=np.float)"
   ]
  },
  {
   "cell_type": "code",
   "execution_count": 30,
   "metadata": {},
   "outputs": [],
   "source": [
    "## otros ejemplos"
   ]
  },
  {
   "cell_type": "code",
   "execution_count": 31,
   "metadata": {},
   "outputs": [
    {
     "data": {
      "text/plain": [
       "array([40, 38, 36, 34, 32, 30, 28, 26, 24, 22, 20, 18, 16, 14, 12])"
      ]
     },
     "execution_count": 31,
     "metadata": {},
     "output_type": "execute_result"
    }
   ],
   "source": [
    "np.arange(40, 10, -2)"
   ]
  },
  {
   "cell_type": "code",
   "execution_count": 32,
   "metadata": {},
   "outputs": [
    {
     "data": {
      "text/plain": [
       "array([], dtype=int32)"
      ]
     },
     "execution_count": 32,
     "metadata": {},
     "output_type": "execute_result"
    }
   ],
   "source": [
    "np.arange(100, 10)"
   ]
  },
  {
   "cell_type": "code",
   "execution_count": 33,
   "metadata": {},
   "outputs": [
    {
     "data": {
      "text/plain": [
       "array([100.+0.j, 104.+0.j, 108.+0.j, 112.+0.j, 116.+0.j])"
      ]
     },
     "execution_count": 33,
     "metadata": {},
     "output_type": "execute_result"
    }
   ],
   "source": [
    "np.arange(100, 120, 4, dtype=np.complex)"
   ]
  },
  {
   "cell_type": "code",
   "execution_count": 34,
   "metadata": {},
   "outputs": [
    {
     "data": {
      "text/plain": [
       "array([], dtype=int32)"
      ]
     },
     "execution_count": 34,
     "metadata": {},
     "output_type": "execute_result"
    }
   ],
   "source": [
    "np.arange(20,20, 2)"
   ]
  },
  {
   "cell_type": "code",
   "execution_count": 35,
   "metadata": {},
   "outputs": [
    {
     "data": {
      "text/plain": [
       "array([0., 0., 0., 0., 0., 0., 0., 0., 0., 0., 0., 0., 0., 0., 0., 0., 0.,\n",
       "       0., 0., 0., 0., 0., 0., 0., 0., 0., 0., 0., 0., 0.])"
      ]
     },
     "execution_count": 35,
     "metadata": {},
     "output_type": "execute_result"
    }
   ],
   "source": [
    "## crear array con ceros\n",
    "## sintaxis: numpy.zeros(numero_de_ceros, dtype=tipo_de_dato)\n",
    "## ejemplo:\n",
    "np.zeros(30)"
   ]
  },
  {
   "cell_type": "code",
   "execution_count": 36,
   "metadata": {},
   "outputs": [],
   "source": [
    "## Otros ejemplos"
   ]
  },
  {
   "cell_type": "code",
   "execution_count": 37,
   "metadata": {},
   "outputs": [
    {
     "data": {
      "text/plain": [
       "array([0, 0, 0, 0, 0, 0, 0, 0, 0, 0, 0, 0, 0, 0, 0, 0, 0, 0, 0, 0])"
      ]
     },
     "execution_count": 37,
     "metadata": {},
     "output_type": "execute_result"
    }
   ],
   "source": [
    "np.zeros(20, dtype=np.int)"
   ]
  },
  {
   "cell_type": "code",
   "execution_count": 38,
   "metadata": {},
   "outputs": [
    {
     "data": {
      "text/plain": [
       "array([1., 1., 1., 1., 1., 1., 1., 1., 1., 1., 1., 1., 1., 1., 1., 1., 1.,\n",
       "       1., 1., 1., 1., 1., 1., 1., 1., 1., 1., 1., 1., 1.])"
      ]
     },
     "execution_count": 38,
     "metadata": {},
     "output_type": "execute_result"
    }
   ],
   "source": [
    "## relenar un array con unos\n",
    "## sintaxis: numpy.ones(numero_de_elementos, dtype=numpy.tipo_de_dato)\n",
    "## ejemplo:\n",
    "np.ones(30)"
   ]
  },
  {
   "cell_type": "code",
   "execution_count": 39,
   "metadata": {},
   "outputs": [],
   "source": [
    "## otros ejemplos"
   ]
  },
  {
   "cell_type": "code",
   "execution_count": 40,
   "metadata": {},
   "outputs": [
    {
     "data": {
      "text/plain": [
       "array([1, 1, 1, 1, 1, 1, 1, 1, 1, 1, 1, 1, 1, 1, 1, 1, 1, 1, 1, 1, 1, 1,\n",
       "       1, 1, 1, 1, 1, 1, 1, 1, 1, 1, 1, 1, 1, 1, 1, 1, 1, 1])"
      ]
     },
     "execution_count": 40,
     "metadata": {},
     "output_type": "execute_result"
    }
   ],
   "source": [
    "np.ones(40, dtype=np.int)"
   ]
  },
  {
   "cell_type": "code",
   "execution_count": 41,
   "metadata": {},
   "outputs": [
    {
     "ename": "ValueError",
     "evalue": "negative dimensions are not allowed",
     "output_type": "error",
     "traceback": [
      "\u001b[1;31m---------------------------------------------------------------------------\u001b[0m",
      "\u001b[1;31mValueError\u001b[0m                                Traceback (most recent call last)",
      "\u001b[1;32m~\\AppData\\Local\\Temp\\ipykernel_5052\\2116729467.py\u001b[0m in \u001b[0;36m<module>\u001b[1;34m\u001b[0m\n\u001b[1;32m----> 1\u001b[1;33m \u001b[0mnp\u001b[0m\u001b[1;33m.\u001b[0m\u001b[0mones\u001b[0m\u001b[1;33m(\u001b[0m\u001b[1;33m-\u001b[0m\u001b[1;36m20\u001b[0m\u001b[1;33m,\u001b[0m \u001b[0mdtype\u001b[0m\u001b[1;33m=\u001b[0m\u001b[0mnp\u001b[0m\u001b[1;33m.\u001b[0m\u001b[0mstr\u001b[0m\u001b[1;33m)\u001b[0m\u001b[1;33m\u001b[0m\u001b[1;33m\u001b[0m\u001b[0m\n\u001b[0m",
      "\u001b[1;32mc:\\Users\\Golfa\\AppData\\Local\\Programs\\Python\\Python37\\lib\\site-packages\\numpy\\core\\numeric.py\u001b[0m in \u001b[0;36mones\u001b[1;34m(shape, dtype, order)\u001b[0m\n\u001b[0;32m    190\u001b[0m \u001b[1;33m\u001b[0m\u001b[0m\n\u001b[0;32m    191\u001b[0m     \"\"\"\n\u001b[1;32m--> 192\u001b[1;33m     \u001b[0ma\u001b[0m \u001b[1;33m=\u001b[0m \u001b[0mempty\u001b[0m\u001b[1;33m(\u001b[0m\u001b[0mshape\u001b[0m\u001b[1;33m,\u001b[0m \u001b[0mdtype\u001b[0m\u001b[1;33m,\u001b[0m \u001b[0morder\u001b[0m\u001b[1;33m)\u001b[0m\u001b[1;33m\u001b[0m\u001b[1;33m\u001b[0m\u001b[0m\n\u001b[0m\u001b[0;32m    193\u001b[0m     \u001b[0mmultiarray\u001b[0m\u001b[1;33m.\u001b[0m\u001b[0mcopyto\u001b[0m\u001b[1;33m(\u001b[0m\u001b[0ma\u001b[0m\u001b[1;33m,\u001b[0m \u001b[1;36m1\u001b[0m\u001b[1;33m,\u001b[0m \u001b[0mcasting\u001b[0m\u001b[1;33m=\u001b[0m\u001b[1;34m'unsafe'\u001b[0m\u001b[1;33m)\u001b[0m\u001b[1;33m\u001b[0m\u001b[1;33m\u001b[0m\u001b[0m\n\u001b[0;32m    194\u001b[0m     \u001b[1;32mreturn\u001b[0m \u001b[0ma\u001b[0m\u001b[1;33m\u001b[0m\u001b[1;33m\u001b[0m\u001b[0m\n",
      "\u001b[1;31mValueError\u001b[0m: negative dimensions are not allowed"
     ]
    }
   ],
   "source": [
    "np.ones(-20, dtype=np.str)"
   ]
  },
  {
   "cell_type": "code",
   "execution_count": null,
   "metadata": {},
   "outputs": [
    {
     "data": {
      "text/plain": [
       "array([1.69109959e-306, 1.86921415e-306, 4.45057637e-308, 1.42419530e-306,\n",
       "       7.56603881e-307, 9.34598925e-307, 1.60220393e-306, 1.11255866e-306,\n",
       "       8.90098127e-307, 7.56603881e-307, 7.56599807e-307, 9.34607074e-307,\n",
       "       1.11260416e-306, 8.90051274e-307, 9.34598925e-307, 1.37961913e-306,\n",
       "       1.37961438e-306, 4.45057637e-308, 1.20160711e-306, 3.75602390e-317])"
      ]
     },
     "execution_count": 145,
     "metadata": {},
     "output_type": "execute_result"
    }
   ],
   "source": [
    "## crear un array con numeros cualesquiera\n",
    "## sintaxis numpy.empty(cantidad_de_elementos, dtype=np.tipo_de_dato)\n",
    "## ejemplo:\n",
    "np.empty(20)"
   ]
  },
  {
   "cell_type": "code",
   "execution_count": null,
   "metadata": {},
   "outputs": [
    {
     "data": {
      "text/plain": [
       "array([1061798576,        713,          0,    5570652,        704,\n",
       "                0,        768,        713,    6357094,          0])"
      ]
     },
     "execution_count": 153,
     "metadata": {},
     "output_type": "execute_result"
    }
   ],
   "source": [
    "np.empty(10, dtype=np.int)"
   ]
  },
  {
   "cell_type": "code",
   "execution_count": null,
   "metadata": {},
   "outputs": [
    {
     "data": {
      "text/plain": [
       "array([95, 44, 55, 96, 41, 33, 42, 24, 88,  3])"
      ]
     },
     "execution_count": 158,
     "metadata": {},
     "output_type": "execute_result"
    }
   ],
   "source": [
    "## crear un arreglo de números enteros aleatorios\n",
    "## sintaxis: numpy.random.randint(inicio_del_rango, final_del_rango, numero_de_elementos, tipo)\n",
    "## ejemplo:\n",
    "np.random.randint(0, 100, 10)"
   ]
  },
  {
   "cell_type": "code",
   "execution_count": null,
   "metadata": {},
   "outputs": [
    {
     "data": {
      "text/plain": [
       "array([12, 16, 11, 10, 12])"
      ]
     },
     "execution_count": 163,
     "metadata": {},
     "output_type": "execute_result"
    }
   ],
   "source": [
    "np.random.randint(10,20,5)"
   ]
  },
  {
   "cell_type": "markdown",
   "metadata": {},
   "source": [
    "## Obtener y actualizar elementos"
   ]
  },
  {
   "cell_type": "code",
   "execution_count": null,
   "metadata": {},
   "outputs": [
    {
     "data": {
      "text/plain": [
       "array([9, 4, 6, 9, 9, 4, 2, 9, 0, 1])"
      ]
     },
     "execution_count": 165,
     "metadata": {},
     "output_type": "execute_result"
    }
   ],
   "source": [
    "## creamos un array para usar\n",
    "array=np.random.randint(0,10, 10)\n",
    "array"
   ]
  },
  {
   "cell_type": "code",
   "execution_count": null,
   "metadata": {},
   "outputs": [
    {
     "data": {
      "text/plain": [
       "4"
      ]
     },
     "execution_count": 166,
     "metadata": {},
     "output_type": "execute_result"
    }
   ],
   "source": [
    "## obtener el elemento de la posicion 5\n",
    "array[5]"
   ]
  },
  {
   "cell_type": "code",
   "execution_count": null,
   "metadata": {},
   "outputs": [
    {
     "data": {
      "text/plain": [
       "array([  9,   4,   6,   9,   9, 100,   2,   9,   0,   1])"
      ]
     },
     "execution_count": 171,
     "metadata": {},
     "output_type": "execute_result"
    }
   ],
   "source": [
    "## cambiar el elemento de la posicion 5\n",
    "array[5]=100\n",
    "array"
   ]
  },
  {
   "cell_type": "markdown",
   "metadata": {},
   "source": [
    "## SubArreglos"
   ]
  },
  {
   "cell_type": "code",
   "execution_count": null,
   "metadata": {},
   "outputs": [
    {
     "data": {
      "text/plain": [
       "array([ 0,  1,  2,  3,  4,  5,  6,  7,  8,  9, 10, 11, 12, 13, 14, 15, 16,\n",
       "       17, 18, 19])"
      ]
     },
     "execution_count": 232,
     "metadata": {},
     "output_type": "execute_result"
    }
   ],
   "source": [
    "## arreglo para las pruebas\n",
    "array=np.arange(0,20)\n",
    "array"
   ]
  },
  {
   "cell_type": "code",
   "execution_count": null,
   "metadata": {},
   "outputs": [
    {
     "data": {
      "text/plain": [
       "array([1, 2, 3, 4, 5, 6, 7])"
      ]
     },
     "execution_count": 233,
     "metadata": {},
     "output_type": "execute_result"
    }
   ],
   "source": [
    "## obtener el sub array de la posicion 1 a la 8\n",
    "sub_array_1_8=array[1:8]\n",
    "sub_array_1_8"
   ]
  },
  {
   "cell_type": "code",
   "execution_count": null,
   "metadata": {},
   "outputs": [
    {
     "data": {
      "text/plain": [
       "array([ 0,  2,  4,  6,  8, 10, 12, 14, 16, 18])"
      ]
     },
     "execution_count": 235,
     "metadata": {},
     "output_type": "execute_result"
    }
   ],
   "source": [
    "## obtener sub array salteado\n",
    "sub_array_salteado=array[::2]\n",
    "sub_array_salteado"
   ]
  },
  {
   "cell_type": "code",
   "execution_count": null,
   "metadata": {},
   "outputs": [
    {
     "data": {
      "text/plain": [
       "array([ 5,  6,  7,  8,  9, 10, 11, 12, 13, 14, 15, 16, 17, 18, 19])"
      ]
     },
     "execution_count": 238,
     "metadata": {},
     "output_type": "execute_result"
    }
   ],
   "source": [
    "##obtener el sub array que empiece en la posicion 5\n",
    "array_inicio_5=array[5:]\n",
    "array_inicio_5"
   ]
  },
  {
   "cell_type": "code",
   "execution_count": null,
   "metadata": {},
   "outputs": [
    {
     "data": {
      "text/plain": [
       "array([0, 1, 2, 3, 4, 5, 6, 7])"
      ]
     },
     "execution_count": 240,
     "metadata": {},
     "output_type": "execute_result"
    }
   ],
   "source": [
    "## array que termine en la poscion 8\n",
    "array_final_posicion_8=array[:8]\n",
    "array_final_posicion_8"
   ]
  },
  {
   "cell_type": "code",
   "execution_count": null,
   "metadata": {},
   "outputs": [
    {
     "data": {
      "text/plain": [
       "array([2, 4, 6])"
      ]
     },
     "execution_count": 241,
     "metadata": {},
     "output_type": "execute_result"
    }
   ],
   "source": [
    "## array con posiciones especificadas\n",
    "array_posiciones_especificadas=array[[2,4,6]]\n",
    "array_posiciones_especificadas"
   ]
  },
  {
   "cell_type": "code",
   "execution_count": null,
   "metadata": {},
   "outputs": [
    {
     "ename": "IndexError",
     "evalue": "boolean index did not match indexed array along dimension 0; dimension is 20 but corresponding boolean dimension is 5",
     "output_type": "error",
     "traceback": [
      "\u001b[1;31m---------------------------------------------------------------------------\u001b[0m",
      "\u001b[1;31mIndexError\u001b[0m                                Traceback (most recent call last)",
      "\u001b[1;32m~\\AppData\\Local\\Temp\\ipykernel_15636\\2467849481.py\u001b[0m in \u001b[0;36m<module>\u001b[1;34m\u001b[0m\n\u001b[0;32m      1\u001b[0m \u001b[1;31m## array con booleanos\u001b[0m\u001b[1;33m\u001b[0m\u001b[1;33m\u001b[0m\u001b[1;33m\u001b[0m\u001b[0m\n\u001b[1;32m----> 2\u001b[1;33m \u001b[0marray_con_booleanos\u001b[0m\u001b[1;33m=\u001b[0m\u001b[0marray\u001b[0m\u001b[1;33m[\u001b[0m\u001b[1;33m[\u001b[0m\u001b[1;32mTrue\u001b[0m\u001b[1;33m,\u001b[0m \u001b[1;32mFalse\u001b[0m\u001b[1;33m,\u001b[0m \u001b[1;32mTrue\u001b[0m\u001b[1;33m,\u001b[0m \u001b[1;32mFalse\u001b[0m\u001b[1;33m,\u001b[0m \u001b[1;32mTrue\u001b[0m\u001b[1;33m]\u001b[0m\u001b[1;33m]\u001b[0m\u001b[1;33m\u001b[0m\u001b[1;33m\u001b[0m\u001b[0m\n\u001b[0m\u001b[0;32m      3\u001b[0m \u001b[0marray_con_booleanos\u001b[0m\u001b[1;33m\u001b[0m\u001b[1;33m\u001b[0m\u001b[0m\n",
      "\u001b[1;31mIndexError\u001b[0m: boolean index did not match indexed array along dimension 0; dimension is 20 but corresponding boolean dimension is 5"
     ]
    }
   ],
   "source": [
    "## array con booleanos\n",
    "array_con_booleanos=array[[True, False, True, False, True]]\n",
    "array_con_booleanos"
   ]
  },
  {
   "cell_type": "code",
   "execution_count": null,
   "metadata": {},
   "outputs": [],
   "source": [
    "## practicas"
   ]
  },
  {
   "cell_type": "code",
   "execution_count": null,
   "metadata": {},
   "outputs": [
    {
     "data": {
      "text/plain": [
       "array([7.56599807e-307, 9.34607074e-307, 1.11260416e-306, 8.90051274e-307,\n",
       "       9.34598925e-307, 1.37961913e-306, 1.37961438e-306, 4.45057637e-308,\n",
       "       1.20160711e-306, 3.75602390e-317])"
      ]
     },
     "execution_count": 259,
     "metadata": {},
     "output_type": "execute_result"
    }
   ],
   "source": [
    "## crear un array de números basura y dividir en dos\n",
    "array_basura=np.empty(20)\n",
    "array_basura[:int(array_basura.size/2)]\n",
    "array_basura[int(array_basura.size/2):]\n"
   ]
  },
  {
   "cell_type": "markdown",
   "metadata": {},
   "source": [
    "## Vectorizar funciones"
   ]
  },
  {
   "cell_type": "code",
   "execution_count": null,
   "metadata": {},
   "outputs": [],
   "source": [
    "## usar funciones con los datos de un array y obtener un resultado por cada elemento del array pasado por la funcion\n",
    "## tambien podemos usar lambda\n",
    "## sintaxis: almacenamiento_funcion=numpy.vectoruze(funcion)\n",
    "## alamacenamiento_funcion(array_entrada)\n",
    "## Ejemplo:\n",
    "## creamos una funcion:\n",
    "def es_par(valor):\n",
    "    return valor%2==0\n",
    "## crear un almacenamiento para la función\n",
    "saber_pares=np.vectorize(es_par)\n"
   ]
  },
  {
   "cell_type": "code",
   "execution_count": null,
   "metadata": {},
   "outputs": [
    {
     "data": {
      "text/plain": [
       "array([50, 51, 52, 53, 54, 55, 56, 57, 58, 59, 60, 61, 62, 63, 64, 65, 66,\n",
       "       67, 68, 69, 70, 71, 72, 73, 74, 75, 76, 77, 78, 79])"
      ]
     },
     "execution_count": 264,
     "metadata": {},
     "output_type": "execute_result"
    }
   ],
   "source": [
    "## creamos un array, entre el 50 y 80\n",
    "array_comprobar=np.arange(50,80)\n",
    "array_comprobar\n"
   ]
  },
  {
   "cell_type": "code",
   "execution_count": null,
   "metadata": {},
   "outputs": [
    {
     "data": {
      "text/plain": [
       "array([ True, False,  True, False,  True, False,  True, False,  True,\n",
       "       False,  True, False,  True, False,  True, False,  True, False,\n",
       "        True, False,  True, False,  True, False,  True, False,  True,\n",
       "       False,  True, False])"
      ]
     },
     "execution_count": 267,
     "metadata": {},
     "output_type": "execute_result"
    }
   ],
   "source": [
    "## array cuales son pares\n",
    "array_pares=saber_pares(array_comprobar)\n",
    "array_pares"
   ]
  },
  {
   "cell_type": "code",
   "execution_count": null,
   "metadata": {},
   "outputs": [],
   "source": [
    "## lo mismo pero con lambda\n",
    "lambda_es_par=lambda valor:valor%2==0\n",
    "saber_pares=np.vectorize(lambda_es_par)"
   ]
  },
  {
   "cell_type": "code",
   "execution_count": null,
   "metadata": {},
   "outputs": [
    {
     "data": {
      "text/plain": [
       "array([49, 86, 61,  0, 71, 19, 44, 59, 16,  9, 61, 83,  8,  9,  6, 43, 33,\n",
       "       59, 19, 53])"
      ]
     },
     "execution_count": 271,
     "metadata": {},
     "output_type": "execute_result"
    }
   ],
   "source": [
    "## crear array aleatorio de 20 elementos\n",
    "array_de_20=np.random.randint(0,100, 20)\n",
    "array_de_20\n"
   ]
  },
  {
   "cell_type": "code",
   "execution_count": null,
   "metadata": {},
   "outputs": [
    {
     "data": {
      "text/plain": [
       "array([False,  True, False,  True, False, False,  True, False,  True,\n",
       "       False, False, False,  True, False,  True, False, False, False,\n",
       "       False, False])"
      ]
     },
     "execution_count": 272,
     "metadata": {},
     "output_type": "execute_result"
    }
   ],
   "source": [
    "## array con true o falso si es par\n",
    "saber_pares(array_de_20)"
   ]
  },
  {
   "cell_type": "markdown",
   "metadata": {},
   "source": [
    "## Copias y vistas"
   ]
  },
  {
   "cell_type": "markdown",
   "metadata": {},
   "source": [
    "Copia, es un arreglo echo a base de otro, pero este no guarda ninguna referencia al arreglo original manteniendose independiente"
   ]
  },
  {
   "cell_type": "markdown",
   "metadata": {},
   "source": [
    "Vista, es arreglo que apunta a un arreglo original"
   ]
  },
  {
   "cell_type": "code",
   "execution_count": null,
   "metadata": {},
   "outputs": [
    {
     "data": {
      "text/plain": [
       "array([10, 13, 16, 19])"
      ]
     },
     "execution_count": 76,
     "metadata": {},
     "output_type": "execute_result"
    }
   ],
   "source": [
    "## crear un elemento base\n",
    "## array echo apartir de un rango del 10 al 20 con saltos de 3\n",
    "array_base=np.arange(10, 20, 3)\n",
    "array_base"
   ]
  },
  {
   "cell_type": "code",
   "execution_count": null,
   "metadata": {},
   "outputs": [
    {
     "data": {
      "text/plain": [
       "array([10, 13, 16, 19])"
      ]
     },
     "execution_count": 47,
     "metadata": {},
     "output_type": "execute_result"
    }
   ],
   "source": [
    "## creamos una copia del array\n",
    "array_copia=array_base.copy()\n",
    "array_copia"
   ]
  },
  {
   "cell_type": "code",
   "execution_count": null,
   "metadata": {},
   "outputs": [
    {
     "data": {
      "text/plain": [
       "False"
      ]
     },
     "execution_count": 48,
     "metadata": {},
     "output_type": "execute_result"
    }
   ],
   "source": [
    "## verificamos que no sean iguales\n",
    "array_copia is array_base"
   ]
  },
  {
   "cell_type": "code",
   "execution_count": null,
   "metadata": {},
   "outputs": [
    {
     "name": "stdout",
     "output_type": "stream",
     "text": [
      "2140694782960\n",
      "2140695156416\n"
     ]
    }
   ],
   "source": [
    "## verificamos los ids de cada uno de los arreglos\n",
    "print(id(array_base))\n",
    "print(id(array_copia))"
   ]
  },
  {
   "cell_type": "code",
   "execution_count": null,
   "metadata": {},
   "outputs": [
    {
     "data": {
      "text/plain": [
       "array(['anterior: 10 nuevo: 0.13729097284575598',\n",
       "       'anterior: 13 nuevo: 0.010407522041153916',\n",
       "       'anterior: 16 nuevo: 0.5501647375715655',\n",
       "       'anterior: 19 nuevo: 0.4315990473060467'], dtype='<U40')"
      ]
     },
     "execution_count": 55,
     "metadata": {},
     "output_type": "execute_result"
    }
   ],
   "source": [
    "## modificamos un array para ver que no tiene referencia al arreglo base\n",
    "cambiar = lambda valor: \"anterior: %s nuevo: %s\"%(valor, np.random.rand())\n",
    "arreglo_aplicar_funcion=np.vectorize(cambiar)\n",
    "arreglo_aplicar_funcion(array_base)"
   ]
  },
  {
   "cell_type": "code",
   "execution_count": null,
   "metadata": {},
   "outputs": [
    {
     "data": {
      "text/plain": [
       "array([10, 13, 16, 19])"
      ]
     },
     "execution_count": 62,
     "metadata": {},
     "output_type": "execute_result"
    }
   ],
   "source": [
    "## revisamos el contenido de la copia\n",
    "array_copia"
   ]
  },
  {
   "cell_type": "code",
   "execution_count": null,
   "metadata": {},
   "outputs": [
    {
     "data": {
      "text/plain": [
       "False"
      ]
     },
     "execution_count": 63,
     "metadata": {},
     "output_type": "execute_result"
    }
   ],
   "source": [
    "## revisamos que las bases sean diferentes\n",
    "array_base is array_copia.base"
   ]
  },
  {
   "cell_type": "code",
   "execution_count": null,
   "metadata": {},
   "outputs": [],
   "source": [
    "## crear dos vistas apartir de un array\n",
    "array_vista_a=array_base.view()\n",
    "array_vista_b=array_base.view()"
   ]
  },
  {
   "cell_type": "code",
   "execution_count": null,
   "metadata": {},
   "outputs": [
    {
     "name": "stdout",
     "output_type": "stream",
     "text": [
      "vistas sin modidicar\n",
      "[100  13  16  19]\n",
      "[100  13  16  19]\n",
      "arry base: [100  13  16  19]\n",
      "arry vista a: [100  13  16  19]\n",
      "arry vista b: [100  13  16  19]\n"
     ]
    }
   ],
   "source": [
    "## visualizamos las vistas y el array base creado\n",
    "print(\"vistas sin modidicar\")\n",
    "print(array_vista_a)\n",
    "print(array_vista_b)\n",
    "## modificamos la base para ver los cambios en las vistas\n",
    "## modificamos el primer elemento del array base\n",
    "array_base[0]=100\n",
    "print(\"arry base: \", end=\"\")\n",
    "print(array_base)\n",
    "print(\"arry vista a: \", end=\"\")\n",
    "print(array_vista_a)\n",
    "print(\"arry vista b: \", end=\"\")\n",
    "print(array_vista_b)"
   ]
  },
  {
   "cell_type": "code",
   "execution_count": null,
   "metadata": {},
   "outputs": [
    {
     "name": "stdout",
     "output_type": "stream",
     "text": [
      "[ 100 1000   16   19]\n",
      "[ 100 1000   16   19]\n"
     ]
    }
   ],
   "source": [
    "## otro cambio\n",
    "array_base[1]=1000\n",
    "## ver cambios\n",
    "print(array_vista_b)\n",
    "print(array_vista_a)"
   ]
  },
  {
   "cell_type": "code",
   "execution_count": null,
   "metadata": {},
   "outputs": [
    {
     "data": {
      "text/plain": [
       "True"
      ]
     },
     "execution_count": 92,
     "metadata": {},
     "output_type": "execute_result"
    }
   ],
   "source": [
    "## ver si la base es la misma\n",
    "array_base is array_vista_a.base"
   ]
  },
  {
   "cell_type": "code",
   "execution_count": null,
   "metadata": {},
   "outputs": [
    {
     "name": "stdout",
     "output_type": "stream",
     "text": [
      "2140694831232\n",
      "2140694915632\n",
      "2140694831232\n"
     ]
    }
   ],
   "source": [
    "## verificamos ids\n",
    "print(id(array_base))\n",
    "print(id(array_vista_a))\n",
    "print(id(array_vista_a.base))"
   ]
  },
  {
   "cell_type": "markdown",
   "metadata": {},
   "source": [
    "## Matrices"
   ]
  },
  {
   "cell_type": "code",
   "execution_count": null,
   "metadata": {},
   "outputs": [
    {
     "data": {
      "text/plain": [
       "array([[1, 1, 1, 1, 1],\n",
       "       [2, 2, 2, 2, 2],\n",
       "       [3, 3, 3, 3, 3]])"
      ]
     },
     "execution_count": 124,
     "metadata": {},
     "output_type": "execute_result"
    }
   ],
   "source": [
    "## crear una matriz 3, 5\n",
    "matriz=np.array([\n",
    "    np.ones(5),\n",
    "    np.full(5,2),\n",
    "    np.full(5,3)\n",
    "], dtype=np.int)\n",
    "matriz"
   ]
  },
  {
   "cell_type": "code",
   "execution_count": null,
   "metadata": {},
   "outputs": [
    {
     "data": {
      "text/plain": [
       "2"
      ]
     },
     "execution_count": 125,
     "metadata": {},
     "output_type": "execute_result"
    }
   ],
   "source": [
    "## saber el tamaño de la matriz\n",
    "matriz.ndim"
   ]
  },
  {
   "cell_type": "code",
   "execution_count": null,
   "metadata": {},
   "outputs": [
    {
     "data": {
      "text/plain": [
       "(3, 5)"
      ]
     },
     "execution_count": 127,
     "metadata": {},
     "output_type": "execute_result"
    }
   ],
   "source": [
    "## saber los indices de la matriz\n",
    "matriz.shape"
   ]
  },
  {
   "cell_type": "code",
   "execution_count": null,
   "metadata": {},
   "outputs": [
    {
     "data": {
      "text/plain": [
       "array([[0.02552143, 0.02552143, 0.02552143, 0.02552143, 0.02552143],\n",
       "       [0.05104286, 0.05104286, 0.05104286, 0.05104286, 0.05104286],\n",
       "       [0.0765643 , 0.0765643 , 0.0765643 , 0.0765643 , 0.0765643 ]])"
      ]
     },
     "execution_count": 137,
     "metadata": {},
     "output_type": "execute_result"
    }
   ],
   "source": [
    "matriz=matriz*np.random.rand()\n",
    "matriz"
   ]
  },
  {
   "cell_type": "code",
   "execution_count": null,
   "metadata": {},
   "outputs": [
    {
     "data": {
      "text/plain": [
       "array([0.02552143, 0.05104286, 0.0765643 ])"
      ]
     },
     "execution_count": 138,
     "metadata": {},
     "output_type": "execute_result"
    }
   ],
   "source": [
    "## obtener la columna 3\n",
    "columna_3=matriz[:,2]\n",
    "columna_3"
   ]
  },
  {
   "cell_type": "code",
   "execution_count": null,
   "metadata": {},
   "outputs": [
    {
     "data": {
      "text/plain": [
       "array([0.02552143, 0.05104286])"
      ]
     },
     "execution_count": 140,
     "metadata": {},
     "output_type": "execute_result"
    }
   ],
   "source": [
    "## obtener dos filas de la columna 3\n",
    "matriz[:2, 2]"
   ]
  },
  {
   "cell_type": "code",
   "execution_count": null,
   "metadata": {},
   "outputs": [
    {
     "data": {
      "text/plain": [
       "array([0.0765643, 0.0765643, 0.0765643, 0.0765643, 0.0765643])"
      ]
     },
     "execution_count": 143,
     "metadata": {},
     "output_type": "execute_result"
    }
   ],
   "source": [
    "# obtener los datos de la fila 2\n",
    "matriz[2,:]"
   ]
  },
  {
   "cell_type": "code",
   "execution_count": null,
   "metadata": {},
   "outputs": [
    {
     "data": {
      "text/plain": [
       "array([0.0765643, 0.0765643])"
      ]
     },
     "execution_count": 145,
     "metadata": {},
     "output_type": "execute_result"
    }
   ],
   "source": [
    "#obtener los datos de la fila 3 los ultimos dos datos\n",
    "matriz[2, :2]"
   ]
  },
  {
   "cell_type": "markdown",
   "metadata": {},
   "source": [
    "## Metodos de agreción"
   ]
  },
  {
   "cell_type": "code",
   "execution_count": null,
   "metadata": {},
   "outputs": [
    {
     "data": {
      "text/plain": [
       "array([[  1,   2,   3,   4,   5],\n",
       "       [ 10,  20,  30,  40,  50],\n",
       "       [100, 200, 300, 400, 500]])"
      ]
     },
     "execution_count": 159,
     "metadata": {},
     "output_type": "execute_result"
    }
   ],
   "source": [
    "## creamos una matriz\n",
    "matriz=np.array([\n",
    "    np.arange(1,6),\n",
    "    np.arange(1,6),\n",
    "    np.arange(1,6)\n",
    "])\n",
    "matriz[1,:]=matriz[1, :]*10\n",
    "matriz[2, :]=matriz[2, :]*100\n",
    "matriz"
   ]
  },
  {
   "cell_type": "code",
   "execution_count": null,
   "metadata": {},
   "outputs": [
    {
     "data": {
      "text/plain": [
       "157.21323099535866"
      ]
     },
     "execution_count": 162,
     "metadata": {},
     "output_type": "execute_result"
    }
   ],
   "source": [
    "## para saber la desviacion estandar de una matriz\n",
    "desviacion_estandar=matriz.std()\n",
    "desviacion_estandar"
   ]
  },
  {
   "cell_type": "code",
   "execution_count": null,
   "metadata": {},
   "outputs": [
    {
     "data": {
      "text/plain": [
       "1665"
      ]
     },
     "execution_count": 165,
     "metadata": {},
     "output_type": "execute_result"
    }
   ],
   "source": [
    "## para sumar todos los valores\n",
    "suma=matriz.sum()\n",
    "suma"
   ]
  },
  {
   "cell_type": "code",
   "execution_count": null,
   "metadata": {},
   "outputs": [
    {
     "data": {
      "text/plain": [
       "1"
      ]
     },
     "execution_count": 166,
     "metadata": {},
     "output_type": "execute_result"
    }
   ],
   "source": [
    "## el número menor\n",
    "numero_menor=matriz.min()\n",
    "numero_menor"
   ]
  },
  {
   "cell_type": "code",
   "execution_count": null,
   "metadata": {},
   "outputs": [
    {
     "data": {
      "text/plain": [
       "500"
      ]
     },
     "execution_count": 168,
     "metadata": {},
     "output_type": "execute_result"
    }
   ],
   "source": [
    "## numero más grande\n",
    "numero_mayor=matriz.max()\n",
    "numero_mayor"
   ]
  },
  {
   "cell_type": "code",
   "execution_count": null,
   "metadata": {},
   "outputs": [
    {
     "data": {
      "text/plain": [
       "111.0"
      ]
     },
     "execution_count": 170,
     "metadata": {},
     "output_type": "execute_result"
    }
   ],
   "source": [
    "## obtener el promedio de los datos\n",
    "promedio=matriz.mean()\n",
    "promedio"
   ]
  },
  {
   "cell_type": "code",
   "execution_count": null,
   "metadata": {},
   "outputs": [
    {
     "data": {
      "text/plain": [
       "3.0"
      ]
     },
     "execution_count": 176,
     "metadata": {},
     "output_type": "execute_result"
    }
   ],
   "source": [
    "## promedio de la primera fila\n",
    "matriz[0,:].mean()"
   ]
  },
  {
   "cell_type": "code",
   "execution_count": null,
   "metadata": {},
   "outputs": [
    {
     "data": {
      "text/plain": [
       "555"
      ]
     },
     "execution_count": 175,
     "metadata": {},
     "output_type": "execute_result"
    }
   ],
   "source": [
    "## sumar la ultima columna\n",
    "matriz[:, -1].sum()"
   ]
  },
  {
   "cell_type": "code",
   "execution_count": null,
   "metadata": {},
   "outputs": [
    {
     "data": {
      "text/plain": [
       "33"
      ]
     },
     "execution_count": 179,
     "metadata": {},
     "output_type": "execute_result"
    }
   ],
   "source": [
    "## sumar la posicion 1 1, 1 2, 2,1, 2,2\n",
    "matriz[:2, :2].sum()\n"
   ]
  },
  {
   "cell_type": "markdown",
   "metadata": {},
   "source": [
    "## Transposición"
   ]
  },
  {
   "cell_type": "markdown",
   "metadata": {},
   "source": [
    "se refiere al intercambio de filas por columnas creando un matriz transpuesta"
   ]
  },
  {
   "cell_type": "code",
   "execution_count": null,
   "metadata": {},
   "outputs": [
    {
     "data": {
      "text/plain": [
       "array([[[3, 4],\n",
       "        [8, 1],\n",
       "        [9, 9]],\n",
       "\n",
       "       [[1, 5],\n",
       "        [6, 2],\n",
       "        [9, 1]],\n",
       "\n",
       "       [[4, 4],\n",
       "        [8, 8],\n",
       "        [3, 0]],\n",
       "\n",
       "       [[8, 7],\n",
       "        [9, 3],\n",
       "        [6, 2]]])"
      ]
     },
     "execution_count": 205,
     "metadata": {},
     "output_type": "execute_result"
    }
   ],
   "source": [
    "## crear una matris random\n",
    "matriz_random=np.random.randint(0, 10, size=(4,3,2))\n",
    "matriz_random"
   ]
  },
  {
   "cell_type": "code",
   "execution_count": null,
   "metadata": {},
   "outputs": [
    {
     "data": {
      "text/plain": [
       "(4, 3, 2)"
      ]
     },
     "execution_count": 206,
     "metadata": {},
     "output_type": "execute_result"
    }
   ],
   "source": [
    "## saber el tamaño de los ejes\n",
    "matriz_random.shape"
   ]
  },
  {
   "cell_type": "code",
   "execution_count": null,
   "metadata": {},
   "outputs": [
    {
     "data": {
      "text/plain": [
       "2"
      ]
     },
     "execution_count": 208,
     "metadata": {},
     "output_type": "execute_result"
    }
   ],
   "source": [
    "## saber el número de dimensiones\n",
    "matriz.ndim"
   ]
  },
  {
   "cell_type": "markdown",
   "metadata": {},
   "source": [
    "## Filtros y condiciones"
   ]
  },
  {
   "cell_type": "code",
   "execution_count": null,
   "metadata": {},
   "outputs": [
    {
     "data": {
      "text/plain": [
       "array([1.72006509, 8.99161461, 8.32076096, 9.67919029, 9.75150759,\n",
       "       1.78121779, 8.40100542, 7.02827138, 5.490507  , 3.92897241,\n",
       "       1.17843961, 4.53597741, 0.18898512, 9.61862751, 8.66190765,\n",
       "       8.81365372, 1.28644787, 4.57758613, 0.68721563, 7.57838728])"
      ]
     },
     "execution_count": 229,
     "metadata": {},
     "output_type": "execute_result"
    }
   ],
   "source": [
    "## crear una matriz random\n",
    "matriz_random=np.random.rand(20)*10\n",
    "matriz_random"
   ]
  },
  {
   "cell_type": "code",
   "execution_count": null,
   "metadata": {},
   "outputs": [
    {
     "data": {
      "text/plain": [
       "array([8.89563085, 7.10307245, 9.57318283])"
      ]
     },
     "execution_count": 226,
     "metadata": {},
     "output_type": "execute_result"
    }
   ],
   "source": [
    "## se pueden obtener datos con true y con falso solo devolvera una matriz en donde en esa posicion exista\n",
    "## el valor true\n",
    "## sintaxis: matriz[(condiciones)]\n",
    "matriz_random[(matriz_random>1)]"
   ]
  },
  {
   "cell_type": "code",
   "execution_count": null,
   "metadata": {},
   "outputs": [
    {
     "data": {
      "text/plain": [
       "array([8.89563085, 9.57318283])"
      ]
     },
     "execution_count": 228,
     "metadata": {},
     "output_type": "execute_result"
    }
   ],
   "source": [
    "## ejemplos de true y false\n",
    "matriz_random[[True, False, True]]"
   ]
  },
  {
   "cell_type": "code",
   "execution_count": null,
   "metadata": {},
   "outputs": [
    {
     "data": {
      "text/plain": [
       "array([8.99161461, 8.32076096, 9.67919029, 9.75150759, 8.40100542,\n",
       "       7.02827138, 9.61862751, 8.66190765, 8.81365372, 7.57838728])"
      ]
     },
     "execution_count": 232,
     "metadata": {},
     "output_type": "execute_result"
    }
   ],
   "source": [
    "## obtener las calificacione por encima del promedio\n",
    "promedio_calificaciones=matriz_random.mean()\n",
    "promedio_calificaciones\n",
    "calificaciones_mayores_al_promedio=matriz_random[(matriz_random>promedio_calificaciones)]\n",
    "calificaciones_mayores_al_promedio"
   ]
  },
  {
   "cell_type": "code",
   "execution_count": null,
   "metadata": {},
   "outputs": [
    {
     "data": {
      "text/plain": [
       "10"
      ]
     },
     "execution_count": 235,
     "metadata": {},
     "output_type": "execute_result"
    }
   ],
   "source": [
    "## número de alumnos mayores al promedio\n",
    "alumnos_mayores_al_promedio=calificaciones_mayores_al_promedio.size\n",
    "alumnos_mayores_al_promedio"
   ]
  },
  {
   "cell_type": "code",
   "execution_count": null,
   "metadata": {},
   "outputs": [
    {
     "data": {
      "text/plain": [
       "9.7515075871197"
      ]
     },
     "execution_count": 238,
     "metadata": {},
     "output_type": "execute_result"
    }
   ],
   "source": [
    "## saber la calificación más alta\n",
    "calificacion_mas_alta=matriz_random.max()\n",
    "calificacion_mas_alta"
   ]
  },
  {
   "cell_type": "code",
   "execution_count": null,
   "metadata": {},
   "outputs": [
    {
     "data": {
      "text/plain": [
       "0.18898512473969453"
      ]
     },
     "execution_count": 241,
     "metadata": {},
     "output_type": "execute_result"
    }
   ],
   "source": [
    "## calificacion minima\n",
    "calificacion_mas_baja=matriz_random.min()\n",
    "calificacion_mas_baja"
   ]
  },
  {
   "cell_type": "code",
   "execution_count": null,
   "metadata": {},
   "outputs": [
    {
     "data": {
      "text/plain": [
       "3.3809765053856404"
      ]
     },
     "execution_count": 243,
     "metadata": {},
     "output_type": "execute_result"
    }
   ],
   "source": [
    "## saber la desviación estandar\n",
    "desviacion_estandar=matriz_random.std()\n",
    "desviacion_estandar"
   ]
  },
  {
   "cell_type": "markdown",
   "metadata": {},
   "source": [
    "## Condiciones"
   ]
  },
  {
   "cell_type": "code",
   "execution_count": null,
   "metadata": {},
   "outputs": [
    {
     "name": "stdout",
     "output_type": "stream",
     "text": [
      "[ 1  2  3  4  5  6  7  8  9 10 11 12 13 14 15 16 17 18 19]\n"
     ]
    },
    {
     "data": {
      "text/plain": [
       "True"
      ]
     },
     "execution_count": 246,
     "metadata": {},
     "output_type": "execute_result"
    }
   ],
   "source": [
    "## saber si todos los elementos dentro del array cumplen con una condición\n",
    "## todos los elementos dentro del array deben dar True a la condición pasada\n",
    "## sintaxis: numpy.all((condicion operador_logico otra_condicion))\n",
    "## ejemplo:\n",
    "##creamos un array de ejemplo\n",
    "array=np.arange(1,20)\n",
    "print(array)\n",
    "## saber si todos los numeros son mayores a 0\n",
    "np.all(array>0)"
   ]
  },
  {
   "cell_type": "code",
   "execution_count": null,
   "metadata": {},
   "outputs": [
    {
     "data": {
      "text/plain": [
       "False"
      ]
     },
     "execution_count": 247,
     "metadata": {},
     "output_type": "execute_result"
    }
   ],
   "source": [
    "## todos los numeros son pares\n",
    "np.all(array%2==0)\n"
   ]
  },
  {
   "cell_type": "code",
   "execution_count": null,
   "metadata": {},
   "outputs": [
    {
     "data": {
      "text/plain": [
       "True"
      ]
     },
     "execution_count": 248,
     "metadata": {},
     "output_type": "execute_result"
    }
   ],
   "source": [
    "## numpy.any saber si existen elementos que cumplan la condición\n",
    "## si ningún elemento cumple con la condición retorna falso\n",
    "## saber si existe algun elemento que sea 1\n",
    "np.any(array==1)"
   ]
  },
  {
   "cell_type": "code",
   "execution_count": null,
   "metadata": {},
   "outputs": [
    {
     "data": {
      "text/plain": [
       "False"
      ]
     },
     "execution_count": 249,
     "metadata": {},
     "output_type": "execute_result"
    }
   ],
   "source": [
    "## saber si existe algún elemento el doble de grande que el promedio\n",
    "np.any(array>array.mean()*2)"
   ]
  },
  {
   "cell_type": "code",
   "execution_count": null,
   "metadata": {},
   "outputs": [
    {
     "data": {
      "text/plain": [
       "True"
      ]
     },
     "execution_count": 253,
     "metadata": {},
     "output_type": "execute_result"
    }
   ],
   "source": [
    "## saber si todos los numeros son mayores a 0\n",
    "np.all(array>0)"
   ]
  },
  {
   "cell_type": "code",
   "execution_count": null,
   "metadata": {},
   "outputs": [
    {
     "data": {
      "text/plain": [
       "False"
      ]
     },
     "execution_count": 252,
     "metadata": {},
     "output_type": "execute_result"
    }
   ],
   "source": [
    "## saber si existe un número mayor al promedio pero menor a 6\n",
    "np.any((array>array.mean()) & (array<5))"
   ]
  },
  {
   "cell_type": "markdown",
   "metadata": {},
   "source": [
    "## Funciones where y select"
   ]
  },
  {
   "cell_type": "markdown",
   "metadata": {},
   "source": [
    "Son instrucciones en base a condiciones podemos crear un array del mismo tamaño pero aplicando un nuevo tipo de datoa a la información de acuerdo a ala condición"
   ]
  },
  {
   "cell_type": "code",
   "execution_count": null,
   "metadata": {},
   "outputs": [
    {
     "data": {
      "text/plain": [
       "array([263, 106, 214, 218, 130, 104, 288, 297, 109, 172, 201, 234, 104,\n",
       "       259, 276, 281, 233, 119,  86, 223, 206, 223, 156, 237, 233, 265,\n",
       "       240,  90, 237, 142])"
      ]
     },
     "execution_count": 254,
     "metadata": {},
     "output_type": "execute_result"
    }
   ],
   "source": [
    "## where, esta se utiliza para hacer una condición y rellenar en el nuevo array esa posición\n",
    "## de acuerdo a si es falso o true\n",
    "## sintaxis: array.where(condicion, condicion_si, condicion_si_no)\n",
    "## ejemplo:\n",
    "## crear un array de iqs\n",
    "iqs=np.random.randint(60, 300, 30)\n",
    "iqs"
   ]
  },
  {
   "cell_type": "code",
   "execution_count": null,
   "metadata": {},
   "outputs": [
    {
     "data": {
      "text/plain": [
       "array(['listo', 'no tan listo', 'listo', 'listo', 'no tan listo',\n",
       "       'no tan listo', 'listo', 'listo', 'no tan listo', 'listo', 'listo',\n",
       "       'listo', 'no tan listo', 'listo', 'listo', 'listo', 'listo',\n",
       "       'no tan listo', 'no tan listo', 'listo', 'listo', 'listo', 'listo',\n",
       "       'listo', 'listo', 'listo', 'listo', 'no tan listo', 'listo',\n",
       "       'no tan listo'], dtype='<U12')"
      ]
     },
     "execution_count": 259,
     "metadata": {},
     "output_type": "execute_result"
    }
   ],
   "source": [
    "## si su iq es mayor a 100 poner es listo, si es menor, poner no tan listo\n",
    "np.where(iqs>150, \"listo\", \"no tan listo\")"
   ]
  },
  {
   "cell_type": "code",
   "execution_count": null,
   "metadata": {},
   "outputs": [
    {
     "data": {
      "text/plain": [
       "array(['por encima del promedio', 'menor o igual al promedio',\n",
       "       'por encima del promedio', 'por encima del promedio',\n",
       "       'menor o igual al promedio', 'menor o igual al promedio',\n",
       "       'por encima del promedio', 'por encima del promedio',\n",
       "       'menor o igual al promedio', 'menor o igual al promedio',\n",
       "       'por encima del promedio', 'por encima del promedio',\n",
       "       'menor o igual al promedio', 'por encima del promedio',\n",
       "       'por encima del promedio', 'por encima del promedio',\n",
       "       'por encima del promedio', 'menor o igual al promedio',\n",
       "       'menor o igual al promedio', 'por encima del promedio',\n",
       "       'por encima del promedio', 'por encima del promedio',\n",
       "       'menor o igual al promedio', 'por encima del promedio',\n",
       "       'por encima del promedio', 'por encima del promedio',\n",
       "       'por encima del promedio', 'menor o igual al promedio',\n",
       "       'por encima del promedio', 'menor o igual al promedio'],\n",
       "      dtype='<U25')"
      ]
     },
     "execution_count": 261,
     "metadata": {},
     "output_type": "execute_result"
    }
   ],
   "source": [
    "## poner por debajo del promedio si es menor o igual al promedio, por encima del promdio si es mayor al promedio\n",
    "np.where(iqs>iqs.mean(), \"por encima del promedio\", \"menor o igual al promedio\")"
   ]
  },
  {
   "cell_type": "code",
   "execution_count": null,
   "metadata": {},
   "outputs": [
    {
     "data": {
      "text/plain": [
       "array([263, 214, 218, 288, 297, 201, 234, 259, 276, 281, 233, 223, 206,\n",
       "       223, 237, 233, 265, 240, 237])"
      ]
     },
     "execution_count": 263,
     "metadata": {},
     "output_type": "execute_result"
    }
   ],
   "source": [
    "## todos los iqs por encima del promedio\n",
    "iqs[iqs>iqs.mean()]"
   ]
  },
  {
   "cell_type": "code",
   "execution_count": null,
   "metadata": {},
   "outputs": [
    {
     "data": {
      "text/plain": [
       "array([263, 214, 218, 288, 297, 201, 234, 259, 276, 281, 233, 223, 206,\n",
       "       223, 237, 233, 265, 240, 237])"
      ]
     },
     "execution_count": 267,
     "metadata": {},
     "output_type": "execute_result"
    }
   ],
   "source": [
    "## con where\n",
    "iqs[np.where(iqs>iqs.mean(), True, False)]"
   ]
  },
  {
   "cell_type": "code",
   "execution_count": null,
   "metadata": {},
   "outputs": [
    {
     "name": "stdout",
     "output_type": "stream",
     "text": [
      "[263 106 214 218 130 104 288 297 109 172 201 234 104 259 276 281 233 119\n",
      "  86 223 206 223 156 237 233 265 240  90 237 142]\n"
     ]
    },
    {
     "data": {
      "text/plain": [
       "array(['genio', 'normal', 'genio', 'genio', 'inteligente', 'normal',\n",
       "       'genio', 'genio', 'normal', 'genio', 'genio', 'genio', 'normal',\n",
       "       'genio', 'genio', 'genio', 'genio', 'normal', 'normal', 'genio',\n",
       "       'genio', 'genio', 'genio', 'genio', 'genio', 'genio', 'genio',\n",
       "       'normal', 'genio', 'genio'], dtype='<U11')"
      ]
     },
     "execution_count": 273,
     "metadata": {},
     "output_type": "execute_result"
    }
   ],
   "source": [
    "## select es para multiples opciones, diferentes respuestas para diferentes condiciones\n",
    "condiciones=[iqs>140, iqs>120, iqs>80, iqs>70, iqs<70]\n",
    "mensaje=[\"genio\", \"inteligente\", \"normal\", \"tonto\", \"muy tonto\"]\n",
    "print(iqs)\n",
    "np.select(condiciones, mensaje)"
   ]
  },
  {
   "cell_type": "markdown",
   "metadata": {},
   "source": [
    "## Guardar archivos"
   ]
  },
  {
   "cell_type": "code",
   "execution_count": null,
   "metadata": {},
   "outputs": [],
   "source": [
    "## guardar un arreglo en un archivo txt\n",
    "#creamos un arreglo\n",
    "array_a_guardar=np.random.randint(1,100,10)\n",
    "##guardar en un archivo\n",
    "##sintaxis: numpy.savetxt(nombre_archivo, array_a_guardar, smt=\"tipo_de_dato\")\n",
    "np.savetxt(\"datos.txt\", array_a_guardar, fmt=\"%f\")"
   ]
  },
  {
   "cell_type": "code",
   "execution_count": null,
   "metadata": {},
   "outputs": [],
   "source": [
    "## cargar archivo\n",
    "datos_cargados=np.loadtxt(\"datos.txt\")"
   ]
  },
  {
   "cell_type": "code",
   "execution_count": null,
   "metadata": {},
   "outputs": [
    {
     "data": {
      "text/plain": [
       "7.0"
      ]
     },
     "execution_count": 289,
     "metadata": {},
     "output_type": "execute_result"
    }
   ],
   "source": [
    "# %load datos.txt\n",
    "14.000000\n",
    "4.000000\n",
    "84.000000\n",
    "17.000000\n",
    "56.000000\n",
    "98.000000\n",
    "91.000000\n",
    "15.000000\n",
    "87.000000\n",
    "87.000000\n"
   ]
  },
  {
   "cell_type": "code",
   "execution_count": null,
   "metadata": {},
   "outputs": [
    {
     "data": {
      "text/plain": [
       "dtype('float64')"
      ]
     },
     "execution_count": 294,
     "metadata": {},
     "output_type": "execute_result"
    }
   ],
   "source": [
    "datos_cargados.dtype"
   ]
  },
  {
   "cell_type": "code",
   "execution_count": null,
   "metadata": {},
   "outputs": [
    {
     "data": {
      "text/plain": [
       "dtype('int32')"
      ]
     },
     "execution_count": 299,
     "metadata": {},
     "output_type": "execute_result"
    }
   ],
   "source": [
    "## datos cargados en tipo int\n",
    "datos_cargados_int=np.loadtxt(\"datos.txt\", dtype=np.int)\n",
    "datos_cargados_int.dtype"
   ]
  },
  {
   "cell_type": "code",
   "execution_count": null,
   "metadata": {},
   "outputs": [
    {
     "data": {
      "text/plain": [
       "array([[14,  4, 84, 17, 56],\n",
       "       [98, 91, 15, 87, 87]])"
      ]
     },
     "execution_count": 304,
     "metadata": {},
     "output_type": "execute_result"
    }
   ],
   "source": [
    "## redimensionar el array\n",
    "array_a_guardar=array_a_guardar.reshape((2,5))\n",
    "array_a_guardar"
   ]
  },
  {
   "cell_type": "code",
   "execution_count": null,
   "metadata": {},
   "outputs": [],
   "source": [
    "## guardar la informacion en un csv\n",
    "np.savetxt(\"datos.csv\", array_a_guardar, delimiter=\",\", fmt=\"%i\")"
   ]
  },
  {
   "cell_type": "code",
   "execution_count": null,
   "metadata": {},
   "outputs": [
    {
     "data": {
      "text/plain": [
       "array([[82, 36, 57, 77],\n",
       "       [91, 25, 11, 55]])"
      ]
     },
     "execution_count": 328,
     "metadata": {},
     "output_type": "execute_result"
    }
   ],
   "source": [
    "## guardar varios arrays\n",
    "matriz_a=np.random.randint(1,100, size=(2,4))\n",
    "matriz_a"
   ]
  },
  {
   "cell_type": "code",
   "execution_count": null,
   "metadata": {},
   "outputs": [],
   "source": [
    "## guardar matriz\n",
    "np.savetxt(\"matriz_a.csv\", matriz_a, delimiter=\",\", fmt=\"%i\")"
   ]
  },
  {
   "cell_type": "code",
   "execution_count": null,
   "metadata": {},
   "outputs": [
    {
     "data": {
      "text/plain": [
       "array([[82., 36., 57., 77.],\n",
       "       [91., 25., 11., 55.]])"
      ]
     },
     "execution_count": 331,
     "metadata": {},
     "output_type": "execute_result"
    }
   ],
   "source": [
    "## cargar csv\n",
    "matriz_a_cargada=np.loadtxt(\"matriz_a.csv\", delimiter=\",\", dtype=float)\n",
    "matriz_a_cargada"
   ]
  },
  {
   "cell_type": "code",
   "execution_count": null,
   "metadata": {},
   "outputs": [
    {
     "data": {
      "text/plain": [
       "array([ 1, 11, 21, 31, 41, 51, 61, 71, 81, 91])"
      ]
     },
     "execution_count": 333,
     "metadata": {},
     "output_type": "execute_result"
    }
   ],
   "source": [
    "## guardar en archivos binarios\n",
    "matriz_binaria=np.arange(1,100, 10)\n",
    "matriz_binaria"
   ]
  },
  {
   "cell_type": "code",
   "execution_count": null,
   "metadata": {},
   "outputs": [],
   "source": [
    "## guardar en un archivo binario\n",
    "## sintaxis numpy.save(\"nombre_archivo.npy\")\n",
    "np.save(\"archivo_binario.npy\",matriz_binaria)"
   ]
  },
  {
   "cell_type": "code",
   "execution_count": null,
   "metadata": {},
   "outputs": [
    {
     "data": {
      "text/plain": [
       "array([ 1, 11, 21, 31, 41, 51, 61, 71, 81, 91])"
      ]
     },
     "execution_count": 341,
     "metadata": {},
     "output_type": "execute_result"
    }
   ],
   "source": [
    "## cargar archivo binario\n",
    "## sintaxos: numpy.load(nombre_archivo.npy)\n",
    "matriz_binaria_cargada=np.load(\"archivo_binario.npy\")\n",
    "matriz_binaria_cargada"
   ]
  },
  {
   "cell_type": "markdown",
   "metadata": {},
   "source": [
    "## Modificar arreglos"
   ]
  },
  {
   "cell_type": "markdown",
   "metadata": {},
   "source": [
    "No se modifíca el arreglo oríginal, se crean otros apartir de esto"
   ]
  },
  {
   "cell_type": "code",
   "execution_count": null,
   "metadata": {},
   "outputs": [
    {
     "data": {
      "text/plain": [
       "array([100,   1,   2,   3,   4,   5,   6,   7,   8,   9])"
      ]
     },
     "execution_count": 344,
     "metadata": {},
     "output_type": "execute_result"
    }
   ],
   "source": [
    "## agregar un elemento en la posición asignada a un arreglo\n",
    "## sintaxis: np.insert(arreglo, valor, posición)\n",
    "## creamos un arreglo\n",
    "array=np.arange(1,10)\n",
    "np.insert(array, 0, 100)"
   ]
  },
  {
   "cell_type": "code",
   "execution_count": null,
   "metadata": {},
   "outputs": [
    {
     "data": {
      "text/plain": [
       "array([  1,   2,   3,   4,   5,   6,   7,   8,   9, 233])"
      ]
     },
     "execution_count": 345,
     "metadata": {},
     "output_type": "execute_result"
    }
   ],
   "source": [
    "## insertar un elemento al final del array\n",
    "np.append(array, 233)"
   ]
  },
  {
   "cell_type": "code",
   "execution_count": null,
   "metadata": {},
   "outputs": [
    {
     "data": {
      "text/plain": [
       "array([1, 2, 3, 4, 5, 6, 7, 8])"
      ]
     },
     "execution_count": 346,
     "metadata": {},
     "output_type": "execute_result"
    }
   ],
   "source": [
    "## eliminar un elemento de un array\n",
    "np.delete(array, -1)"
   ]
  },
  {
   "cell_type": "code",
   "execution_count": null,
   "metadata": {},
   "outputs": [
    {
     "data": {
      "text/plain": [
       "array([1, 2, 3, 4, 5, 6, 7, 8, 9, 1, 2, 3, 4, 5, 6, 7, 8, 9])"
      ]
     },
     "execution_count": 347,
     "metadata": {},
     "output_type": "execute_result"
    }
   ],
   "source": [
    "## unir dos arrays\n",
    "np.concatenate([np.arange(1,10), np.arange(1,10)])"
   ]
  },
  {
   "cell_type": "code",
   "execution_count": null,
   "metadata": {},
   "outputs": [
    {
     "name": "stdout",
     "output_type": "stream",
     "text": [
      "[1 2 3 4 5]\n"
     ]
    }
   ],
   "source": [
    "## cambiar el tamaño de un array\n",
    "array=np.arange(1,10)\n",
    "a=np.resize(array,5)\n",
    "print(a)\n"
   ]
  },
  {
   "cell_type": "markdown",
   "metadata": {},
   "source": [
    "## Ordenamiento"
   ]
  },
  {
   "cell_type": "markdown",
   "metadata": {},
   "source": [
    "Se ordenan los datos de menor a mayor no es posible ordenar de mayor a menor directamente"
   ]
  },
  {
   "cell_type": "code",
   "execution_count": 50,
   "metadata": {},
   "outputs": [
    {
     "data": {
      "text/plain": [
       "array([5, 5, 8, 2, 9, 8, 7, 9, 4, 6])"
      ]
     },
     "execution_count": 50,
     "metadata": {},
     "output_type": "execute_result"
    }
   ],
   "source": [
    "## creamos un arreglo\n",
    "array=np.random.randint(1,10, 10)\n",
    "array"
   ]
  },
  {
   "cell_type": "code",
   "execution_count": 51,
   "metadata": {},
   "outputs": [
    {
     "data": {
      "text/plain": [
       "array([2, 4, 5, 5, 6, 7, 8, 8, 9, 9])"
      ]
     },
     "execution_count": 51,
     "metadata": {},
     "output_type": "execute_result"
    }
   ],
   "source": [
    "# ordenamos los datos\n",
    "array.sort()\n",
    "array"
   ]
  },
  {
   "cell_type": "code",
   "execution_count": 59,
   "metadata": {},
   "outputs": [
    {
     "data": {
      "text/plain": [
       "array([9, 9, 8, 8, 7, 6, 5, 5, 4, 2])"
      ]
     },
     "execution_count": 59,
     "metadata": {},
     "output_type": "execute_result"
    }
   ],
   "source": [
    "# ordenar de manera descendente\n",
    "array=array[::-1]\n",
    "array"
   ]
  },
  {
   "cell_type": "code",
   "execution_count": 61,
   "metadata": {},
   "outputs": [
    {
     "data": {
      "text/plain": [
       "array([2, 4, 5, 5, 6, 7, 8, 8, 9, 9])"
      ]
     },
     "execution_count": 61,
     "metadata": {},
     "output_type": "execute_result"
    }
   ],
   "source": [
    "## ordenar los números\n",
    "array.sort()\n",
    "array"
   ]
  },
  {
   "cell_type": "code",
   "execution_count": 67,
   "metadata": {},
   "outputs": [
    {
     "name": "stdout",
     "output_type": "stream",
     "text": [
      "[52 98 66]\n",
      "[52 66 98]\n",
      "[98 66 52]\n"
     ]
    }
   ],
   "source": [
    "## para ordenar de mayor a menor primero se ordenan los datos\n",
    "array_desordenado=np.random.randint(1,100, 3)\n",
    "print(array_desordenado)\n",
    "## ordenamos el array\n",
    "array_desordenado.sort()\n",
    "array_ordenado_ascendente=array_desordenado\n",
    "print(array_ordenado_ascendente)\n",
    "## invertimos el array para que este ordenado de forma descendete\n",
    "array_ordenado_ascendente[::-1]\n",
    "array_ordenada_descendente=array_ordenado_ascendente[::-1]\n",
    "print(array_ordenada_descendente)"
   ]
  },
  {
   "cell_type": "code",
   "execution_count": 68,
   "metadata": {},
   "outputs": [
    {
     "name": "stdout",
     "output_type": "stream",
     "text": [
      "[64 71  5]\n",
      "[ 5 64 71]\n",
      "[71 64  5]\n"
     ]
    }
   ],
   "source": [
    "## lo mismo pero utilizando los metodos directamente desde numpy sin aplicar cambios al array\n",
    "\n",
    "## para ordenar de mayor a menor primero se ordenan los datos\n",
    "array_desordenado=np.random.randint(1,100, 3)\n",
    "print(array_desordenado)\n",
    "## ordenamos el array\n",
    "array_ordenado_ascendente=np.sort(array_desordenado)\n",
    "print(array_ordenado_ascendente)\n",
    "## invertimos el array para que este ordenado de forma descendete\n",
    "array_ordenada_descendente=array_ordenado_ascendente[::-1]\n",
    "print(array_ordenada_descendente)"
   ]
  },
  {
   "cell_type": "code",
   "execution_count": null,
   "metadata": {},
   "outputs": [],
   "source": []
  }
 ],
 "metadata": {
  "interpreter": {
   "hash": "e310ee305116be7a1f6c3fc36efd30b44e9b58a3d111aad7f613c214e7b9dffb"
  },
  "kernelspec": {
   "display_name": "Python 3.7.5 64-bit",
   "language": "python",
   "name": "python3"
  },
  "language_info": {
   "codemirror_mode": {
    "name": "ipython",
    "version": 3
   },
   "file_extension": ".py",
   "mimetype": "text/x-python",
   "name": "python",
   "nbconvert_exporter": "python",
   "pygments_lexer": "ipython3",
   "version": "3.7.5"
  },
  "orig_nbformat": 4
 },
 "nbformat": 4,
 "nbformat_minor": 2
}
