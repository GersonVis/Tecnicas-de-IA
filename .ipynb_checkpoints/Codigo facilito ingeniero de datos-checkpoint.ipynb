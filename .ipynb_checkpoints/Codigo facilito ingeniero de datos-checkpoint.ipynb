{
 "cells": [
  {
   "cell_type": "markdown",
   "id": "7ea7daf4",
   "metadata": {},
   "source": [
    "#Funciones magicas"
   ]
  },
  {
   "cell_type": "code",
   "execution_count": 2,
   "id": "7057c264",
   "metadata": {},
   "outputs": [],
   "source": [
    "full_name=\"gerson visoso ocampo\""
   ]
  },
  {
   "cell_type": "code",
   "execution_count": 8,
   "id": "30340f44",
   "metadata": {},
   "outputs": [
    {
     "name": "stdout",
     "output_type": "stream",
     "text": [
      "gerson visoso ocampo\n"
     ]
    }
   ],
   "source": [
    "print(full_name)"
   ]
  },
  {
   "cell_type": "code",
   "execution_count": null,
   "id": "5a57812c",
   "metadata": {},
   "outputs": [],
   "source": []
  }
 ],
 "metadata": {
  "kernelspec": {
   "display_name": "Python 3",
   "language": "python",
   "name": "python3"
  },
  "language_info": {
   "codemirror_mode": {
    "name": "ipython",
    "version": 3
   },
   "file_extension": ".py",
   "mimetype": "text/x-python",
   "name": "python",
   "nbconvert_exporter": "python",
   "pygments_lexer": "ipython3",
   "version": "3.9.7"
  }
 },
 "nbformat": 4,
 "nbformat_minor": 5
}
