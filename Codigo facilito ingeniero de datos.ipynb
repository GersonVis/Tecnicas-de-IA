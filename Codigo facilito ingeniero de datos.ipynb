{
 "cells": [
  {
   "cell_type": "markdown",
   "id": "6078341c",
   "metadata": {},
   "source": [
    "# Funciones utiles"
   ]
  },
  {
   "cell_type": "code",
   "execution_count": 6,
   "id": "3bac6365",
   "metadata": {},
   "outputs": [
    {
     "data": {
      "text/plain": [
       "'c:\\\\Users\\\\Golfa\\\\OneDrive\\\\Codigo facilito ingeniero de datos'"
      ]
     },
     "execution_count": 6,
     "metadata": {},
     "output_type": "execute_result"
    }
   ],
   "source": [
    "##comando para saber el directorio en donde estamos\n",
    "%pwd"
   ]
  },
  {
   "cell_type": "code",
   "execution_count": 7,
   "id": "3ed6d5b7",
   "metadata": {},
   "outputs": [
    {
     "name": "stdout",
     "output_type": "stream",
     "text": [
      "c:\\Users\\Golfa\\OneDrive\n"
     ]
    }
   ],
   "source": [
    "##cambio de directorio\n",
    "%cd .."
   ]
  },
  {
   "cell_type": "code",
   "execution_count": 8,
   "id": "1350142d",
   "metadata": {},
   "outputs": [
    {
     "name": "stdout",
     "output_type": "stream",
     "text": [
      " El volumen de la unidad C no tiene etiqueta.\n",
      " El n�mero de serie del volumen es: 1692-A940\n",
      "\n",
      " Directorio de c:\\Users\\Golfa\\OneDrive\n",
      "\n",
      "20/05/2022  09:56 p. m.    <DIR>          .\n",
      "20/05/2022  09:56 p. m.    <DIR>          ..\n",
      "20/05/2022  09:56 p. m.    <DIR>          .ipynb_checkpoints\n",
      "21/05/2022  09:39 a. m.    <DIR>          Codigo facilito ingeniero de datos\n",
      "               0 archivos              0 bytes\n",
      "               4 dirs  25,827,897,344 bytes libres\n"
     ]
    }
   ],
   "source": [
    "##listar contenido de la ruta\n",
    "%ls"
   ]
  },
  {
   "cell_type": "code",
   "execution_count": 9,
   "id": "395e455b",
   "metadata": {},
   "outputs": [],
   "source": [
    "##almacenar una ruta\n",
    "%bookmark actual"
   ]
  },
  {
   "cell_type": "code",
   "execution_count": 10,
   "id": "bbba1a9e",
   "metadata": {},
   "outputs": [
    {
     "name": "stdout",
     "output_type": "stream",
     "text": [
      "Current bookmarks:\n",
      "actual     -> c:\\Users\\Golfa\\OneDrive\n",
      "recordando -> C:\\Users\\Golfa\n"
     ]
    }
   ],
   "source": [
    "##listar rutas guardadas\n",
    "%bookmark -l"
   ]
  },
  {
   "cell_type": "code",
   "execution_count": 11,
   "id": "a90f8806",
   "metadata": {},
   "outputs": [
    {
     "name": "stdout",
     "output_type": "stream",
     "text": [
      "(bookmark:actual) -> c:\\Users\\Golfa\\OneDrive\n",
      "c:\\Users\\Golfa\\OneDrive\n"
     ]
    }
   ],
   "source": [
    "##movernos con las rutas guardadas\n",
    "%cd -b actual"
   ]
  },
  {
   "cell_type": "code",
   "execution_count": 12,
   "id": "3919b525",
   "metadata": {},
   "outputs": [
    {
     "name": "stdout",
     "output_type": "stream",
     "text": [
      "Stored 'variable_prueba' (str)\n"
     ]
    }
   ],
   "source": [
    "##guardar variables permanentes\n",
    "variable_prueba=\"contenido de prueba\"\n",
    "%store variable_prueba"
   ]
  },
  {
   "cell_type": "code",
   "execution_count": 13,
   "id": "14d7e692",
   "metadata": {},
   "outputs": [],
   "source": [
    "##restablecer variables\n",
    "%store -r"
   ]
  },
  {
   "cell_type": "code",
   "execution_count": 14,
   "id": "eb27dd44",
   "metadata": {},
   "outputs": [
    {
     "data": {
      "application/json": {
       "cell": {
        "!": "OSMagics",
        "HTML": "Other",
        "SVG": "Other",
        "bash": "Other",
        "capture": "ExecutionMagics",
        "cmd": "Other",
        "debug": "ExecutionMagics",
        "file": "Other",
        "html": "DisplayMagics",
        "javascript": "DisplayMagics",
        "js": "DisplayMagics",
        "latex": "DisplayMagics",
        "markdown": "DisplayMagics",
        "perl": "Other",
        "prun": "ExecutionMagics",
        "pypy": "Other",
        "python": "Other",
        "python2": "Other",
        "python3": "Other",
        "ruby": "Other",
        "script": "ScriptMagics",
        "sh": "Other",
        "svg": "DisplayMagics",
        "sx": "OSMagics",
        "system": "OSMagics",
        "time": "ExecutionMagics",
        "timeit": "ExecutionMagics",
        "writefile": "OSMagics"
       },
       "line": {
        "alias": "OSMagics",
        "alias_magic": "BasicMagics",
        "autoawait": "AsyncMagics",
        "autocall": "AutoMagics",
        "automagic": "AutoMagics",
        "autosave": "KernelMagics",
        "bookmark": "OSMagics",
        "cd": "OSMagics",
        "clear": "KernelMagics",
        "cls": "KernelMagics",
        "colors": "BasicMagics",
        "conda": "PackagingMagics",
        "config": "ConfigMagics",
        "connect_info": "KernelMagics",
        "copy": "Other",
        "ddir": "Other",
        "debug": "ExecutionMagics",
        "dhist": "OSMagics",
        "dirs": "OSMagics",
        "doctest_mode": "BasicMagics",
        "echo": "Other",
        "ed": "Other",
        "edit": "KernelMagics",
        "env": "OSMagics",
        "gui": "BasicMagics",
        "hist": "Other",
        "history": "HistoryMagics",
        "killbgscripts": "ScriptMagics",
        "ldir": "Other",
        "less": "KernelMagics",
        "load": "CodeMagics",
        "load_ext": "ExtensionMagics",
        "loadpy": "CodeMagics",
        "logoff": "LoggingMagics",
        "logon": "LoggingMagics",
        "logstart": "LoggingMagics",
        "logstate": "LoggingMagics",
        "logstop": "LoggingMagics",
        "ls": "Other",
        "lsmagic": "BasicMagics",
        "macro": "ExecutionMagics",
        "magic": "BasicMagics",
        "matplotlib": "PylabMagics",
        "mkdir": "Other",
        "more": "KernelMagics",
        "notebook": "BasicMagics",
        "page": "BasicMagics",
        "pastebin": "CodeMagics",
        "pdb": "ExecutionMagics",
        "pdef": "NamespaceMagics",
        "pdoc": "NamespaceMagics",
        "pfile": "NamespaceMagics",
        "pinfo": "NamespaceMagics",
        "pinfo2": "NamespaceMagics",
        "pip": "PackagingMagics",
        "popd": "OSMagics",
        "pprint": "BasicMagics",
        "precision": "BasicMagics",
        "prun": "ExecutionMagics",
        "psearch": "NamespaceMagics",
        "psource": "NamespaceMagics",
        "pushd": "OSMagics",
        "pwd": "OSMagics",
        "pycat": "OSMagics",
        "pylab": "PylabMagics",
        "qtconsole": "KernelMagics",
        "quickref": "BasicMagics",
        "recall": "HistoryMagics",
        "rehashx": "OSMagics",
        "reload_ext": "ExtensionMagics",
        "ren": "Other",
        "rep": "Other",
        "rerun": "HistoryMagics",
        "reset": "NamespaceMagics",
        "reset_selective": "NamespaceMagics",
        "rmdir": "Other",
        "run": "ExecutionMagics",
        "save": "CodeMagics",
        "sc": "OSMagics",
        "set_env": "OSMagics",
        "store": "StoreMagics",
        "sx": "OSMagics",
        "system": "OSMagics",
        "tb": "ExecutionMagics",
        "time": "ExecutionMagics",
        "timeit": "ExecutionMagics",
        "unalias": "OSMagics",
        "unload_ext": "ExtensionMagics",
        "who": "NamespaceMagics",
        "who_ls": "NamespaceMagics",
        "whos": "NamespaceMagics",
        "xdel": "NamespaceMagics",
        "xmode": "BasicMagics"
       }
      },
      "text/plain": [
       "Available line magics:\n",
       "%alias  %alias_magic  %autoawait  %autocall  %automagic  %autosave  %bookmark  %cd  %clear  %cls  %colors  %conda  %config  %connect_info  %copy  %ddir  %debug  %dhist  %dirs  %doctest_mode  %echo  %ed  %edit  %env  %gui  %hist  %history  %killbgscripts  %ldir  %less  %load  %load_ext  %loadpy  %logoff  %logon  %logstart  %logstate  %logstop  %ls  %lsmagic  %macro  %magic  %matplotlib  %mkdir  %more  %notebook  %page  %pastebin  %pdb  %pdef  %pdoc  %pfile  %pinfo  %pinfo2  %pip  %popd  %pprint  %precision  %prun  %psearch  %psource  %pushd  %pwd  %pycat  %pylab  %qtconsole  %quickref  %recall  %rehashx  %reload_ext  %ren  %rep  %rerun  %reset  %reset_selective  %rmdir  %run  %save  %sc  %set_env  %store  %sx  %system  %tb  %time  %timeit  %unalias  %unload_ext  %who  %who_ls  %whos  %xdel  %xmode\n",
       "\n",
       "Available cell magics:\n",
       "%%!  %%HTML  %%SVG  %%bash  %%capture  %%cmd  %%debug  %%file  %%html  %%javascript  %%js  %%latex  %%markdown  %%perl  %%prun  %%pypy  %%python  %%python2  %%python3  %%ruby  %%script  %%sh  %%svg  %%sx  %%system  %%time  %%timeit  %%writefile\n",
       "\n",
       "Automagic is ON, % prefix IS NOT needed for line magics."
      ]
     },
     "execution_count": 14,
     "metadata": {},
     "output_type": "execute_result"
    }
   ],
   "source": [
    "##listar los comandos almacenados\n",
    "%lsmagic"
   ]
  },
  {
   "cell_type": "code",
   "execution_count": 15,
   "id": "c4dcb685",
   "metadata": {},
   "outputs": [],
   "source": [
    "##pruebas"
   ]
  },
  {
   "cell_type": "code",
   "execution_count": 16,
   "id": "83d29962",
   "metadata": {},
   "outputs": [
    {
     "name": "stdout",
     "output_type": "stream",
     "text": [
      "C:\\Users\\Golfa\n"
     ]
    }
   ],
   "source": [
    "##saber nuestra ubicacion\n",
    "%cd"
   ]
  },
  {
   "cell_type": "code",
   "execution_count": 17,
   "id": "3a351f32",
   "metadata": {},
   "outputs": [],
   "source": [
    "#almacenar una ruta\n",
    "%bookmark recordando"
   ]
  },
  {
   "cell_type": "code",
   "execution_count": 18,
   "id": "41a7b291",
   "metadata": {},
   "outputs": [
    {
     "name": "stdout",
     "output_type": "stream",
     "text": [
      "Current bookmarks:\n",
      "actual     -> c:\\Users\\Golfa\\OneDrive\n",
      "recordando -> C:\\Users\\Golfa\n"
     ]
    }
   ],
   "source": [
    "##listar rutas guardadas\n",
    "%bookmark -l"
   ]
  },
  {
   "cell_type": "code",
   "execution_count": 19,
   "id": "ed262dbf",
   "metadata": {},
   "outputs": [
    {
     "name": "stdout",
     "output_type": "stream",
     "text": [
      "(bookmark:actual) -> c:\\Users\\Golfa\\OneDrive\n",
      "c:\\Users\\Golfa\\OneDrive\n"
     ]
    }
   ],
   "source": [
    "#regresar a una ruta guardada\n",
    "%cd -b actual"
   ]
  },
  {
   "cell_type": "code",
   "execution_count": 20,
   "id": "d466d95d",
   "metadata": {},
   "outputs": [
    {
     "name": "stdout",
     "output_type": "stream",
     "text": [
      " El volumen de la unidad C no tiene etiqueta.\n",
      " El n�mero de serie del volumen es: 1692-A940\n",
      "\n",
      " Directorio de c:\\Users\\Golfa\\OneDrive\n",
      "\n",
      "20/05/2022  09:56 p. m.    <DIR>          .\n",
      "20/05/2022  09:56 p. m.    <DIR>          ..\n",
      "20/05/2022  09:56 p. m.    <DIR>          .ipynb_checkpoints\n",
      "21/05/2022  09:39 a. m.    <DIR>          Codigo facilito ingeniero de datos\n",
      "               0 archivos              0 bytes\n",
      "               4 dirs  25,827,831,808 bytes libres\n"
     ]
    }
   ],
   "source": [
    "##ver los archivos guardados\n",
    "%ls"
   ]
  },
  {
   "cell_type": "markdown",
   "id": "db2cf77a",
   "metadata": {},
   "source": [
    "\n",
    "# introspección"
   ]
  },
  {
   "cell_type": "code",
   "execution_count": 21,
   "id": "f5cb5231",
   "metadata": {},
   "outputs": [],
   "source": [
    "##sirve para conocer más información de los datos o de las funciones declaradas, despliegua información\n",
    "##nos ayuda a obtener más información"
   ]
  },
  {
   "cell_type": "code",
   "execution_count": 22,
   "id": "1c189e75",
   "metadata": {},
   "outputs": [],
   "source": [
    "##Ejemplo\n",
    "##declaramos una función para después poder tener información de está funcion\n",
    "def sumar_dos_numeros(numero_a:int, numero_b:int)->int:\n",
    "    #suma dos números que son recividos como parametrós\n",
    "    return numero_a+numero_b"
   ]
  },
  {
   "cell_type": "code",
   "execution_count": 23,
   "id": "7cfe54da",
   "metadata": {},
   "outputs": [
    {
     "data": {
      "text/plain": [
       "15"
      ]
     },
     "execution_count": 23,
     "metadata": {},
     "output_type": "execute_result"
    }
   ],
   "source": [
    "##revisamos que la función funcione\n",
    "sumar_dos_numeros(5,10)"
   ]
  },
  {
   "cell_type": "code",
   "execution_count": 24,
   "id": "da499fc7",
   "metadata": {},
   "outputs": [
    {
     "name": "stdout",
     "output_type": "stream",
     "text": [
      "\u001b[1;31mSignature:\u001b[0m \u001b[0msumar_dos_numeros\u001b[0m\u001b[1;33m(\u001b[0m\u001b[0mnumero_a\u001b[0m\u001b[1;33m:\u001b[0m \u001b[0mint\u001b[0m\u001b[1;33m,\u001b[0m \u001b[0mnumero_b\u001b[0m\u001b[1;33m:\u001b[0m \u001b[0mint\u001b[0m\u001b[1;33m)\u001b[0m \u001b[1;33m->\u001b[0m \u001b[0mint\u001b[0m\u001b[1;33m\u001b[0m\u001b[1;33m\u001b[0m\u001b[0m\n",
      "\u001b[1;31mDocstring:\u001b[0m <no docstring>\n",
      "\u001b[1;31mFile:\u001b[0m      c:\\users\\golfa\\appdata\\local\\temp\\ipykernel_7352\\204315758.py\n",
      "\u001b[1;31mType:\u001b[0m      function\n"
     ]
    }
   ],
   "source": [
    "##obtenemos información de la función con el signo \"?\", nos despliega un cuadro de dialogo con la información\n",
    "sumar_dos_numeros?"
   ]
  },
  {
   "cell_type": "code",
   "execution_count": 25,
   "id": "7eb6265a",
   "metadata": {},
   "outputs": [
    {
     "name": "stdout",
     "output_type": "stream",
     "text": [
      "\u001b[1;31mType:\u001b[0m        str\n",
      "\u001b[1;31mString form:\u001b[0m contenido de prueba\n",
      "\u001b[1;31mLength:\u001b[0m      19\n",
      "\u001b[1;31mDocstring:\u001b[0m  \n",
      "str(object='') -> str\n",
      "str(bytes_or_buffer[, encoding[, errors]]) -> str\n",
      "\n",
      "Create a new string object from the given object. If encoding or\n",
      "errors is specified, then the object must expose a data buffer\n",
      "that will be decoded using the given encoding and error handler.\n",
      "Otherwise, returns the result of object.__str__() (if defined)\n",
      "or repr(object).\n",
      "encoding defaults to sys.getdefaultencoding().\n",
      "errors defaults to 'strict'.\n"
     ]
    }
   ],
   "source": [
    "##prueba con variables\n",
    "variable_prueba=\"contenido de prueba\"\n",
    "variable_prueba??"
   ]
  },
  {
   "cell_type": "markdown",
   "id": "ca45c518",
   "metadata": {},
   "source": [
    "## Manipulación de archivos"
   ]
  },
  {
   "cell_type": "code",
   "execution_count": 26,
   "id": "1547bc87",
   "metadata": {},
   "outputs": [
    {
     "name": "stdout",
     "output_type": "stream",
     "text": [
      "hola mundo\n"
     ]
    }
   ],
   "source": []
  }
 ],
 "metadata": {
  "interpreter": {
   "hash": "e310ee305116be7a1f6c3fc36efd30b44e9b58a3d111aad7f613c214e7b9dffb"
  },
  "kernelspec": {
   "display_name": "Python 3.7.5 64-bit",
   "language": "python",
   "name": "python3"
  },
  "language_info": {
   "codemirror_mode": {
    "name": "ipython",
    "version": 3
   },
   "file_extension": ".py",
   "mimetype": "text/x-python",
   "name": "python",
   "nbconvert_exporter": "python",
   "pygments_lexer": "ipython3",
   "version": "3.7.5"
  }
 },
 "nbformat": 4,
 "nbformat_minor": 5
}
